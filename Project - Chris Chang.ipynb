{
  "nbformat": 4,
  "nbformat_minor": 0,
  "metadata": {
    "colab": {
      "name": "BA870 Individual Project",
      "provenance": []
    },
    "kernelspec": {
      "name": "python3",
      "display_name": "Python 3"
    },
    "language_info": {
      "name": "python"
    }
  },
  "cells": [
    {
      "cell_type": "markdown",
      "metadata": {
        "id": "9QDN42JBoI8U"
      },
      "source": [
        "#BA870 - Individual Project\n",
        "\n",
        "#NAME: Christopher Chang\n"
      ]
    },
    {
      "cell_type": "markdown",
      "metadata": {
        "id": "aZ3dYlzkqSlE"
      },
      "source": [
        "# Import Packages"
      ]
    },
    {
      "cell_type": "code",
      "execution_count": null,
      "metadata": {
        "id": "5sB-1B_vpwf_"
      },
      "outputs": [],
      "source": [
        "import numpy as np\n",
        "import pandas as pd\n",
        "import seaborn as sns\n",
        "import matplotlib.pyplot as plt\n",
        "import seaborn as sns\n",
        "import statsmodels.api as sm\n",
        "from statsmodels.sandbox.regression.predstd import wls_prediction_std\n",
        "from scipy.stats.mstats import winsorize "
      ]
    },
    {
      "cell_type": "markdown",
      "source": [
        "# Part I: Determine Risk Exposures"
      ],
      "metadata": {
        "id": "xaX6BMDWEgNh"
      }
    },
    {
      "cell_type": "markdown",
      "metadata": {
        "id": "GCTS0BzTrH5v"
      },
      "source": [
        "### Upload Stock Return Data and Project Tickers \n",
        "\n"
      ]
    },
    {
      "cell_type": "code",
      "execution_count": null,
      "metadata": {
        "id": "WO0FSMHEpwiK"
      },
      "outputs": [],
      "source": [
        "df_ret = pd.read_csv('Project-2017-21-Returns.csv')\n",
        "df_tic = pd.read_csv('ProjectTickers.csv')"
      ]
    },
    {
      "cell_type": "code",
      "execution_count": null,
      "metadata": {
        "colab": {
          "base_uri": "https://localhost:8080/"
        },
        "id": "7yerVfTQqyKc",
        "outputId": "89a64ed4-8469-40ec-b813-c6e8af6f5c32"
      },
      "outputs": [
        {
          "output_type": "stream",
          "name": "stdout",
          "text": [
            "<class 'pandas.core.frame.DataFrame'>\n",
            "RangeIndex: 114715 entries, 0 to 114714\n",
            "Data columns (total 4 columns):\n",
            " #   Column  Non-Null Count   Dtype \n",
            "---  ------  --------------   ----- \n",
            " 0   PERMNO  114715 non-null  int64 \n",
            " 1   date    114715 non-null  int64 \n",
            " 2   TICKER  114653 non-null  object\n",
            " 3   RET     114700 non-null  object\n",
            "dtypes: int64(2), object(2)\n",
            "memory usage: 3.5+ MB\n"
          ]
        }
      ],
      "source": [
        "# There are missing values in the dataframe that needs to be dealt with \n",
        "df_ret.info()"
      ]
    },
    {
      "cell_type": "code",
      "source": [
        "# We will change RET variable to float format for later use in regression\n",
        "df_ret['RET'] = pd.to_numeric(df_ret['RET'],errors='coerce')"
      ],
      "metadata": {
        "id": "r87EJElEG7wp"
      },
      "execution_count": null,
      "outputs": []
    },
    {
      "cell_type": "code",
      "source": [
        "df_ret.info()"
      ],
      "metadata": {
        "colab": {
          "base_uri": "https://localhost:8080/"
        },
        "id": "UDP0v7W4a21L",
        "outputId": "4d0a04e3-a50b-4eab-bb1d-dd9faaa368be"
      },
      "execution_count": null,
      "outputs": [
        {
          "output_type": "stream",
          "name": "stdout",
          "text": [
            "<class 'pandas.core.frame.DataFrame'>\n",
            "RangeIndex: 114715 entries, 0 to 114714\n",
            "Data columns (total 4 columns):\n",
            " #   Column  Non-Null Count   Dtype  \n",
            "---  ------  --------------   -----  \n",
            " 0   PERMNO  114715 non-null  int64  \n",
            " 1   date    114715 non-null  int64  \n",
            " 2   TICKER  114653 non-null  object \n",
            " 3   RET     114629 non-null  float64\n",
            "dtypes: float64(1), int64(2), object(1)\n",
            "memory usage: 3.5+ MB\n"
          ]
        }
      ]
    },
    {
      "cell_type": "code",
      "source": [
        "# There are 1925 unique tickers in df_ret \n",
        "# but we want to match the 1886 unique tickers in the df_tic\n",
        "len(df_ret.TICKER.unique())"
      ],
      "metadata": {
        "colab": {
          "base_uri": "https://localhost:8080/"
        },
        "id": "_jGfNAZ2HeGt",
        "outputId": "52fe1bf1-9278-4b8b-dafc-b26bb39c0ee1"
      },
      "execution_count": null,
      "outputs": [
        {
          "output_type": "execute_result",
          "data": {
            "text/plain": [
              "1925"
            ]
          },
          "metadata": {},
          "execution_count": 199
        }
      ]
    },
    {
      "cell_type": "markdown",
      "source": [
        "### Merge df_tic and df_ret to get 1886 unique tickers "
      ],
      "metadata": {
        "id": "RMcbzjH5IOFe"
      }
    },
    {
      "cell_type": "code",
      "source": [
        "df_tic.head(2)"
      ],
      "metadata": {
        "colab": {
          "base_uri": "https://localhost:8080/",
          "height": 112
        },
        "id": "SALl7EqUH7NI",
        "outputId": "4b1a9ad8-54bd-4502-c145-ced49e492397"
      },
      "execution_count": null,
      "outputs": [
        {
          "output_type": "execute_result",
          "data": {
            "text/plain": [
              "  Ticker                  Name   RetYTD\n",
              "0      A  Agilent Technologies  -0.2080\n",
              "1     AA            Alcoa Corp   0.4731"
            ],
            "text/html": [
              "\n",
              "  <div id=\"df-de8d4fc2-c0c1-476f-b4bb-8444517fc7d4\">\n",
              "    <div class=\"colab-df-container\">\n",
              "      <div>\n",
              "<style scoped>\n",
              "    .dataframe tbody tr th:only-of-type {\n",
              "        vertical-align: middle;\n",
              "    }\n",
              "\n",
              "    .dataframe tbody tr th {\n",
              "        vertical-align: top;\n",
              "    }\n",
              "\n",
              "    .dataframe thead th {\n",
              "        text-align: right;\n",
              "    }\n",
              "</style>\n",
              "<table border=\"1\" class=\"dataframe\">\n",
              "  <thead>\n",
              "    <tr style=\"text-align: right;\">\n",
              "      <th></th>\n",
              "      <th>Ticker</th>\n",
              "      <th>Name</th>\n",
              "      <th>RetYTD</th>\n",
              "    </tr>\n",
              "  </thead>\n",
              "  <tbody>\n",
              "    <tr>\n",
              "      <th>0</th>\n",
              "      <td>A</td>\n",
              "      <td>Agilent Technologies</td>\n",
              "      <td>-0.2080</td>\n",
              "    </tr>\n",
              "    <tr>\n",
              "      <th>1</th>\n",
              "      <td>AA</td>\n",
              "      <td>Alcoa Corp</td>\n",
              "      <td>0.4731</td>\n",
              "    </tr>\n",
              "  </tbody>\n",
              "</table>\n",
              "</div>\n",
              "      <button class=\"colab-df-convert\" onclick=\"convertToInteractive('df-de8d4fc2-c0c1-476f-b4bb-8444517fc7d4')\"\n",
              "              title=\"Convert this dataframe to an interactive table.\"\n",
              "              style=\"display:none;\">\n",
              "        \n",
              "  <svg xmlns=\"http://www.w3.org/2000/svg\" height=\"24px\"viewBox=\"0 0 24 24\"\n",
              "       width=\"24px\">\n",
              "    <path d=\"M0 0h24v24H0V0z\" fill=\"none\"/>\n",
              "    <path d=\"M18.56 5.44l.94 2.06.94-2.06 2.06-.94-2.06-.94-.94-2.06-.94 2.06-2.06.94zm-11 1L8.5 8.5l.94-2.06 2.06-.94-2.06-.94L8.5 2.5l-.94 2.06-2.06.94zm10 10l.94 2.06.94-2.06 2.06-.94-2.06-.94-.94-2.06-.94 2.06-2.06.94z\"/><path d=\"M17.41 7.96l-1.37-1.37c-.4-.4-.92-.59-1.43-.59-.52 0-1.04.2-1.43.59L10.3 9.45l-7.72 7.72c-.78.78-.78 2.05 0 2.83L4 21.41c.39.39.9.59 1.41.59.51 0 1.02-.2 1.41-.59l7.78-7.78 2.81-2.81c.8-.78.8-2.07 0-2.86zM5.41 20L4 18.59l7.72-7.72 1.47 1.35L5.41 20z\"/>\n",
              "  </svg>\n",
              "      </button>\n",
              "      \n",
              "  <style>\n",
              "    .colab-df-container {\n",
              "      display:flex;\n",
              "      flex-wrap:wrap;\n",
              "      gap: 12px;\n",
              "    }\n",
              "\n",
              "    .colab-df-convert {\n",
              "      background-color: #E8F0FE;\n",
              "      border: none;\n",
              "      border-radius: 50%;\n",
              "      cursor: pointer;\n",
              "      display: none;\n",
              "      fill: #1967D2;\n",
              "      height: 32px;\n",
              "      padding: 0 0 0 0;\n",
              "      width: 32px;\n",
              "    }\n",
              "\n",
              "    .colab-df-convert:hover {\n",
              "      background-color: #E2EBFA;\n",
              "      box-shadow: 0px 1px 2px rgba(60, 64, 67, 0.3), 0px 1px 3px 1px rgba(60, 64, 67, 0.15);\n",
              "      fill: #174EA6;\n",
              "    }\n",
              "\n",
              "    [theme=dark] .colab-df-convert {\n",
              "      background-color: #3B4455;\n",
              "      fill: #D2E3FC;\n",
              "    }\n",
              "\n",
              "    [theme=dark] .colab-df-convert:hover {\n",
              "      background-color: #434B5C;\n",
              "      box-shadow: 0px 1px 3px 1px rgba(0, 0, 0, 0.15);\n",
              "      filter: drop-shadow(0px 1px 2px rgba(0, 0, 0, 0.3));\n",
              "      fill: #FFFFFF;\n",
              "    }\n",
              "  </style>\n",
              "\n",
              "      <script>\n",
              "        const buttonEl =\n",
              "          document.querySelector('#df-de8d4fc2-c0c1-476f-b4bb-8444517fc7d4 button.colab-df-convert');\n",
              "        buttonEl.style.display =\n",
              "          google.colab.kernel.accessAllowed ? 'block' : 'none';\n",
              "\n",
              "        async function convertToInteractive(key) {\n",
              "          const element = document.querySelector('#df-de8d4fc2-c0c1-476f-b4bb-8444517fc7d4');\n",
              "          const dataTable =\n",
              "            await google.colab.kernel.invokeFunction('convertToInteractive',\n",
              "                                                     [key], {});\n",
              "          if (!dataTable) return;\n",
              "\n",
              "          const docLinkHtml = 'Like what you see? Visit the ' +\n",
              "            '<a target=\"_blank\" href=https://colab.research.google.com/notebooks/data_table.ipynb>data table notebook</a>'\n",
              "            + ' to learn more about interactive tables.';\n",
              "          element.innerHTML = '';\n",
              "          dataTable['output_type'] = 'display_data';\n",
              "          await google.colab.output.renderOutput(dataTable, element);\n",
              "          const docLink = document.createElement('div');\n",
              "          docLink.innerHTML = docLinkHtml;\n",
              "          element.appendChild(docLink);\n",
              "        }\n",
              "      </script>\n",
              "    </div>\n",
              "  </div>\n",
              "  "
            ]
          },
          "metadata": {},
          "execution_count": 200
        }
      ]
    },
    {
      "cell_type": "code",
      "source": [
        "df_ret.rename(columns={'TICKER':'Ticker'}, inplace=True)\n",
        "df_ret.head(2)"
      ],
      "metadata": {
        "colab": {
          "base_uri": "https://localhost:8080/",
          "height": 112
        },
        "id": "n2fTDiBMIA-j",
        "outputId": "73cc98c8-4cbe-48c5-86bb-ffd920d8bab7"
      },
      "execution_count": null,
      "outputs": [
        {
          "output_type": "execute_result",
          "data": {
            "text/plain": [
              "   PERMNO      date Ticker       RET\n",
              "0   10026  20170131   JJSF -0.043918\n",
              "1   10026  20170228   JJSF  0.048836"
            ],
            "text/html": [
              "\n",
              "  <div id=\"df-2a44e241-9417-4efc-9af5-24e3b281221b\">\n",
              "    <div class=\"colab-df-container\">\n",
              "      <div>\n",
              "<style scoped>\n",
              "    .dataframe tbody tr th:only-of-type {\n",
              "        vertical-align: middle;\n",
              "    }\n",
              "\n",
              "    .dataframe tbody tr th {\n",
              "        vertical-align: top;\n",
              "    }\n",
              "\n",
              "    .dataframe thead th {\n",
              "        text-align: right;\n",
              "    }\n",
              "</style>\n",
              "<table border=\"1\" class=\"dataframe\">\n",
              "  <thead>\n",
              "    <tr style=\"text-align: right;\">\n",
              "      <th></th>\n",
              "      <th>PERMNO</th>\n",
              "      <th>date</th>\n",
              "      <th>Ticker</th>\n",
              "      <th>RET</th>\n",
              "    </tr>\n",
              "  </thead>\n",
              "  <tbody>\n",
              "    <tr>\n",
              "      <th>0</th>\n",
              "      <td>10026</td>\n",
              "      <td>20170131</td>\n",
              "      <td>JJSF</td>\n",
              "      <td>-0.043918</td>\n",
              "    </tr>\n",
              "    <tr>\n",
              "      <th>1</th>\n",
              "      <td>10026</td>\n",
              "      <td>20170228</td>\n",
              "      <td>JJSF</td>\n",
              "      <td>0.048836</td>\n",
              "    </tr>\n",
              "  </tbody>\n",
              "</table>\n",
              "</div>\n",
              "      <button class=\"colab-df-convert\" onclick=\"convertToInteractive('df-2a44e241-9417-4efc-9af5-24e3b281221b')\"\n",
              "              title=\"Convert this dataframe to an interactive table.\"\n",
              "              style=\"display:none;\">\n",
              "        \n",
              "  <svg xmlns=\"http://www.w3.org/2000/svg\" height=\"24px\"viewBox=\"0 0 24 24\"\n",
              "       width=\"24px\">\n",
              "    <path d=\"M0 0h24v24H0V0z\" fill=\"none\"/>\n",
              "    <path d=\"M18.56 5.44l.94 2.06.94-2.06 2.06-.94-2.06-.94-.94-2.06-.94 2.06-2.06.94zm-11 1L8.5 8.5l.94-2.06 2.06-.94-2.06-.94L8.5 2.5l-.94 2.06-2.06.94zm10 10l.94 2.06.94-2.06 2.06-.94-2.06-.94-.94-2.06-.94 2.06-2.06.94z\"/><path d=\"M17.41 7.96l-1.37-1.37c-.4-.4-.92-.59-1.43-.59-.52 0-1.04.2-1.43.59L10.3 9.45l-7.72 7.72c-.78.78-.78 2.05 0 2.83L4 21.41c.39.39.9.59 1.41.59.51 0 1.02-.2 1.41-.59l7.78-7.78 2.81-2.81c.8-.78.8-2.07 0-2.86zM5.41 20L4 18.59l7.72-7.72 1.47 1.35L5.41 20z\"/>\n",
              "  </svg>\n",
              "      </button>\n",
              "      \n",
              "  <style>\n",
              "    .colab-df-container {\n",
              "      display:flex;\n",
              "      flex-wrap:wrap;\n",
              "      gap: 12px;\n",
              "    }\n",
              "\n",
              "    .colab-df-convert {\n",
              "      background-color: #E8F0FE;\n",
              "      border: none;\n",
              "      border-radius: 50%;\n",
              "      cursor: pointer;\n",
              "      display: none;\n",
              "      fill: #1967D2;\n",
              "      height: 32px;\n",
              "      padding: 0 0 0 0;\n",
              "      width: 32px;\n",
              "    }\n",
              "\n",
              "    .colab-df-convert:hover {\n",
              "      background-color: #E2EBFA;\n",
              "      box-shadow: 0px 1px 2px rgba(60, 64, 67, 0.3), 0px 1px 3px 1px rgba(60, 64, 67, 0.15);\n",
              "      fill: #174EA6;\n",
              "    }\n",
              "\n",
              "    [theme=dark] .colab-df-convert {\n",
              "      background-color: #3B4455;\n",
              "      fill: #D2E3FC;\n",
              "    }\n",
              "\n",
              "    [theme=dark] .colab-df-convert:hover {\n",
              "      background-color: #434B5C;\n",
              "      box-shadow: 0px 1px 3px 1px rgba(0, 0, 0, 0.15);\n",
              "      filter: drop-shadow(0px 1px 2px rgba(0, 0, 0, 0.3));\n",
              "      fill: #FFFFFF;\n",
              "    }\n",
              "  </style>\n",
              "\n",
              "      <script>\n",
              "        const buttonEl =\n",
              "          document.querySelector('#df-2a44e241-9417-4efc-9af5-24e3b281221b button.colab-df-convert');\n",
              "        buttonEl.style.display =\n",
              "          google.colab.kernel.accessAllowed ? 'block' : 'none';\n",
              "\n",
              "        async function convertToInteractive(key) {\n",
              "          const element = document.querySelector('#df-2a44e241-9417-4efc-9af5-24e3b281221b');\n",
              "          const dataTable =\n",
              "            await google.colab.kernel.invokeFunction('convertToInteractive',\n",
              "                                                     [key], {});\n",
              "          if (!dataTable) return;\n",
              "\n",
              "          const docLinkHtml = 'Like what you see? Visit the ' +\n",
              "            '<a target=\"_blank\" href=https://colab.research.google.com/notebooks/data_table.ipynb>data table notebook</a>'\n",
              "            + ' to learn more about interactive tables.';\n",
              "          element.innerHTML = '';\n",
              "          dataTable['output_type'] = 'display_data';\n",
              "          await google.colab.output.renderOutput(dataTable, element);\n",
              "          const docLink = document.createElement('div');\n",
              "          docLink.innerHTML = docLinkHtml;\n",
              "          element.appendChild(docLink);\n",
              "        }\n",
              "      </script>\n",
              "    </div>\n",
              "  </div>\n",
              "  "
            ]
          },
          "metadata": {},
          "execution_count": 201
        }
      ]
    },
    {
      "cell_type": "code",
      "source": [
        "# now we will do a left merge with df_tic on the left side\n",
        "\n",
        "df_ret = pd.merge(df_tic, df_ret, on = 'Ticker', how ='left')"
      ],
      "metadata": {
        "id": "N_E69WAmIGSa"
      },
      "execution_count": null,
      "outputs": []
    },
    {
      "cell_type": "code",
      "source": [
        "df_ret.head(2)"
      ],
      "metadata": {
        "colab": {
          "base_uri": "https://localhost:8080/",
          "height": 112
        },
        "id": "nNaEJ-BzJf7w",
        "outputId": "965989a5-5802-470f-951e-9abea79a0ef9"
      },
      "execution_count": null,
      "outputs": [
        {
          "output_type": "execute_result",
          "data": {
            "text/plain": [
              "  Ticker                  Name   RetYTD  PERMNO      date       RET\n",
              "0      A  Agilent Technologies   -0.208   87432  20170131  0.074846\n",
              "1      A  Agilent Technologies   -0.208   87432  20170228  0.047580"
            ],
            "text/html": [
              "\n",
              "  <div id=\"df-e2469077-7d0a-4045-8130-5769e6b4f1d3\">\n",
              "    <div class=\"colab-df-container\">\n",
              "      <div>\n",
              "<style scoped>\n",
              "    .dataframe tbody tr th:only-of-type {\n",
              "        vertical-align: middle;\n",
              "    }\n",
              "\n",
              "    .dataframe tbody tr th {\n",
              "        vertical-align: top;\n",
              "    }\n",
              "\n",
              "    .dataframe thead th {\n",
              "        text-align: right;\n",
              "    }\n",
              "</style>\n",
              "<table border=\"1\" class=\"dataframe\">\n",
              "  <thead>\n",
              "    <tr style=\"text-align: right;\">\n",
              "      <th></th>\n",
              "      <th>Ticker</th>\n",
              "      <th>Name</th>\n",
              "      <th>RetYTD</th>\n",
              "      <th>PERMNO</th>\n",
              "      <th>date</th>\n",
              "      <th>RET</th>\n",
              "    </tr>\n",
              "  </thead>\n",
              "  <tbody>\n",
              "    <tr>\n",
              "      <th>0</th>\n",
              "      <td>A</td>\n",
              "      <td>Agilent Technologies</td>\n",
              "      <td>-0.208</td>\n",
              "      <td>87432</td>\n",
              "      <td>20170131</td>\n",
              "      <td>0.074846</td>\n",
              "    </tr>\n",
              "    <tr>\n",
              "      <th>1</th>\n",
              "      <td>A</td>\n",
              "      <td>Agilent Technologies</td>\n",
              "      <td>-0.208</td>\n",
              "      <td>87432</td>\n",
              "      <td>20170228</td>\n",
              "      <td>0.047580</td>\n",
              "    </tr>\n",
              "  </tbody>\n",
              "</table>\n",
              "</div>\n",
              "      <button class=\"colab-df-convert\" onclick=\"convertToInteractive('df-e2469077-7d0a-4045-8130-5769e6b4f1d3')\"\n",
              "              title=\"Convert this dataframe to an interactive table.\"\n",
              "              style=\"display:none;\">\n",
              "        \n",
              "  <svg xmlns=\"http://www.w3.org/2000/svg\" height=\"24px\"viewBox=\"0 0 24 24\"\n",
              "       width=\"24px\">\n",
              "    <path d=\"M0 0h24v24H0V0z\" fill=\"none\"/>\n",
              "    <path d=\"M18.56 5.44l.94 2.06.94-2.06 2.06-.94-2.06-.94-.94-2.06-.94 2.06-2.06.94zm-11 1L8.5 8.5l.94-2.06 2.06-.94-2.06-.94L8.5 2.5l-.94 2.06-2.06.94zm10 10l.94 2.06.94-2.06 2.06-.94-2.06-.94-.94-2.06-.94 2.06-2.06.94z\"/><path d=\"M17.41 7.96l-1.37-1.37c-.4-.4-.92-.59-1.43-.59-.52 0-1.04.2-1.43.59L10.3 9.45l-7.72 7.72c-.78.78-.78 2.05 0 2.83L4 21.41c.39.39.9.59 1.41.59.51 0 1.02-.2 1.41-.59l7.78-7.78 2.81-2.81c.8-.78.8-2.07 0-2.86zM5.41 20L4 18.59l7.72-7.72 1.47 1.35L5.41 20z\"/>\n",
              "  </svg>\n",
              "      </button>\n",
              "      \n",
              "  <style>\n",
              "    .colab-df-container {\n",
              "      display:flex;\n",
              "      flex-wrap:wrap;\n",
              "      gap: 12px;\n",
              "    }\n",
              "\n",
              "    .colab-df-convert {\n",
              "      background-color: #E8F0FE;\n",
              "      border: none;\n",
              "      border-radius: 50%;\n",
              "      cursor: pointer;\n",
              "      display: none;\n",
              "      fill: #1967D2;\n",
              "      height: 32px;\n",
              "      padding: 0 0 0 0;\n",
              "      width: 32px;\n",
              "    }\n",
              "\n",
              "    .colab-df-convert:hover {\n",
              "      background-color: #E2EBFA;\n",
              "      box-shadow: 0px 1px 2px rgba(60, 64, 67, 0.3), 0px 1px 3px 1px rgba(60, 64, 67, 0.15);\n",
              "      fill: #174EA6;\n",
              "    }\n",
              "\n",
              "    [theme=dark] .colab-df-convert {\n",
              "      background-color: #3B4455;\n",
              "      fill: #D2E3FC;\n",
              "    }\n",
              "\n",
              "    [theme=dark] .colab-df-convert:hover {\n",
              "      background-color: #434B5C;\n",
              "      box-shadow: 0px 1px 3px 1px rgba(0, 0, 0, 0.15);\n",
              "      filter: drop-shadow(0px 1px 2px rgba(0, 0, 0, 0.3));\n",
              "      fill: #FFFFFF;\n",
              "    }\n",
              "  </style>\n",
              "\n",
              "      <script>\n",
              "        const buttonEl =\n",
              "          document.querySelector('#df-e2469077-7d0a-4045-8130-5769e6b4f1d3 button.colab-df-convert');\n",
              "        buttonEl.style.display =\n",
              "          google.colab.kernel.accessAllowed ? 'block' : 'none';\n",
              "\n",
              "        async function convertToInteractive(key) {\n",
              "          const element = document.querySelector('#df-e2469077-7d0a-4045-8130-5769e6b4f1d3');\n",
              "          const dataTable =\n",
              "            await google.colab.kernel.invokeFunction('convertToInteractive',\n",
              "                                                     [key], {});\n",
              "          if (!dataTable) return;\n",
              "\n",
              "          const docLinkHtml = 'Like what you see? Visit the ' +\n",
              "            '<a target=\"_blank\" href=https://colab.research.google.com/notebooks/data_table.ipynb>data table notebook</a>'\n",
              "            + ' to learn more about interactive tables.';\n",
              "          element.innerHTML = '';\n",
              "          dataTable['output_type'] = 'display_data';\n",
              "          await google.colab.output.renderOutput(dataTable, element);\n",
              "          const docLink = document.createElement('div');\n",
              "          docLink.innerHTML = docLinkHtml;\n",
              "          element.appendChild(docLink);\n",
              "        }\n",
              "      </script>\n",
              "    </div>\n",
              "  </div>\n",
              "  "
            ]
          },
          "metadata": {},
          "execution_count": 203
        }
      ]
    },
    {
      "cell_type": "code",
      "source": [
        "# now we have 1886 unique tickers in df_ret dataframe \n",
        "len(df_ret.Ticker.unique())"
      ],
      "metadata": {
        "colab": {
          "base_uri": "https://localhost:8080/"
        },
        "id": "9fdEXg0RIcgo",
        "outputId": "3471c3f5-4e3d-4382-eced-e23933811379"
      },
      "execution_count": null,
      "outputs": [
        {
          "output_type": "execute_result",
          "data": {
            "text/plain": [
              "1886"
            ]
          },
          "metadata": {},
          "execution_count": 204
        }
      ]
    },
    {
      "cell_type": "markdown",
      "source": [
        "### Check for missing values"
      ],
      "metadata": {
        "id": "qfNSiDD5IqZi"
      }
    },
    {
      "cell_type": "code",
      "source": [
        "# 11 missing in RET column \n",
        "\n",
        "df_ret.isna().sum()"
      ],
      "metadata": {
        "colab": {
          "base_uri": "https://localhost:8080/"
        },
        "id": "rQDTRQsQIsDf",
        "outputId": "9b0bb811-cd8c-4b19-860d-e7436467a9a6"
      },
      "execution_count": null,
      "outputs": [
        {
          "output_type": "execute_result",
          "data": {
            "text/plain": [
              "Ticker     0\n",
              "Name       0\n",
              "RetYTD     0\n",
              "PERMNO     0\n",
              "date       0\n",
              "RET       11\n",
              "dtype: int64"
            ]
          },
          "metadata": {},
          "execution_count": 205
        }
      ]
    },
    {
      "cell_type": "code",
      "source": [
        "# fill in missing values in RET column with median \n",
        "\n",
        "df_ret['RET'] = df_ret['RET'].fillna(df_ret['RET'].median())"
      ],
      "metadata": {
        "id": "ZsZaEdAjVdFF"
      },
      "execution_count": null,
      "outputs": []
    },
    {
      "cell_type": "markdown",
      "source": [
        "###Upload Fama-French monthly risk factor data"
      ],
      "metadata": {
        "id": "cM3VMqhihEb0"
      }
    },
    {
      "cell_type": "code",
      "source": [
        "ff_factors = pd.read_csv('FF-Factors-2017-2021.csv')"
      ],
      "metadata": {
        "id": "KycgIddRaklp"
      },
      "execution_count": null,
      "outputs": []
    },
    {
      "cell_type": "code",
      "source": [
        "ff_factors.info()"
      ],
      "metadata": {
        "colab": {
          "base_uri": "https://localhost:8080/"
        },
        "id": "V36ctGKharTP",
        "outputId": "98228153-6158-4dff-d8ab-0f8a30f27fbd"
      },
      "execution_count": null,
      "outputs": [
        {
          "output_type": "stream",
          "name": "stdout",
          "text": [
            "<class 'pandas.core.frame.DataFrame'>\n",
            "RangeIndex: 60 entries, 0 to 59\n",
            "Data columns (total 5 columns):\n",
            " #   Column  Non-Null Count  Dtype  \n",
            "---  ------  --------------  -----  \n",
            " 0   dateff  60 non-null     int64  \n",
            " 1   mktrf   60 non-null     float64\n",
            " 2   smb     60 non-null     float64\n",
            " 3   hml     60 non-null     float64\n",
            " 4   rf      60 non-null     float64\n",
            "dtypes: float64(4), int64(1)\n",
            "memory usage: 2.5 KB\n"
          ]
        }
      ]
    },
    {
      "cell_type": "code",
      "source": [
        "ff_factors.head(2)"
      ],
      "metadata": {
        "colab": {
          "base_uri": "https://localhost:8080/",
          "height": 112
        },
        "id": "e_X8Eg8fa7-R",
        "outputId": "2d04248b-2fe5-4026-d3d1-5b2d813bfb40"
      },
      "execution_count": null,
      "outputs": [
        {
          "output_type": "execute_result",
          "data": {
            "text/plain": [
              "     dateff   mktrf     smb     hml      rf\n",
              "0  20170131  0.0194 -0.0113 -0.0274  0.0004\n",
              "1  20170228  0.0357 -0.0204 -0.0167  0.0004"
            ],
            "text/html": [
              "\n",
              "  <div id=\"df-8e3f6b1a-016c-4d91-832c-03a8d525992c\">\n",
              "    <div class=\"colab-df-container\">\n",
              "      <div>\n",
              "<style scoped>\n",
              "    .dataframe tbody tr th:only-of-type {\n",
              "        vertical-align: middle;\n",
              "    }\n",
              "\n",
              "    .dataframe tbody tr th {\n",
              "        vertical-align: top;\n",
              "    }\n",
              "\n",
              "    .dataframe thead th {\n",
              "        text-align: right;\n",
              "    }\n",
              "</style>\n",
              "<table border=\"1\" class=\"dataframe\">\n",
              "  <thead>\n",
              "    <tr style=\"text-align: right;\">\n",
              "      <th></th>\n",
              "      <th>dateff</th>\n",
              "      <th>mktrf</th>\n",
              "      <th>smb</th>\n",
              "      <th>hml</th>\n",
              "      <th>rf</th>\n",
              "    </tr>\n",
              "  </thead>\n",
              "  <tbody>\n",
              "    <tr>\n",
              "      <th>0</th>\n",
              "      <td>20170131</td>\n",
              "      <td>0.0194</td>\n",
              "      <td>-0.0113</td>\n",
              "      <td>-0.0274</td>\n",
              "      <td>0.0004</td>\n",
              "    </tr>\n",
              "    <tr>\n",
              "      <th>1</th>\n",
              "      <td>20170228</td>\n",
              "      <td>0.0357</td>\n",
              "      <td>-0.0204</td>\n",
              "      <td>-0.0167</td>\n",
              "      <td>0.0004</td>\n",
              "    </tr>\n",
              "  </tbody>\n",
              "</table>\n",
              "</div>\n",
              "      <button class=\"colab-df-convert\" onclick=\"convertToInteractive('df-8e3f6b1a-016c-4d91-832c-03a8d525992c')\"\n",
              "              title=\"Convert this dataframe to an interactive table.\"\n",
              "              style=\"display:none;\">\n",
              "        \n",
              "  <svg xmlns=\"http://www.w3.org/2000/svg\" height=\"24px\"viewBox=\"0 0 24 24\"\n",
              "       width=\"24px\">\n",
              "    <path d=\"M0 0h24v24H0V0z\" fill=\"none\"/>\n",
              "    <path d=\"M18.56 5.44l.94 2.06.94-2.06 2.06-.94-2.06-.94-.94-2.06-.94 2.06-2.06.94zm-11 1L8.5 8.5l.94-2.06 2.06-.94-2.06-.94L8.5 2.5l-.94 2.06-2.06.94zm10 10l.94 2.06.94-2.06 2.06-.94-2.06-.94-.94-2.06-.94 2.06-2.06.94z\"/><path d=\"M17.41 7.96l-1.37-1.37c-.4-.4-.92-.59-1.43-.59-.52 0-1.04.2-1.43.59L10.3 9.45l-7.72 7.72c-.78.78-.78 2.05 0 2.83L4 21.41c.39.39.9.59 1.41.59.51 0 1.02-.2 1.41-.59l7.78-7.78 2.81-2.81c.8-.78.8-2.07 0-2.86zM5.41 20L4 18.59l7.72-7.72 1.47 1.35L5.41 20z\"/>\n",
              "  </svg>\n",
              "      </button>\n",
              "      \n",
              "  <style>\n",
              "    .colab-df-container {\n",
              "      display:flex;\n",
              "      flex-wrap:wrap;\n",
              "      gap: 12px;\n",
              "    }\n",
              "\n",
              "    .colab-df-convert {\n",
              "      background-color: #E8F0FE;\n",
              "      border: none;\n",
              "      border-radius: 50%;\n",
              "      cursor: pointer;\n",
              "      display: none;\n",
              "      fill: #1967D2;\n",
              "      height: 32px;\n",
              "      padding: 0 0 0 0;\n",
              "      width: 32px;\n",
              "    }\n",
              "\n",
              "    .colab-df-convert:hover {\n",
              "      background-color: #E2EBFA;\n",
              "      box-shadow: 0px 1px 2px rgba(60, 64, 67, 0.3), 0px 1px 3px 1px rgba(60, 64, 67, 0.15);\n",
              "      fill: #174EA6;\n",
              "    }\n",
              "\n",
              "    [theme=dark] .colab-df-convert {\n",
              "      background-color: #3B4455;\n",
              "      fill: #D2E3FC;\n",
              "    }\n",
              "\n",
              "    [theme=dark] .colab-df-convert:hover {\n",
              "      background-color: #434B5C;\n",
              "      box-shadow: 0px 1px 3px 1px rgba(0, 0, 0, 0.15);\n",
              "      filter: drop-shadow(0px 1px 2px rgba(0, 0, 0, 0.3));\n",
              "      fill: #FFFFFF;\n",
              "    }\n",
              "  </style>\n",
              "\n",
              "      <script>\n",
              "        const buttonEl =\n",
              "          document.querySelector('#df-8e3f6b1a-016c-4d91-832c-03a8d525992c button.colab-df-convert');\n",
              "        buttonEl.style.display =\n",
              "          google.colab.kernel.accessAllowed ? 'block' : 'none';\n",
              "\n",
              "        async function convertToInteractive(key) {\n",
              "          const element = document.querySelector('#df-8e3f6b1a-016c-4d91-832c-03a8d525992c');\n",
              "          const dataTable =\n",
              "            await google.colab.kernel.invokeFunction('convertToInteractive',\n",
              "                                                     [key], {});\n",
              "          if (!dataTable) return;\n",
              "\n",
              "          const docLinkHtml = 'Like what you see? Visit the ' +\n",
              "            '<a target=\"_blank\" href=https://colab.research.google.com/notebooks/data_table.ipynb>data table notebook</a>'\n",
              "            + ' to learn more about interactive tables.';\n",
              "          element.innerHTML = '';\n",
              "          dataTable['output_type'] = 'display_data';\n",
              "          await google.colab.output.renderOutput(dataTable, element);\n",
              "          const docLink = document.createElement('div');\n",
              "          docLink.innerHTML = docLinkHtml;\n",
              "          element.appendChild(docLink);\n",
              "        }\n",
              "      </script>\n",
              "    </div>\n",
              "  </div>\n",
              "  "
            ]
          },
          "metadata": {},
          "execution_count": 209
        }
      ]
    },
    {
      "cell_type": "code",
      "source": [
        "# Rename date column to \"date\" to match df_ret's \"date\" column\n",
        "\n",
        "ff_factors.rename(columns={'dateff':'date'}, inplace=True)\n",
        "ff_factors.head(3)"
      ],
      "metadata": {
        "colab": {
          "base_uri": "https://localhost:8080/",
          "height": 143
        },
        "id": "Fd-a7nNscWn4",
        "outputId": "76cb32b6-a274-43b1-ae04-b1ff75234ac6"
      },
      "execution_count": null,
      "outputs": [
        {
          "output_type": "execute_result",
          "data": {
            "text/plain": [
              "       date   mktrf     smb     hml      rf\n",
              "0  20170131  0.0194 -0.0113 -0.0274  0.0004\n",
              "1  20170228  0.0357 -0.0204 -0.0167  0.0004\n",
              "2  20170331  0.0017  0.0113 -0.0333  0.0003"
            ],
            "text/html": [
              "\n",
              "  <div id=\"df-db7e23c5-42a2-4867-92b9-c449581a23dd\">\n",
              "    <div class=\"colab-df-container\">\n",
              "      <div>\n",
              "<style scoped>\n",
              "    .dataframe tbody tr th:only-of-type {\n",
              "        vertical-align: middle;\n",
              "    }\n",
              "\n",
              "    .dataframe tbody tr th {\n",
              "        vertical-align: top;\n",
              "    }\n",
              "\n",
              "    .dataframe thead th {\n",
              "        text-align: right;\n",
              "    }\n",
              "</style>\n",
              "<table border=\"1\" class=\"dataframe\">\n",
              "  <thead>\n",
              "    <tr style=\"text-align: right;\">\n",
              "      <th></th>\n",
              "      <th>date</th>\n",
              "      <th>mktrf</th>\n",
              "      <th>smb</th>\n",
              "      <th>hml</th>\n",
              "      <th>rf</th>\n",
              "    </tr>\n",
              "  </thead>\n",
              "  <tbody>\n",
              "    <tr>\n",
              "      <th>0</th>\n",
              "      <td>20170131</td>\n",
              "      <td>0.0194</td>\n",
              "      <td>-0.0113</td>\n",
              "      <td>-0.0274</td>\n",
              "      <td>0.0004</td>\n",
              "    </tr>\n",
              "    <tr>\n",
              "      <th>1</th>\n",
              "      <td>20170228</td>\n",
              "      <td>0.0357</td>\n",
              "      <td>-0.0204</td>\n",
              "      <td>-0.0167</td>\n",
              "      <td>0.0004</td>\n",
              "    </tr>\n",
              "    <tr>\n",
              "      <th>2</th>\n",
              "      <td>20170331</td>\n",
              "      <td>0.0017</td>\n",
              "      <td>0.0113</td>\n",
              "      <td>-0.0333</td>\n",
              "      <td>0.0003</td>\n",
              "    </tr>\n",
              "  </tbody>\n",
              "</table>\n",
              "</div>\n",
              "      <button class=\"colab-df-convert\" onclick=\"convertToInteractive('df-db7e23c5-42a2-4867-92b9-c449581a23dd')\"\n",
              "              title=\"Convert this dataframe to an interactive table.\"\n",
              "              style=\"display:none;\">\n",
              "        \n",
              "  <svg xmlns=\"http://www.w3.org/2000/svg\" height=\"24px\"viewBox=\"0 0 24 24\"\n",
              "       width=\"24px\">\n",
              "    <path d=\"M0 0h24v24H0V0z\" fill=\"none\"/>\n",
              "    <path d=\"M18.56 5.44l.94 2.06.94-2.06 2.06-.94-2.06-.94-.94-2.06-.94 2.06-2.06.94zm-11 1L8.5 8.5l.94-2.06 2.06-.94-2.06-.94L8.5 2.5l-.94 2.06-2.06.94zm10 10l.94 2.06.94-2.06 2.06-.94-2.06-.94-.94-2.06-.94 2.06-2.06.94z\"/><path d=\"M17.41 7.96l-1.37-1.37c-.4-.4-.92-.59-1.43-.59-.52 0-1.04.2-1.43.59L10.3 9.45l-7.72 7.72c-.78.78-.78 2.05 0 2.83L4 21.41c.39.39.9.59 1.41.59.51 0 1.02-.2 1.41-.59l7.78-7.78 2.81-2.81c.8-.78.8-2.07 0-2.86zM5.41 20L4 18.59l7.72-7.72 1.47 1.35L5.41 20z\"/>\n",
              "  </svg>\n",
              "      </button>\n",
              "      \n",
              "  <style>\n",
              "    .colab-df-container {\n",
              "      display:flex;\n",
              "      flex-wrap:wrap;\n",
              "      gap: 12px;\n",
              "    }\n",
              "\n",
              "    .colab-df-convert {\n",
              "      background-color: #E8F0FE;\n",
              "      border: none;\n",
              "      border-radius: 50%;\n",
              "      cursor: pointer;\n",
              "      display: none;\n",
              "      fill: #1967D2;\n",
              "      height: 32px;\n",
              "      padding: 0 0 0 0;\n",
              "      width: 32px;\n",
              "    }\n",
              "\n",
              "    .colab-df-convert:hover {\n",
              "      background-color: #E2EBFA;\n",
              "      box-shadow: 0px 1px 2px rgba(60, 64, 67, 0.3), 0px 1px 3px 1px rgba(60, 64, 67, 0.15);\n",
              "      fill: #174EA6;\n",
              "    }\n",
              "\n",
              "    [theme=dark] .colab-df-convert {\n",
              "      background-color: #3B4455;\n",
              "      fill: #D2E3FC;\n",
              "    }\n",
              "\n",
              "    [theme=dark] .colab-df-convert:hover {\n",
              "      background-color: #434B5C;\n",
              "      box-shadow: 0px 1px 3px 1px rgba(0, 0, 0, 0.15);\n",
              "      filter: drop-shadow(0px 1px 2px rgba(0, 0, 0, 0.3));\n",
              "      fill: #FFFFFF;\n",
              "    }\n",
              "  </style>\n",
              "\n",
              "      <script>\n",
              "        const buttonEl =\n",
              "          document.querySelector('#df-db7e23c5-42a2-4867-92b9-c449581a23dd button.colab-df-convert');\n",
              "        buttonEl.style.display =\n",
              "          google.colab.kernel.accessAllowed ? 'block' : 'none';\n",
              "\n",
              "        async function convertToInteractive(key) {\n",
              "          const element = document.querySelector('#df-db7e23c5-42a2-4867-92b9-c449581a23dd');\n",
              "          const dataTable =\n",
              "            await google.colab.kernel.invokeFunction('convertToInteractive',\n",
              "                                                     [key], {});\n",
              "          if (!dataTable) return;\n",
              "\n",
              "          const docLinkHtml = 'Like what you see? Visit the ' +\n",
              "            '<a target=\"_blank\" href=https://colab.research.google.com/notebooks/data_table.ipynb>data table notebook</a>'\n",
              "            + ' to learn more about interactive tables.';\n",
              "          element.innerHTML = '';\n",
              "          dataTable['output_type'] = 'display_data';\n",
              "          await google.colab.output.renderOutput(dataTable, element);\n",
              "          const docLink = document.createElement('div');\n",
              "          docLink.innerHTML = docLinkHtml;\n",
              "          element.appendChild(docLink);\n",
              "        }\n",
              "      </script>\n",
              "    </div>\n",
              "  </div>\n",
              "  "
            ]
          },
          "metadata": {},
          "execution_count": 210
        }
      ]
    },
    {
      "cell_type": "markdown",
      "source": [
        "### Put all tickers into a list"
      ],
      "metadata": {
        "id": "x1MuCfO84JE8"
      }
    },
    {
      "cell_type": "code",
      "source": [
        "tics = df_ret.Ticker.unique().tolist()\n",
        "len(tics)"
      ],
      "metadata": {
        "colab": {
          "base_uri": "https://localhost:8080/"
        },
        "id": "Gnb-yUOtpUV3",
        "outputId": "97b050a3-5329-4956-ef6e-d711633999d2"
      },
      "execution_count": null,
      "outputs": [
        {
          "output_type": "execute_result",
          "data": {
            "text/plain": [
              "1886"
            ]
          },
          "metadata": {},
          "execution_count": 211
        }
      ]
    },
    {
      "cell_type": "markdown",
      "source": [
        "### Make empty dataframe with ticker, mktrf, smb, and hml variables"
      ],
      "metadata": {
        "id": "ZB1hNb3p4VVx"
      }
    },
    {
      "cell_type": "code",
      "source": [
        "final = pd.DataFrame(columns = ['TICKER', 'R-squared','Adj.R-squared','alpha','mktrf','smb','hml'])"
      ],
      "metadata": {
        "id": "I_iq5bALIr2t"
      },
      "execution_count": null,
      "outputs": []
    },
    {
      "cell_type": "markdown",
      "source": [
        "## Risk Regression"
      ],
      "metadata": {
        "id": "ANHDkrFKiBx_"
      }
    },
    {
      "cell_type": "markdown",
      "source": [
        "### Create for loop that loops through all tickers and merges each ticker dataset with the Fama-French monthly risk factor data, then constructing regressions for each ticker dataset and appending elements from the regression into the empty dataframe created above"
      ],
      "metadata": {
        "id": "zPp8nzPz4lVk"
      }
    },
    {
      "cell_type": "code",
      "source": [
        "# for loop that loops through all tickers\n",
        "for i in tics:\n",
        "  data_all = df_ret[df_ret['Ticker'] == i] \n",
        "  merged_data = pd.merge(data_all, ff_factors, on = 'date', how ='outer')\n",
        "\n",
        "  # Regression\n",
        "  y = merged_data['RET'] - merged_data['rf']\n",
        "  X = merged_data[['mktrf','smb','hml']]\n",
        "  X = sm.add_constant(X) # adding a constant \n",
        "  model = sm.OLS(y,X).fit()\n",
        "\n",
        "  # Extracting elements from OLS results.  \n",
        "  rsquared = model.rsquared\n",
        "  adj_rsquared = model.rsquared_adj\n",
        "  alpha = model.params['const']\n",
        "  mktrf = model.params['mktrf']\n",
        "  smb = model.params['smb']\n",
        "  hml = model.params['hml']\n",
        "  row = {'TICKER': i,'R-squared': rsquared, 'Adj.R-squared': adj_rsquared, \n",
        "         'alpha':alpha, 'mktrf':mktrf, 'smb':smb, 'hml':hml}\n",
        "\n",
        "  # Create dataframe and include extracted elements \n",
        "  final = final.append(row,ignore_index=True)   "
      ],
      "metadata": {
        "id": "fK_a8bH9qz7O",
        "colab": {
          "base_uri": "https://localhost:8080/"
        },
        "outputId": "ce58b44b-434f-4d7c-d42e-45155ad6823f"
      },
      "execution_count": null,
      "outputs": [
        {
          "output_type": "stream",
          "name": "stderr",
          "text": [
            "/usr/local/lib/python3.7/dist-packages/statsmodels/tsa/tsatools.py:117: FutureWarning: In a future version of pandas all arguments of concat except for the argument 'objs' will be keyword-only\n",
            "  x = pd.concat(x[::order], 1)\n"
          ]
        }
      ]
    },
    {
      "cell_type": "code",
      "source": [
        "# final data output \n",
        "final.info()"
      ],
      "metadata": {
        "id": "0hxxoaa2JaHF",
        "colab": {
          "base_uri": "https://localhost:8080/"
        },
        "outputId": "3bad954a-b68c-4434-f85e-17db4c902382"
      },
      "execution_count": null,
      "outputs": [
        {
          "output_type": "stream",
          "name": "stdout",
          "text": [
            "<class 'pandas.core.frame.DataFrame'>\n",
            "RangeIndex: 1886 entries, 0 to 1885\n",
            "Data columns (total 7 columns):\n",
            " #   Column         Non-Null Count  Dtype  \n",
            "---  ------         --------------  -----  \n",
            " 0   TICKER         1886 non-null   object \n",
            " 1   R-squared      1886 non-null   float64\n",
            " 2   Adj.R-squared  1886 non-null   float64\n",
            " 3   alpha          1886 non-null   float64\n",
            " 4   mktrf          1886 non-null   float64\n",
            " 5   smb            1886 non-null   float64\n",
            " 6   hml            1886 non-null   float64\n",
            "dtypes: float64(6), object(1)\n",
            "memory usage: 103.3+ KB\n"
          ]
        }
      ]
    },
    {
      "cell_type": "code",
      "source": [
        "final.isna().sum()"
      ],
      "metadata": {
        "id": "z4iXRqWJWaGe",
        "colab": {
          "base_uri": "https://localhost:8080/"
        },
        "outputId": "642096ec-eacb-4044-989e-8ce104e0dc33"
      },
      "execution_count": null,
      "outputs": [
        {
          "output_type": "execute_result",
          "data": {
            "text/plain": [
              "TICKER           0\n",
              "R-squared        0\n",
              "Adj.R-squared    0\n",
              "alpha            0\n",
              "mktrf            0\n",
              "smb              0\n",
              "hml              0\n",
              "dtype: int64"
            ]
          },
          "metadata": {},
          "execution_count": 215
        }
      ]
    },
    {
      "cell_type": "markdown",
      "source": [
        "## Check for outliers "
      ],
      "metadata": {
        "id": "cXyJoFrU_Wkj"
      }
    },
    {
      "cell_type": "code",
      "source": [
        "# min and max values are extreme indicating that there are outliers \n",
        "final.describe()"
      ],
      "metadata": {
        "colab": {
          "base_uri": "https://localhost:8080/",
          "height": 300
        },
        "id": "Fxako73WAsTm",
        "outputId": "8ee78458-a4a9-4828-e4ee-afe8ab95699d"
      },
      "execution_count": null,
      "outputs": [
        {
          "output_type": "execute_result",
          "data": {
            "text/plain": [
              "         R-squared  Adj.R-squared        alpha        mktrf          smb  \\\n",
              "count  1886.000000    1886.000000  1886.000000  1886.000000  1886.000000   \n",
              "mean      0.382127       0.349026     0.004178     1.065373     0.667262   \n",
              "std       0.185623       0.195567     0.017643     0.624564     1.232196   \n",
              "min       0.002022      -0.051441    -0.079578    -6.676723    -6.286219   \n",
              "25%       0.235846       0.194909    -0.003677     0.720385     0.016011   \n",
              "50%       0.380543       0.347358     0.002600     1.007568     0.501588   \n",
              "75%       0.516755       0.490867     0.009878     1.337691     1.019407   \n",
              "max       0.866154       0.858983     0.433986     6.002016    31.005941   \n",
              "\n",
              "               hml  \n",
              "count  1886.000000  \n",
              "mean      0.317243  \n",
              "std       0.699357  \n",
              "min      -3.593321  \n",
              "25%      -0.047773  \n",
              "50%       0.360752  \n",
              "75%       0.760726  \n",
              "max       5.919490  "
            ],
            "text/html": [
              "\n",
              "  <div id=\"df-e52140f0-9891-4142-9568-00ce222d9718\">\n",
              "    <div class=\"colab-df-container\">\n",
              "      <div>\n",
              "<style scoped>\n",
              "    .dataframe tbody tr th:only-of-type {\n",
              "        vertical-align: middle;\n",
              "    }\n",
              "\n",
              "    .dataframe tbody tr th {\n",
              "        vertical-align: top;\n",
              "    }\n",
              "\n",
              "    .dataframe thead th {\n",
              "        text-align: right;\n",
              "    }\n",
              "</style>\n",
              "<table border=\"1\" class=\"dataframe\">\n",
              "  <thead>\n",
              "    <tr style=\"text-align: right;\">\n",
              "      <th></th>\n",
              "      <th>R-squared</th>\n",
              "      <th>Adj.R-squared</th>\n",
              "      <th>alpha</th>\n",
              "      <th>mktrf</th>\n",
              "      <th>smb</th>\n",
              "      <th>hml</th>\n",
              "    </tr>\n",
              "  </thead>\n",
              "  <tbody>\n",
              "    <tr>\n",
              "      <th>count</th>\n",
              "      <td>1886.000000</td>\n",
              "      <td>1886.000000</td>\n",
              "      <td>1886.000000</td>\n",
              "      <td>1886.000000</td>\n",
              "      <td>1886.000000</td>\n",
              "      <td>1886.000000</td>\n",
              "    </tr>\n",
              "    <tr>\n",
              "      <th>mean</th>\n",
              "      <td>0.382127</td>\n",
              "      <td>0.349026</td>\n",
              "      <td>0.004178</td>\n",
              "      <td>1.065373</td>\n",
              "      <td>0.667262</td>\n",
              "      <td>0.317243</td>\n",
              "    </tr>\n",
              "    <tr>\n",
              "      <th>std</th>\n",
              "      <td>0.185623</td>\n",
              "      <td>0.195567</td>\n",
              "      <td>0.017643</td>\n",
              "      <td>0.624564</td>\n",
              "      <td>1.232196</td>\n",
              "      <td>0.699357</td>\n",
              "    </tr>\n",
              "    <tr>\n",
              "      <th>min</th>\n",
              "      <td>0.002022</td>\n",
              "      <td>-0.051441</td>\n",
              "      <td>-0.079578</td>\n",
              "      <td>-6.676723</td>\n",
              "      <td>-6.286219</td>\n",
              "      <td>-3.593321</td>\n",
              "    </tr>\n",
              "    <tr>\n",
              "      <th>25%</th>\n",
              "      <td>0.235846</td>\n",
              "      <td>0.194909</td>\n",
              "      <td>-0.003677</td>\n",
              "      <td>0.720385</td>\n",
              "      <td>0.016011</td>\n",
              "      <td>-0.047773</td>\n",
              "    </tr>\n",
              "    <tr>\n",
              "      <th>50%</th>\n",
              "      <td>0.380543</td>\n",
              "      <td>0.347358</td>\n",
              "      <td>0.002600</td>\n",
              "      <td>1.007568</td>\n",
              "      <td>0.501588</td>\n",
              "      <td>0.360752</td>\n",
              "    </tr>\n",
              "    <tr>\n",
              "      <th>75%</th>\n",
              "      <td>0.516755</td>\n",
              "      <td>0.490867</td>\n",
              "      <td>0.009878</td>\n",
              "      <td>1.337691</td>\n",
              "      <td>1.019407</td>\n",
              "      <td>0.760726</td>\n",
              "    </tr>\n",
              "    <tr>\n",
              "      <th>max</th>\n",
              "      <td>0.866154</td>\n",
              "      <td>0.858983</td>\n",
              "      <td>0.433986</td>\n",
              "      <td>6.002016</td>\n",
              "      <td>31.005941</td>\n",
              "      <td>5.919490</td>\n",
              "    </tr>\n",
              "  </tbody>\n",
              "</table>\n",
              "</div>\n",
              "      <button class=\"colab-df-convert\" onclick=\"convertToInteractive('df-e52140f0-9891-4142-9568-00ce222d9718')\"\n",
              "              title=\"Convert this dataframe to an interactive table.\"\n",
              "              style=\"display:none;\">\n",
              "        \n",
              "  <svg xmlns=\"http://www.w3.org/2000/svg\" height=\"24px\"viewBox=\"0 0 24 24\"\n",
              "       width=\"24px\">\n",
              "    <path d=\"M0 0h24v24H0V0z\" fill=\"none\"/>\n",
              "    <path d=\"M18.56 5.44l.94 2.06.94-2.06 2.06-.94-2.06-.94-.94-2.06-.94 2.06-2.06.94zm-11 1L8.5 8.5l.94-2.06 2.06-.94-2.06-.94L8.5 2.5l-.94 2.06-2.06.94zm10 10l.94 2.06.94-2.06 2.06-.94-2.06-.94-.94-2.06-.94 2.06-2.06.94z\"/><path d=\"M17.41 7.96l-1.37-1.37c-.4-.4-.92-.59-1.43-.59-.52 0-1.04.2-1.43.59L10.3 9.45l-7.72 7.72c-.78.78-.78 2.05 0 2.83L4 21.41c.39.39.9.59 1.41.59.51 0 1.02-.2 1.41-.59l7.78-7.78 2.81-2.81c.8-.78.8-2.07 0-2.86zM5.41 20L4 18.59l7.72-7.72 1.47 1.35L5.41 20z\"/>\n",
              "  </svg>\n",
              "      </button>\n",
              "      \n",
              "  <style>\n",
              "    .colab-df-container {\n",
              "      display:flex;\n",
              "      flex-wrap:wrap;\n",
              "      gap: 12px;\n",
              "    }\n",
              "\n",
              "    .colab-df-convert {\n",
              "      background-color: #E8F0FE;\n",
              "      border: none;\n",
              "      border-radius: 50%;\n",
              "      cursor: pointer;\n",
              "      display: none;\n",
              "      fill: #1967D2;\n",
              "      height: 32px;\n",
              "      padding: 0 0 0 0;\n",
              "      width: 32px;\n",
              "    }\n",
              "\n",
              "    .colab-df-convert:hover {\n",
              "      background-color: #E2EBFA;\n",
              "      box-shadow: 0px 1px 2px rgba(60, 64, 67, 0.3), 0px 1px 3px 1px rgba(60, 64, 67, 0.15);\n",
              "      fill: #174EA6;\n",
              "    }\n",
              "\n",
              "    [theme=dark] .colab-df-convert {\n",
              "      background-color: #3B4455;\n",
              "      fill: #D2E3FC;\n",
              "    }\n",
              "\n",
              "    [theme=dark] .colab-df-convert:hover {\n",
              "      background-color: #434B5C;\n",
              "      box-shadow: 0px 1px 3px 1px rgba(0, 0, 0, 0.15);\n",
              "      filter: drop-shadow(0px 1px 2px rgba(0, 0, 0, 0.3));\n",
              "      fill: #FFFFFF;\n",
              "    }\n",
              "  </style>\n",
              "\n",
              "      <script>\n",
              "        const buttonEl =\n",
              "          document.querySelector('#df-e52140f0-9891-4142-9568-00ce222d9718 button.colab-df-convert');\n",
              "        buttonEl.style.display =\n",
              "          google.colab.kernel.accessAllowed ? 'block' : 'none';\n",
              "\n",
              "        async function convertToInteractive(key) {\n",
              "          const element = document.querySelector('#df-e52140f0-9891-4142-9568-00ce222d9718');\n",
              "          const dataTable =\n",
              "            await google.colab.kernel.invokeFunction('convertToInteractive',\n",
              "                                                     [key], {});\n",
              "          if (!dataTable) return;\n",
              "\n",
              "          const docLinkHtml = 'Like what you see? Visit the ' +\n",
              "            '<a target=\"_blank\" href=https://colab.research.google.com/notebooks/data_table.ipynb>data table notebook</a>'\n",
              "            + ' to learn more about interactive tables.';\n",
              "          element.innerHTML = '';\n",
              "          dataTable['output_type'] = 'display_data';\n",
              "          await google.colab.output.renderOutput(dataTable, element);\n",
              "          const docLink = document.createElement('div');\n",
              "          docLink.innerHTML = docLinkHtml;\n",
              "          element.appendChild(docLink);\n",
              "        }\n",
              "      </script>\n",
              "    </div>\n",
              "  </div>\n",
              "  "
            ]
          },
          "metadata": {},
          "execution_count": 216
        }
      ]
    },
    {
      "cell_type": "code",
      "source": [
        "# Check with boxplots \n",
        "col = ['mktrf', 'smb', 'hml']\n",
        "for i in col:\n",
        "  sns.boxplot(x=final[i])\n",
        "  plt.show()"
      ],
      "metadata": {
        "colab": {
          "base_uri": "https://localhost:8080/",
          "height": 803
        },
        "id": "SsUQwvvc_UDM",
        "outputId": "f9dab06e-9af2-47de-8d60-c09cef9d1397"
      },
      "execution_count": null,
      "outputs": [
        {
          "output_type": "display_data",
          "data": {
            "text/plain": [
              "<Figure size 432x288 with 1 Axes>"
            ],
            "image/png": "[encoded data removed]"
          },
          "metadata": {
            "needs_background": "light"
          }
        },
        {
          "output_type": "display_data",
          "data": {
            "text/plain": [
              "<Figure size 432x288 with 1 Axes>"
            ],
            "image/png": "[encoded data removed]"
          },
          "metadata": {
            "needs_background": "light"
          }
        },
        {
          "output_type": "display_data",
          "data": {
            "text/plain": [
              "<Figure size 432x288 with 1 Axes>"
            ],
            "image/png": "[encoded data removed]"
          },
          "metadata": {
            "needs_background": "light"
          }
        }
      ]
    },
    {
      "cell_type": "code",
      "source": [
        "# winsorize \n",
        "\n",
        "for i in col:\n",
        "  final[i] = winsorize(final[i], (0.01,0.01))"
      ],
      "metadata": {
        "id": "7XW0U7L2_qaC"
      },
      "execution_count": null,
      "outputs": []
    },
    {
      "cell_type": "code",
      "source": [
        "# re-plot \n",
        "\n",
        "for i in col:\n",
        "  sns.boxplot(x=final[i])\n",
        "  plt.show()"
      ],
      "metadata": {
        "colab": {
          "base_uri": "https://localhost:8080/",
          "height": 803
        },
        "id": "I7GOef3vBgxT",
        "outputId": "078abab0-ea1d-44ca-f9b3-10c2b0a31f47"
      },
      "execution_count": null,
      "outputs": [
        {
          "output_type": "display_data",
          "data": {
            "text/plain": [
              "<Figure size 432x288 with 1 Axes>"
            ],
            "image/png": "[encoded data removed]"
          },
          "metadata": {
            "needs_background": "light"
          }
        },
        {
          "output_type": "display_data",
          "data": {
            "text/plain": [
              "<Figure size 432x288 with 1 Axes>"
            ],
            "image/png": "[encoded data removed]"
          },
          "metadata": {
            "needs_background": "light"
          }
        },
        {
          "output_type": "display_data",
          "data": {
            "text/plain": [
              "<Figure size 432x288 with 1 Axes>"
            ],
            "image/png": "[encoded data removed]"
          },
          "metadata": {
            "needs_background": "light"
          }
        }
      ]
    },
    {
      "cell_type": "code",
      "source": [
        "# check min and max values \n",
        "# outliers are a lot less extreme \n",
        "\n",
        "final.describe()"
      ],
      "metadata": {
        "colab": {
          "base_uri": "https://localhost:8080/",
          "height": 300
        },
        "id": "_hwrT7jr_6Gw",
        "outputId": "72df9ee9-183e-4660-ea7b-16008a8e2811"
      },
      "execution_count": null,
      "outputs": [
        {
          "output_type": "execute_result",
          "data": {
            "text/plain": [
              "         R-squared  Adj.R-squared        alpha        mktrf          smb  \\\n",
              "count  1886.000000    1886.000000  1886.000000  1886.000000  1886.000000   \n",
              "mean      0.382127       0.349026     0.004178     1.066293     0.639361   \n",
              "std       0.185623       0.195567     0.017643     0.520908     0.908463   \n",
              "min       0.002022      -0.051441    -0.079578    -0.043130    -0.754144   \n",
              "25%       0.235846       0.194909    -0.003677     0.720385     0.016011   \n",
              "50%       0.380543       0.347358     0.002600     1.007568     0.501588   \n",
              "75%       0.516755       0.490867     0.009878     1.337691     1.019407   \n",
              "max       0.866154       0.858983     0.433986     2.745663     4.472427   \n",
              "\n",
              "               hml  \n",
              "count  1886.000000  \n",
              "mean      0.316616  \n",
              "std       0.651842  \n",
              "min      -1.650863  \n",
              "25%      -0.047773  \n",
              "50%       0.360752  \n",
              "75%       0.760726  \n",
              "max       1.863158  "
            ],
            "text/html": [
              "\n",
              "  <div id=\"df-4c9868fc-b4d8-4541-b227-963cc462ad61\">\n",
              "    <div class=\"colab-df-container\">\n",
              "      <div>\n",
              "<style scoped>\n",
              "    .dataframe tbody tr th:only-of-type {\n",
              "        vertical-align: middle;\n",
              "    }\n",
              "\n",
              "    .dataframe tbody tr th {\n",
              "        vertical-align: top;\n",
              "    }\n",
              "\n",
              "    .dataframe thead th {\n",
              "        text-align: right;\n",
              "    }\n",
              "</style>\n",
              "<table border=\"1\" class=\"dataframe\">\n",
              "  <thead>\n",
              "    <tr style=\"text-align: right;\">\n",
              "      <th></th>\n",
              "      <th>R-squared</th>\n",
              "      <th>Adj.R-squared</th>\n",
              "      <th>alpha</th>\n",
              "      <th>mktrf</th>\n",
              "      <th>smb</th>\n",
              "      <th>hml</th>\n",
              "    </tr>\n",
              "  </thead>\n",
              "  <tbody>\n",
              "    <tr>\n",
              "      <th>count</th>\n",
              "      <td>1886.000000</td>\n",
              "      <td>1886.000000</td>\n",
              "      <td>1886.000000</td>\n",
              "      <td>1886.000000</td>\n",
              "      <td>1886.000000</td>\n",
              "      <td>1886.000000</td>\n",
              "    </tr>\n",
              "    <tr>\n",
              "      <th>mean</th>\n",
              "      <td>0.382127</td>\n",
              "      <td>0.349026</td>\n",
              "      <td>0.004178</td>\n",
              "      <td>1.066293</td>\n",
              "      <td>0.639361</td>\n",
              "      <td>0.316616</td>\n",
              "    </tr>\n",
              "    <tr>\n",
              "      <th>std</th>\n",
              "      <td>0.185623</td>\n",
              "      <td>0.195567</td>\n",
              "      <td>0.017643</td>\n",
              "      <td>0.520908</td>\n",
              "      <td>0.908463</td>\n",
              "      <td>0.651842</td>\n",
              "    </tr>\n",
              "    <tr>\n",
              "      <th>min</th>\n",
              "      <td>0.002022</td>\n",
              "      <td>-0.051441</td>\n",
              "      <td>-0.079578</td>\n",
              "      <td>-0.043130</td>\n",
              "      <td>-0.754144</td>\n",
              "      <td>-1.650863</td>\n",
              "    </tr>\n",
              "    <tr>\n",
              "      <th>25%</th>\n",
              "      <td>0.235846</td>\n",
              "      <td>0.194909</td>\n",
              "      <td>-0.003677</td>\n",
              "      <td>0.720385</td>\n",
              "      <td>0.016011</td>\n",
              "      <td>-0.047773</td>\n",
              "    </tr>\n",
              "    <tr>\n",
              "      <th>50%</th>\n",
              "      <td>0.380543</td>\n",
              "      <td>0.347358</td>\n",
              "      <td>0.002600</td>\n",
              "      <td>1.007568</td>\n",
              "      <td>0.501588</td>\n",
              "      <td>0.360752</td>\n",
              "    </tr>\n",
              "    <tr>\n",
              "      <th>75%</th>\n",
              "      <td>0.516755</td>\n",
              "      <td>0.490867</td>\n",
              "      <td>0.009878</td>\n",
              "      <td>1.337691</td>\n",
              "      <td>1.019407</td>\n",
              "      <td>0.760726</td>\n",
              "    </tr>\n",
              "    <tr>\n",
              "      <th>max</th>\n",
              "      <td>0.866154</td>\n",
              "      <td>0.858983</td>\n",
              "      <td>0.433986</td>\n",
              "      <td>2.745663</td>\n",
              "      <td>4.472427</td>\n",
              "      <td>1.863158</td>\n",
              "    </tr>\n",
              "  </tbody>\n",
              "</table>\n",
              "</div>\n",
              "      <button class=\"colab-df-convert\" onclick=\"convertToInteractive('df-4c9868fc-b4d8-4541-b227-963cc462ad61')\"\n",
              "              title=\"Convert this dataframe to an interactive table.\"\n",
              "              style=\"display:none;\">\n",
              "        \n",
              "  <svg xmlns=\"http://www.w3.org/2000/svg\" height=\"24px\"viewBox=\"0 0 24 24\"\n",
              "       width=\"24px\">\n",
              "    <path d=\"M0 0h24v24H0V0z\" fill=\"none\"/>\n",
              "    <path d=\"M18.56 5.44l.94 2.06.94-2.06 2.06-.94-2.06-.94-.94-2.06-.94 2.06-2.06.94zm-11 1L8.5 8.5l.94-2.06 2.06-.94-2.06-.94L8.5 2.5l-.94 2.06-2.06.94zm10 10l.94 2.06.94-2.06 2.06-.94-2.06-.94-.94-2.06-.94 2.06-2.06.94z\"/><path d=\"M17.41 7.96l-1.37-1.37c-.4-.4-.92-.59-1.43-.59-.52 0-1.04.2-1.43.59L10.3 9.45l-7.72 7.72c-.78.78-.78 2.05 0 2.83L4 21.41c.39.39.9.59 1.41.59.51 0 1.02-.2 1.41-.59l7.78-7.78 2.81-2.81c.8-.78.8-2.07 0-2.86zM5.41 20L4 18.59l7.72-7.72 1.47 1.35L5.41 20z\"/>\n",
              "  </svg>\n",
              "      </button>\n",
              "      \n",
              "  <style>\n",
              "    .colab-df-container {\n",
              "      display:flex;\n",
              "      flex-wrap:wrap;\n",
              "      gap: 12px;\n",
              "    }\n",
              "\n",
              "    .colab-df-convert {\n",
              "      background-color: #E8F0FE;\n",
              "      border: none;\n",
              "      border-radius: 50%;\n",
              "      cursor: pointer;\n",
              "      display: none;\n",
              "      fill: #1967D2;\n",
              "      height: 32px;\n",
              "      padding: 0 0 0 0;\n",
              "      width: 32px;\n",
              "    }\n",
              "\n",
              "    .colab-df-convert:hover {\n",
              "      background-color: #E2EBFA;\n",
              "      box-shadow: 0px 1px 2px rgba(60, 64, 67, 0.3), 0px 1px 3px 1px rgba(60, 64, 67, 0.15);\n",
              "      fill: #174EA6;\n",
              "    }\n",
              "\n",
              "    [theme=dark] .colab-df-convert {\n",
              "      background-color: #3B4455;\n",
              "      fill: #D2E3FC;\n",
              "    }\n",
              "\n",
              "    [theme=dark] .colab-df-convert:hover {\n",
              "      background-color: #434B5C;\n",
              "      box-shadow: 0px 1px 3px 1px rgba(0, 0, 0, 0.15);\n",
              "      filter: drop-shadow(0px 1px 2px rgba(0, 0, 0, 0.3));\n",
              "      fill: #FFFFFF;\n",
              "    }\n",
              "  </style>\n",
              "\n",
              "      <script>\n",
              "        const buttonEl =\n",
              "          document.querySelector('#df-4c9868fc-b4d8-4541-b227-963cc462ad61 button.colab-df-convert');\n",
              "        buttonEl.style.display =\n",
              "          google.colab.kernel.accessAllowed ? 'block' : 'none';\n",
              "\n",
              "        async function convertToInteractive(key) {\n",
              "          const element = document.querySelector('#df-4c9868fc-b4d8-4541-b227-963cc462ad61');\n",
              "          const dataTable =\n",
              "            await google.colab.kernel.invokeFunction('convertToInteractive',\n",
              "                                                     [key], {});\n",
              "          if (!dataTable) return;\n",
              "\n",
              "          const docLinkHtml = 'Like what you see? Visit the ' +\n",
              "            '<a target=\"_blank\" href=https://colab.research.google.com/notebooks/data_table.ipynb>data table notebook</a>'\n",
              "            + ' to learn more about interactive tables.';\n",
              "          element.innerHTML = '';\n",
              "          dataTable['output_type'] = 'display_data';\n",
              "          await google.colab.output.renderOutput(dataTable, element);\n",
              "          const docLink = document.createElement('div');\n",
              "          docLink.innerHTML = docLinkHtml;\n",
              "          element.appendChild(docLink);\n",
              "        }\n",
              "      </script>\n",
              "    </div>\n",
              "  </div>\n",
              "  "
            ]
          },
          "metadata": {},
          "execution_count": 220
        }
      ]
    },
    {
      "cell_type": "markdown",
      "source": [
        "### Turn final data into CSV format required in the project instructions"
      ],
      "metadata": {
        "id": "fTuDLE-C5XGS"
      }
    },
    {
      "cell_type": "code",
      "source": [
        "output = final.drop(['R-squared', 'Adj.R-squared', 'alpha'], axis = 1)"
      ],
      "metadata": {
        "id": "Hic_-K1WY9lv"
      },
      "execution_count": null,
      "outputs": []
    },
    {
      "cell_type": "code",
      "source": [
        "output.head(2)"
      ],
      "metadata": {
        "colab": {
          "base_uri": "https://localhost:8080/",
          "height": 112
        },
        "id": "Uh6g7SCSZLI2",
        "outputId": "ad539a9e-b5c7-4082-9d5c-3f32d0acd71a"
      },
      "execution_count": null,
      "outputs": [
        {
          "output_type": "execute_result",
          "data": {
            "text/plain": [
              "  TICKER     mktrf       smb       hml\n",
              "0      A  1.014152 -0.253674 -0.143608\n",
              "1     AA  1.984149  0.527862  1.863158"
            ],
            "text/html": [
              "\n",
              "  <div id=\"df-aa003235-a193-4b61-add5-4ffa39849b10\">\n",
              "    <div class=\"colab-df-container\">\n",
              "      <div>\n",
              "<style scoped>\n",
              "    .dataframe tbody tr th:only-of-type {\n",
              "        vertical-align: middle;\n",
              "    }\n",
              "\n",
              "    .dataframe tbody tr th {\n",
              "        vertical-align: top;\n",
              "    }\n",
              "\n",
              "    .dataframe thead th {\n",
              "        text-align: right;\n",
              "    }\n",
              "</style>\n",
              "<table border=\"1\" class=\"dataframe\">\n",
              "  <thead>\n",
              "    <tr style=\"text-align: right;\">\n",
              "      <th></th>\n",
              "      <th>TICKER</th>\n",
              "      <th>mktrf</th>\n",
              "      <th>smb</th>\n",
              "      <th>hml</th>\n",
              "    </tr>\n",
              "  </thead>\n",
              "  <tbody>\n",
              "    <tr>\n",
              "      <th>0</th>\n",
              "      <td>A</td>\n",
              "      <td>1.014152</td>\n",
              "      <td>-0.253674</td>\n",
              "      <td>-0.143608</td>\n",
              "    </tr>\n",
              "    <tr>\n",
              "      <th>1</th>\n",
              "      <td>AA</td>\n",
              "      <td>1.984149</td>\n",
              "      <td>0.527862</td>\n",
              "      <td>1.863158</td>\n",
              "    </tr>\n",
              "  </tbody>\n",
              "</table>\n",
              "</div>\n",
              "      <button class=\"colab-df-convert\" onclick=\"convertToInteractive('df-aa003235-a193-4b61-add5-4ffa39849b10')\"\n",
              "              title=\"Convert this dataframe to an interactive table.\"\n",
              "              style=\"display:none;\">\n",
              "        \n",
              "  <svg xmlns=\"http://www.w3.org/2000/svg\" height=\"24px\"viewBox=\"0 0 24 24\"\n",
              "       width=\"24px\">\n",
              "    <path d=\"M0 0h24v24H0V0z\" fill=\"none\"/>\n",
              "    <path d=\"M18.56 5.44l.94 2.06.94-2.06 2.06-.94-2.06-.94-.94-2.06-.94 2.06-2.06.94zm-11 1L8.5 8.5l.94-2.06 2.06-.94-2.06-.94L8.5 2.5l-.94 2.06-2.06.94zm10 10l.94 2.06.94-2.06 2.06-.94-2.06-.94-.94-2.06-.94 2.06-2.06.94z\"/><path d=\"M17.41 7.96l-1.37-1.37c-.4-.4-.92-.59-1.43-.59-.52 0-1.04.2-1.43.59L10.3 9.45l-7.72 7.72c-.78.78-.78 2.05 0 2.83L4 21.41c.39.39.9.59 1.41.59.51 0 1.02-.2 1.41-.59l7.78-7.78 2.81-2.81c.8-.78.8-2.07 0-2.86zM5.41 20L4 18.59l7.72-7.72 1.47 1.35L5.41 20z\"/>\n",
              "  </svg>\n",
              "      </button>\n",
              "      \n",
              "  <style>\n",
              "    .colab-df-container {\n",
              "      display:flex;\n",
              "      flex-wrap:wrap;\n",
              "      gap: 12px;\n",
              "    }\n",
              "\n",
              "    .colab-df-convert {\n",
              "      background-color: #E8F0FE;\n",
              "      border: none;\n",
              "      border-radius: 50%;\n",
              "      cursor: pointer;\n",
              "      display: none;\n",
              "      fill: #1967D2;\n",
              "      height: 32px;\n",
              "      padding: 0 0 0 0;\n",
              "      width: 32px;\n",
              "    }\n",
              "\n",
              "    .colab-df-convert:hover {\n",
              "      background-color: #E2EBFA;\n",
              "      box-shadow: 0px 1px 2px rgba(60, 64, 67, 0.3), 0px 1px 3px 1px rgba(60, 64, 67, 0.15);\n",
              "      fill: #174EA6;\n",
              "    }\n",
              "\n",
              "    [theme=dark] .colab-df-convert {\n",
              "      background-color: #3B4455;\n",
              "      fill: #D2E3FC;\n",
              "    }\n",
              "\n",
              "    [theme=dark] .colab-df-convert:hover {\n",
              "      background-color: #434B5C;\n",
              "      box-shadow: 0px 1px 3px 1px rgba(0, 0, 0, 0.15);\n",
              "      filter: drop-shadow(0px 1px 2px rgba(0, 0, 0, 0.3));\n",
              "      fill: #FFFFFF;\n",
              "    }\n",
              "  </style>\n",
              "\n",
              "      <script>\n",
              "        const buttonEl =\n",
              "          document.querySelector('#df-aa003235-a193-4b61-add5-4ffa39849b10 button.colab-df-convert');\n",
              "        buttonEl.style.display =\n",
              "          google.colab.kernel.accessAllowed ? 'block' : 'none';\n",
              "\n",
              "        async function convertToInteractive(key) {\n",
              "          const element = document.querySelector('#df-aa003235-a193-4b61-add5-4ffa39849b10');\n",
              "          const dataTable =\n",
              "            await google.colab.kernel.invokeFunction('convertToInteractive',\n",
              "                                                     [key], {});\n",
              "          if (!dataTable) return;\n",
              "\n",
              "          const docLinkHtml = 'Like what you see? Visit the ' +\n",
              "            '<a target=\"_blank\" href=https://colab.research.google.com/notebooks/data_table.ipynb>data table notebook</a>'\n",
              "            + ' to learn more about interactive tables.';\n",
              "          element.innerHTML = '';\n",
              "          dataTable['output_type'] = 'display_data';\n",
              "          await google.colab.output.renderOutput(dataTable, element);\n",
              "          const docLink = document.createElement('div');\n",
              "          docLink.innerHTML = docLinkHtml;\n",
              "          element.appendChild(docLink);\n",
              "        }\n",
              "      </script>\n",
              "    </div>\n",
              "  </div>\n",
              "  "
            ]
          },
          "metadata": {},
          "execution_count": 222
        }
      ]
    },
    {
      "cell_type": "code",
      "source": [
        "output.shape"
      ],
      "metadata": {
        "colab": {
          "base_uri": "https://localhost:8080/"
        },
        "id": "Icbd12faKOp3",
        "outputId": "600cd73d-5f49-4c99-c022-5f6681fe6816"
      },
      "execution_count": null,
      "outputs": [
        {
          "output_type": "execute_result",
          "data": {
            "text/plain": [
              "(1886, 4)"
            ]
          },
          "metadata": {},
          "execution_count": 223
        }
      ]
    },
    {
      "cell_type": "code",
      "source": [
        "# output to csv format based on project instructions \n",
        "\n",
        "# output.to_csv(\"FF-Exposures.csv\")"
      ],
      "metadata": {
        "id": "jUKm2EmS5UYz"
      },
      "execution_count": null,
      "outputs": []
    },
    {
      "cell_type": "markdown",
      "source": [
        "### Graphs for Presentation"
      ],
      "metadata": {
        "id": "kYX8BZSNr-YR"
      }
    },
    {
      "cell_type": "code",
      "source": [
        "figure = output.sample(10)"
      ],
      "metadata": {
        "id": "D6dv664ttwaB"
      },
      "execution_count": null,
      "outputs": []
    },
    {
      "cell_type": "code",
      "source": [
        "smb = figure.sort_values(by = 'smb')"
      ],
      "metadata": {
        "id": "HxGhUEhcvqa0"
      },
      "execution_count": null,
      "outputs": []
    },
    {
      "cell_type": "code",
      "source": [
        "mktrf = figure.sort_values(by = 'mktrf')"
      ],
      "metadata": {
        "id": "UZxJD-Clw-SJ"
      },
      "execution_count": null,
      "outputs": []
    },
    {
      "cell_type": "code",
      "source": [
        "hml = figure.sort_values(by = 'hml')"
      ],
      "metadata": {
        "id": "qpJyabZCw-Py"
      },
      "execution_count": null,
      "outputs": []
    },
    {
      "cell_type": "code",
      "source": [
        "sns.barplot(x = 'TICKER', y = 'smb', data = smb).set(title = 'Small Minus Big (SMB)')"
      ],
      "metadata": {
        "colab": {
          "base_uri": "https://localhost:8080/",
          "height": 313
        },
        "id": "8a4CZNJrsAoR",
        "outputId": "518bd2ce-bd75-4357-e193-d50555049e19"
      },
      "execution_count": null,
      "outputs": [
        {
          "output_type": "execute_result",
          "data": {
            "text/plain": [
              "[Text(0.5, 1.0, 'Small Minus Big (SMB)')]"
            ]
          },
          "metadata": {},
          "execution_count": 229
        },
        {
          "output_type": "display_data",
          "data": {
            "text/plain": [
              "<Figure size 432x288 with 1 Axes>"
            ],
            "image/png": "[encoded data removed]"
          },
          "metadata": {
            "needs_background": "light"
          }
        }
      ]
    },
    {
      "cell_type": "code",
      "source": [
        "sns.barplot(x = 'TICKER', y = 'mktrf', data = mktrf).set(title = 'Market Minus Riskfree (MKTRF)')"
      ],
      "metadata": {
        "colab": {
          "base_uri": "https://localhost:8080/",
          "height": 313
        },
        "id": "C3btANDLwvx_",
        "outputId": "101fd011-0bb7-4c08-ce9e-78f5e9d97c2f"
      },
      "execution_count": null,
      "outputs": [
        {
          "output_type": "execute_result",
          "data": {
            "text/plain": [
              "[Text(0.5, 1.0, 'Market Minus Riskfree (MKTRF)')]"
            ]
          },
          "metadata": {},
          "execution_count": 230
        },
        {
          "output_type": "display_data",
          "data": {
            "text/plain": [
              "<Figure size 432x288 with 1 Axes>"
            ],
            "image/png": "[encoded data removed]"
          },
          "metadata": {
            "needs_background": "light"
          }
        }
      ]
    },
    {
      "cell_type": "code",
      "source": [
        "sns.barplot(x = 'TICKER', y = 'hml', data = hml).set(title = 'High Minus Low (HML)')"
      ],
      "metadata": {
        "colab": {
          "base_uri": "https://localhost:8080/",
          "height": 313
        },
        "id": "t5IA1sH3wwrW",
        "outputId": "822813c5-66c2-4616-fdc4-315f26294d24"
      },
      "execution_count": null,
      "outputs": [
        {
          "output_type": "execute_result",
          "data": {
            "text/plain": [
              "[Text(0.5, 1.0, 'High Minus Low (HML)')]"
            ]
          },
          "metadata": {},
          "execution_count": 231
        },
        {
          "output_type": "display_data",
          "data": {
            "text/plain": [
              "<Figure size 432x288 with 1 Axes>"
            ],
            "image/png": "[encoded data removed]"
          },
          "metadata": {
            "needs_background": "light"
          }
        }
      ]
    },
    {
      "cell_type": "code",
      "source": [
        "final[final['TICKER'] == 'WHR']"
      ],
      "metadata": {
        "colab": {
          "base_uri": "https://localhost:8080/",
          "height": 81
        },
        "id": "ppVL_2YcF1_2",
        "outputId": "c4dcd363-8d67-496f-8565-a740e06da4ad"
      },
      "execution_count": null,
      "outputs": [
        {
          "output_type": "execute_result",
          "data": {
            "text/plain": [
              "     TICKER  R-squared  Adj.R-squared     alpha     mktrf       smb       hml\n",
              "1830    WHR   0.580464       0.557989 -0.006142  1.587596 -0.226335  0.713186"
            ],
            "text/html": [
              "\n",
              "  <div id=\"df-42058e32-c16b-4be8-9278-19d52bcfb305\">\n",
              "    <div class=\"colab-df-container\">\n",
              "      <div>\n",
              "<style scoped>\n",
              "    .dataframe tbody tr th:only-of-type {\n",
              "        vertical-align: middle;\n",
              "    }\n",
              "\n",
              "    .dataframe tbody tr th {\n",
              "        vertical-align: top;\n",
              "    }\n",
              "\n",
              "    .dataframe thead th {\n",
              "        text-align: right;\n",
              "    }\n",
              "</style>\n",
              "<table border=\"1\" class=\"dataframe\">\n",
              "  <thead>\n",
              "    <tr style=\"text-align: right;\">\n",
              "      <th></th>\n",
              "      <th>TICKER</th>\n",
              "      <th>R-squared</th>\n",
              "      <th>Adj.R-squared</th>\n",
              "      <th>alpha</th>\n",
              "      <th>mktrf</th>\n",
              "      <th>smb</th>\n",
              "      <th>hml</th>\n",
              "    </tr>\n",
              "  </thead>\n",
              "  <tbody>\n",
              "    <tr>\n",
              "      <th>1830</th>\n",
              "      <td>WHR</td>\n",
              "      <td>0.580464</td>\n",
              "      <td>0.557989</td>\n",
              "      <td>-0.006142</td>\n",
              "      <td>1.587596</td>\n",
              "      <td>-0.226335</td>\n",
              "      <td>0.713186</td>\n",
              "    </tr>\n",
              "  </tbody>\n",
              "</table>\n",
              "</div>\n",
              "      <button class=\"colab-df-convert\" onclick=\"convertToInteractive('df-42058e32-c16b-4be8-9278-19d52bcfb305')\"\n",
              "              title=\"Convert this dataframe to an interactive table.\"\n",
              "              style=\"display:none;\">\n",
              "        \n",
              "  <svg xmlns=\"http://www.w3.org/2000/svg\" height=\"24px\"viewBox=\"0 0 24 24\"\n",
              "       width=\"24px\">\n",
              "    <path d=\"M0 0h24v24H0V0z\" fill=\"none\"/>\n",
              "    <path d=\"M18.56 5.44l.94 2.06.94-2.06 2.06-.94-2.06-.94-.94-2.06-.94 2.06-2.06.94zm-11 1L8.5 8.5l.94-2.06 2.06-.94-2.06-.94L8.5 2.5l-.94 2.06-2.06.94zm10 10l.94 2.06.94-2.06 2.06-.94-2.06-.94-.94-2.06-.94 2.06-2.06.94z\"/><path d=\"M17.41 7.96l-1.37-1.37c-.4-.4-.92-.59-1.43-.59-.52 0-1.04.2-1.43.59L10.3 9.45l-7.72 7.72c-.78.78-.78 2.05 0 2.83L4 21.41c.39.39.9.59 1.41.59.51 0 1.02-.2 1.41-.59l7.78-7.78 2.81-2.81c.8-.78.8-2.07 0-2.86zM5.41 20L4 18.59l7.72-7.72 1.47 1.35L5.41 20z\"/>\n",
              "  </svg>\n",
              "      </button>\n",
              "      \n",
              "  <style>\n",
              "    .colab-df-container {\n",
              "      display:flex;\n",
              "      flex-wrap:wrap;\n",
              "      gap: 12px;\n",
              "    }\n",
              "\n",
              "    .colab-df-convert {\n",
              "      background-color: #E8F0FE;\n",
              "      border: none;\n",
              "      border-radius: 50%;\n",
              "      cursor: pointer;\n",
              "      display: none;\n",
              "      fill: #1967D2;\n",
              "      height: 32px;\n",
              "      padding: 0 0 0 0;\n",
              "      width: 32px;\n",
              "    }\n",
              "\n",
              "    .colab-df-convert:hover {\n",
              "      background-color: #E2EBFA;\n",
              "      box-shadow: 0px 1px 2px rgba(60, 64, 67, 0.3), 0px 1px 3px 1px rgba(60, 64, 67, 0.15);\n",
              "      fill: #174EA6;\n",
              "    }\n",
              "\n",
              "    [theme=dark] .colab-df-convert {\n",
              "      background-color: #3B4455;\n",
              "      fill: #D2E3FC;\n",
              "    }\n",
              "\n",
              "    [theme=dark] .colab-df-convert:hover {\n",
              "      background-color: #434B5C;\n",
              "      box-shadow: 0px 1px 3px 1px rgba(0, 0, 0, 0.15);\n",
              "      filter: drop-shadow(0px 1px 2px rgba(0, 0, 0, 0.3));\n",
              "      fill: #FFFFFF;\n",
              "    }\n",
              "  </style>\n",
              "\n",
              "      <script>\n",
              "        const buttonEl =\n",
              "          document.querySelector('#df-42058e32-c16b-4be8-9278-19d52bcfb305 button.colab-df-convert');\n",
              "        buttonEl.style.display =\n",
              "          google.colab.kernel.accessAllowed ? 'block' : 'none';\n",
              "\n",
              "        async function convertToInteractive(key) {\n",
              "          const element = document.querySelector('#df-42058e32-c16b-4be8-9278-19d52bcfb305');\n",
              "          const dataTable =\n",
              "            await google.colab.kernel.invokeFunction('convertToInteractive',\n",
              "                                                     [key], {});\n",
              "          if (!dataTable) return;\n",
              "\n",
              "          const docLinkHtml = 'Like what you see? Visit the ' +\n",
              "            '<a target=\"_blank\" href=https://colab.research.google.com/notebooks/data_table.ipynb>data table notebook</a>'\n",
              "            + ' to learn more about interactive tables.';\n",
              "          element.innerHTML = '';\n",
              "          dataTable['output_type'] = 'display_data';\n",
              "          await google.colab.output.renderOutput(dataTable, element);\n",
              "          const docLink = document.createElement('div');\n",
              "          docLink.innerHTML = docLinkHtml;\n",
              "          element.appendChild(docLink);\n",
              "        }\n",
              "      </script>\n",
              "    </div>\n",
              "  </div>\n",
              "  "
            ]
          },
          "metadata": {},
          "execution_count": 232
        }
      ]
    },
    {
      "cell_type": "markdown",
      "source": [
        "# Part II: Calculate Financial Ratios"
      ],
      "metadata": {
        "id": "z2rXn9SSHrpW"
      }
    },
    {
      "cell_type": "markdown",
      "source": [
        "### Import financial data"
      ],
      "metadata": {
        "id": "WMQM4RYDp_aB"
      }
    },
    {
      "cell_type": "code",
      "source": [
        "df_fin = pd.read_csv('Project-2021-Financials.csv')\n",
        "df_fin.head(2)"
      ],
      "metadata": {
        "id": "r1FMoWZZsQ97",
        "colab": {
          "base_uri": "https://localhost:8080/",
          "height": 112
        },
        "outputId": "9fe1266e-1293-499f-9f16-c163ef1cd3a2"
      },
      "execution_count": null,
      "outputs": [
        {
          "output_type": "execute_result",
          "data": {
            "text/plain": [
              "   gvkey  datadate  fyear indfmt consol popsrc datafmt  tic curcd      act  \\\n",
              "0   1004  20210531   2020   INDL      C      D     STD  AIR   USD    937.0   \n",
              "1   1045  20211231   2021   INDL      C      D     STD  AAL   USD  17336.0   \n",
              "\n",
              "        at     ceq     csho    ebit      lct       lt      ni     sale costat  \\\n",
              "0   1539.7   974.4   35.375    65.5    336.8    565.3    35.8   1651.4      A   \n",
              "1  66467.0 -7340.0  647.728 -5514.0  19006.0  73807.0 -1993.0  29882.0      A   \n",
              "\n",
              "   prcc_c  \n",
              "0   36.22  \n",
              "1   17.96  "
            ],
            "text/html": [
              "\n",
              "  <div id=\"df-977eebf8-baed-4511-acf1-eeefdedf63a0\">\n",
              "    <div class=\"colab-df-container\">\n",
              "      <div>\n",
              "<style scoped>\n",
              "    .dataframe tbody tr th:only-of-type {\n",
              "        vertical-align: middle;\n",
              "    }\n",
              "\n",
              "    .dataframe tbody tr th {\n",
              "        vertical-align: top;\n",
              "    }\n",
              "\n",
              "    .dataframe thead th {\n",
              "        text-align: right;\n",
              "    }\n",
              "</style>\n",
              "<table border=\"1\" class=\"dataframe\">\n",
              "  <thead>\n",
              "    <tr style=\"text-align: right;\">\n",
              "      <th></th>\n",
              "      <th>gvkey</th>\n",
              "      <th>datadate</th>\n",
              "      <th>fyear</th>\n",
              "      <th>indfmt</th>\n",
              "      <th>consol</th>\n",
              "      <th>popsrc</th>\n",
              "      <th>datafmt</th>\n",
              "      <th>tic</th>\n",
              "      <th>curcd</th>\n",
              "      <th>act</th>\n",
              "      <th>at</th>\n",
              "      <th>ceq</th>\n",
              "      <th>csho</th>\n",
              "      <th>ebit</th>\n",
              "      <th>lct</th>\n",
              "      <th>lt</th>\n",
              "      <th>ni</th>\n",
              "      <th>sale</th>\n",
              "      <th>costat</th>\n",
              "      <th>prcc_c</th>\n",
              "    </tr>\n",
              "  </thead>\n",
              "  <tbody>\n",
              "    <tr>\n",
              "      <th>0</th>\n",
              "      <td>1004</td>\n",
              "      <td>20210531</td>\n",
              "      <td>2020</td>\n",
              "      <td>INDL</td>\n",
              "      <td>C</td>\n",
              "      <td>D</td>\n",
              "      <td>STD</td>\n",
              "      <td>AIR</td>\n",
              "      <td>USD</td>\n",
              "      <td>937.0</td>\n",
              "      <td>1539.7</td>\n",
              "      <td>974.4</td>\n",
              "      <td>35.375</td>\n",
              "      <td>65.5</td>\n",
              "      <td>336.8</td>\n",
              "      <td>565.3</td>\n",
              "      <td>35.8</td>\n",
              "      <td>1651.4</td>\n",
              "      <td>A</td>\n",
              "      <td>36.22</td>\n",
              "    </tr>\n",
              "    <tr>\n",
              "      <th>1</th>\n",
              "      <td>1045</td>\n",
              "      <td>20211231</td>\n",
              "      <td>2021</td>\n",
              "      <td>INDL</td>\n",
              "      <td>C</td>\n",
              "      <td>D</td>\n",
              "      <td>STD</td>\n",
              "      <td>AAL</td>\n",
              "      <td>USD</td>\n",
              "      <td>17336.0</td>\n",
              "      <td>66467.0</td>\n",
              "      <td>-7340.0</td>\n",
              "      <td>647.728</td>\n",
              "      <td>-5514.0</td>\n",
              "      <td>19006.0</td>\n",
              "      <td>73807.0</td>\n",
              "      <td>-1993.0</td>\n",
              "      <td>29882.0</td>\n",
              "      <td>A</td>\n",
              "      <td>17.96</td>\n",
              "    </tr>\n",
              "  </tbody>\n",
              "</table>\n",
              "</div>\n",
              "      <button class=\"colab-df-convert\" onclick=\"convertToInteractive('df-977eebf8-baed-4511-acf1-eeefdedf63a0')\"\n",
              "              title=\"Convert this dataframe to an interactive table.\"\n",
              "              style=\"display:none;\">\n",
              "        \n",
              "  <svg xmlns=\"http://www.w3.org/2000/svg\" height=\"24px\"viewBox=\"0 0 24 24\"\n",
              "       width=\"24px\">\n",
              "    <path d=\"M0 0h24v24H0V0z\" fill=\"none\"/>\n",
              "    <path d=\"M18.56 5.44l.94 2.06.94-2.06 2.06-.94-2.06-.94-.94-2.06-.94 2.06-2.06.94zm-11 1L8.5 8.5l.94-2.06 2.06-.94-2.06-.94L8.5 2.5l-.94 2.06-2.06.94zm10 10l.94 2.06.94-2.06 2.06-.94-2.06-.94-.94-2.06-.94 2.06-2.06.94z\"/><path d=\"M17.41 7.96l-1.37-1.37c-.4-.4-.92-.59-1.43-.59-.52 0-1.04.2-1.43.59L10.3 9.45l-7.72 7.72c-.78.78-.78 2.05 0 2.83L4 21.41c.39.39.9.59 1.41.59.51 0 1.02-.2 1.41-.59l7.78-7.78 2.81-2.81c.8-.78.8-2.07 0-2.86zM5.41 20L4 18.59l7.72-7.72 1.47 1.35L5.41 20z\"/>\n",
              "  </svg>\n",
              "      </button>\n",
              "      \n",
              "  <style>\n",
              "    .colab-df-container {\n",
              "      display:flex;\n",
              "      flex-wrap:wrap;\n",
              "      gap: 12px;\n",
              "    }\n",
              "\n",
              "    .colab-df-convert {\n",
              "      background-color: #E8F0FE;\n",
              "      border: none;\n",
              "      border-radius: 50%;\n",
              "      cursor: pointer;\n",
              "      display: none;\n",
              "      fill: #1967D2;\n",
              "      height: 32px;\n",
              "      padding: 0 0 0 0;\n",
              "      width: 32px;\n",
              "    }\n",
              "\n",
              "    .colab-df-convert:hover {\n",
              "      background-color: #E2EBFA;\n",
              "      box-shadow: 0px 1px 2px rgba(60, 64, 67, 0.3), 0px 1px 3px 1px rgba(60, 64, 67, 0.15);\n",
              "      fill: #174EA6;\n",
              "    }\n",
              "\n",
              "    [theme=dark] .colab-df-convert {\n",
              "      background-color: #3B4455;\n",
              "      fill: #D2E3FC;\n",
              "    }\n",
              "\n",
              "    [theme=dark] .colab-df-convert:hover {\n",
              "      background-color: #434B5C;\n",
              "      box-shadow: 0px 1px 3px 1px rgba(0, 0, 0, 0.15);\n",
              "      filter: drop-shadow(0px 1px 2px rgba(0, 0, 0, 0.3));\n",
              "      fill: #FFFFFF;\n",
              "    }\n",
              "  </style>\n",
              "\n",
              "      <script>\n",
              "        const buttonEl =\n",
              "          document.querySelector('#df-977eebf8-baed-4511-acf1-eeefdedf63a0 button.colab-df-convert');\n",
              "        buttonEl.style.display =\n",
              "          google.colab.kernel.accessAllowed ? 'block' : 'none';\n",
              "\n",
              "        async function convertToInteractive(key) {\n",
              "          const element = document.querySelector('#df-977eebf8-baed-4511-acf1-eeefdedf63a0');\n",
              "          const dataTable =\n",
              "            await google.colab.kernel.invokeFunction('convertToInteractive',\n",
              "                                                     [key], {});\n",
              "          if (!dataTable) return;\n",
              "\n",
              "          const docLinkHtml = 'Like what you see? Visit the ' +\n",
              "            '<a target=\"_blank\" href=https://colab.research.google.com/notebooks/data_table.ipynb>data table notebook</a>'\n",
              "            + ' to learn more about interactive tables.';\n",
              "          element.innerHTML = '';\n",
              "          dataTable['output_type'] = 'display_data';\n",
              "          await google.colab.output.renderOutput(dataTable, element);\n",
              "          const docLink = document.createElement('div');\n",
              "          docLink.innerHTML = docLinkHtml;\n",
              "          element.appendChild(docLink);\n",
              "        }\n",
              "      </script>\n",
              "    </div>\n",
              "  </div>\n",
              "  "
            ]
          },
          "metadata": {},
          "execution_count": 233
        }
      ]
    },
    {
      "cell_type": "code",
      "source": [
        "# There are missing values in act (total current assets), lct (total current liabilities)\n",
        "# and lt (total liabilities)\n",
        "\n",
        "print(df_fin.info())\n",
        "print(df_fin.shape)"
      ],
      "metadata": {
        "id": "o2sg9AHzQ87A",
        "colab": {
          "base_uri": "https://localhost:8080/"
        },
        "outputId": "6b7457e9-c50d-4755-c1ff-8ac019973b26"
      },
      "execution_count": null,
      "outputs": [
        {
          "output_type": "stream",
          "name": "stdout",
          "text": [
            "<class 'pandas.core.frame.DataFrame'>\n",
            "RangeIndex: 1886 entries, 0 to 1885\n",
            "Data columns (total 20 columns):\n",
            " #   Column    Non-Null Count  Dtype  \n",
            "---  ------    --------------  -----  \n",
            " 0   gvkey     1886 non-null   int64  \n",
            " 1   datadate  1886 non-null   int64  \n",
            " 2   fyear     1886 non-null   int64  \n",
            " 3   indfmt    1886 non-null   object \n",
            " 4   consol    1886 non-null   object \n",
            " 5   popsrc    1886 non-null   object \n",
            " 6   datafmt   1886 non-null   object \n",
            " 7   tic       1886 non-null   object \n",
            " 8   curcd     1886 non-null   object \n",
            " 9   act       1431 non-null   float64\n",
            " 10  at        1886 non-null   float64\n",
            " 11  ceq       1886 non-null   float64\n",
            " 12  csho      1886 non-null   float64\n",
            " 13  ebit      1886 non-null   float64\n",
            " 14  lct       1431 non-null   float64\n",
            " 15  lt        1881 non-null   float64\n",
            " 16  ni        1886 non-null   float64\n",
            " 17  sale      1886 non-null   float64\n",
            " 18  costat    1886 non-null   object \n",
            " 19  prcc_c    1886 non-null   float64\n",
            "dtypes: float64(10), int64(3), object(7)\n",
            "memory usage: 294.8+ KB\n",
            "None\n",
            "(1886, 20)\n"
          ]
        }
      ]
    },
    {
      "cell_type": "code",
      "source": [
        "# replace lt (total liabilities) with median since there are only 5 missing  \n",
        "df_fin['lt'] = df_fin['lt'].replace(np.nan, df_fin['lt'].median())\n",
        "\n",
        "# drop act and lct because too much values are missing\n",
        "df_fin.drop(['act', 'lct'], axis = 1, inplace = True)"
      ],
      "metadata": {
        "id": "FnLv_UlpUgOv"
      },
      "execution_count": null,
      "outputs": []
    },
    {
      "cell_type": "markdown",
      "source": [
        "### Merge ticker and financial data on ticker symbols"
      ],
      "metadata": {
        "id": "KMggRWcOK8En"
      }
    },
    {
      "cell_type": "code",
      "source": [
        "# rename ticker column in df_fin to match that of df_tic's\n",
        "\n",
        "df_fin.rename(columns={'tic':'Ticker'}, inplace=True)\n",
        "df_fin.head(2)"
      ],
      "metadata": {
        "colab": {
          "base_uri": "https://localhost:8080/",
          "height": 112
        },
        "id": "lda2A6H7LSrt",
        "outputId": "04ba9873-b9e6-42dd-ce4d-bd7f89bc3b80"
      },
      "execution_count": null,
      "outputs": [
        {
          "output_type": "execute_result",
          "data": {
            "text/plain": [
              "   gvkey  datadate  fyear indfmt consol popsrc datafmt Ticker curcd       at  \\\n",
              "0   1004  20210531   2020   INDL      C      D     STD    AIR   USD   1539.7   \n",
              "1   1045  20211231   2021   INDL      C      D     STD    AAL   USD  66467.0   \n",
              "\n",
              "      ceq     csho    ebit       lt      ni     sale costat  prcc_c  \n",
              "0   974.4   35.375    65.5    565.3    35.8   1651.4      A   36.22  \n",
              "1 -7340.0  647.728 -5514.0  73807.0 -1993.0  29882.0      A   17.96  "
            ],
            "text/html": [
              "\n",
              "  <div id=\"df-6b19541f-f046-4881-a036-e89a977151e5\">\n",
              "    <div class=\"colab-df-container\">\n",
              "      <div>\n",
              "<style scoped>\n",
              "    .dataframe tbody tr th:only-of-type {\n",
              "        vertical-align: middle;\n",
              "    }\n",
              "\n",
              "    .dataframe tbody tr th {\n",
              "        vertical-align: top;\n",
              "    }\n",
              "\n",
              "    .dataframe thead th {\n",
              "        text-align: right;\n",
              "    }\n",
              "</style>\n",
              "<table border=\"1\" class=\"dataframe\">\n",
              "  <thead>\n",
              "    <tr style=\"text-align: right;\">\n",
              "      <th></th>\n",
              "      <th>gvkey</th>\n",
              "      <th>datadate</th>\n",
              "      <th>fyear</th>\n",
              "      <th>indfmt</th>\n",
              "      <th>consol</th>\n",
              "      <th>popsrc</th>\n",
              "      <th>datafmt</th>\n",
              "      <th>Ticker</th>\n",
              "      <th>curcd</th>\n",
              "      <th>at</th>\n",
              "      <th>ceq</th>\n",
              "      <th>csho</th>\n",
              "      <th>ebit</th>\n",
              "      <th>lt</th>\n",
              "      <th>ni</th>\n",
              "      <th>sale</th>\n",
              "      <th>costat</th>\n",
              "      <th>prcc_c</th>\n",
              "    </tr>\n",
              "  </thead>\n",
              "  <tbody>\n",
              "    <tr>\n",
              "      <th>0</th>\n",
              "      <td>1004</td>\n",
              "      <td>20210531</td>\n",
              "      <td>2020</td>\n",
              "      <td>INDL</td>\n",
              "      <td>C</td>\n",
              "      <td>D</td>\n",
              "      <td>STD</td>\n",
              "      <td>AIR</td>\n",
              "      <td>USD</td>\n",
              "      <td>1539.7</td>\n",
              "      <td>974.4</td>\n",
              "      <td>35.375</td>\n",
              "      <td>65.5</td>\n",
              "      <td>565.3</td>\n",
              "      <td>35.8</td>\n",
              "      <td>1651.4</td>\n",
              "      <td>A</td>\n",
              "      <td>36.22</td>\n",
              "    </tr>\n",
              "    <tr>\n",
              "      <th>1</th>\n",
              "      <td>1045</td>\n",
              "      <td>20211231</td>\n",
              "      <td>2021</td>\n",
              "      <td>INDL</td>\n",
              "      <td>C</td>\n",
              "      <td>D</td>\n",
              "      <td>STD</td>\n",
              "      <td>AAL</td>\n",
              "      <td>USD</td>\n",
              "      <td>66467.0</td>\n",
              "      <td>-7340.0</td>\n",
              "      <td>647.728</td>\n",
              "      <td>-5514.0</td>\n",
              "      <td>73807.0</td>\n",
              "      <td>-1993.0</td>\n",
              "      <td>29882.0</td>\n",
              "      <td>A</td>\n",
              "      <td>17.96</td>\n",
              "    </tr>\n",
              "  </tbody>\n",
              "</table>\n",
              "</div>\n",
              "      <button class=\"colab-df-convert\" onclick=\"convertToInteractive('df-6b19541f-f046-4881-a036-e89a977151e5')\"\n",
              "              title=\"Convert this dataframe to an interactive table.\"\n",
              "              style=\"display:none;\">\n",
              "        \n",
              "  <svg xmlns=\"http://www.w3.org/2000/svg\" height=\"24px\"viewBox=\"0 0 24 24\"\n",
              "       width=\"24px\">\n",
              "    <path d=\"M0 0h24v24H0V0z\" fill=\"none\"/>\n",
              "    <path d=\"M18.56 5.44l.94 2.06.94-2.06 2.06-.94-2.06-.94-.94-2.06-.94 2.06-2.06.94zm-11 1L8.5 8.5l.94-2.06 2.06-.94-2.06-.94L8.5 2.5l-.94 2.06-2.06.94zm10 10l.94 2.06.94-2.06 2.06-.94-2.06-.94-.94-2.06-.94 2.06-2.06.94z\"/><path d=\"M17.41 7.96l-1.37-1.37c-.4-.4-.92-.59-1.43-.59-.52 0-1.04.2-1.43.59L10.3 9.45l-7.72 7.72c-.78.78-.78 2.05 0 2.83L4 21.41c.39.39.9.59 1.41.59.51 0 1.02-.2 1.41-.59l7.78-7.78 2.81-2.81c.8-.78.8-2.07 0-2.86zM5.41 20L4 18.59l7.72-7.72 1.47 1.35L5.41 20z\"/>\n",
              "  </svg>\n",
              "      </button>\n",
              "      \n",
              "  <style>\n",
              "    .colab-df-container {\n",
              "      display:flex;\n",
              "      flex-wrap:wrap;\n",
              "      gap: 12px;\n",
              "    }\n",
              "\n",
              "    .colab-df-convert {\n",
              "      background-color: #E8F0FE;\n",
              "      border: none;\n",
              "      border-radius: 50%;\n",
              "      cursor: pointer;\n",
              "      display: none;\n",
              "      fill: #1967D2;\n",
              "      height: 32px;\n",
              "      padding: 0 0 0 0;\n",
              "      width: 32px;\n",
              "    }\n",
              "\n",
              "    .colab-df-convert:hover {\n",
              "      background-color: #E2EBFA;\n",
              "      box-shadow: 0px 1px 2px rgba(60, 64, 67, 0.3), 0px 1px 3px 1px rgba(60, 64, 67, 0.15);\n",
              "      fill: #174EA6;\n",
              "    }\n",
              "\n",
              "    [theme=dark] .colab-df-convert {\n",
              "      background-color: #3B4455;\n",
              "      fill: #D2E3FC;\n",
              "    }\n",
              "\n",
              "    [theme=dark] .colab-df-convert:hover {\n",
              "      background-color: #434B5C;\n",
              "      box-shadow: 0px 1px 3px 1px rgba(0, 0, 0, 0.15);\n",
              "      filter: drop-shadow(0px 1px 2px rgba(0, 0, 0, 0.3));\n",
              "      fill: #FFFFFF;\n",
              "    }\n",
              "  </style>\n",
              "\n",
              "      <script>\n",
              "        const buttonEl =\n",
              "          document.querySelector('#df-6b19541f-f046-4881-a036-e89a977151e5 button.colab-df-convert');\n",
              "        buttonEl.style.display =\n",
              "          google.colab.kernel.accessAllowed ? 'block' : 'none';\n",
              "\n",
              "        async function convertToInteractive(key) {\n",
              "          const element = document.querySelector('#df-6b19541f-f046-4881-a036-e89a977151e5');\n",
              "          const dataTable =\n",
              "            await google.colab.kernel.invokeFunction('convertToInteractive',\n",
              "                                                     [key], {});\n",
              "          if (!dataTable) return;\n",
              "\n",
              "          const docLinkHtml = 'Like what you see? Visit the ' +\n",
              "            '<a target=\"_blank\" href=https://colab.research.google.com/notebooks/data_table.ipynb>data table notebook</a>'\n",
              "            + ' to learn more about interactive tables.';\n",
              "          element.innerHTML = '';\n",
              "          dataTable['output_type'] = 'display_data';\n",
              "          await google.colab.output.renderOutput(dataTable, element);\n",
              "          const docLink = document.createElement('div');\n",
              "          docLink.innerHTML = docLinkHtml;\n",
              "          element.appendChild(docLink);\n",
              "        }\n",
              "      </script>\n",
              "    </div>\n",
              "  </div>\n",
              "  "
            ]
          },
          "metadata": {},
          "execution_count": 236
        }
      ]
    },
    {
      "cell_type": "code",
      "source": [
        "# merge df_tic and df_fin on ticker \n",
        "\n",
        "df = pd.merge(df_tic, df_fin, on = 'Ticker', how ='left')\n",
        "df.shape"
      ],
      "metadata": {
        "id": "6sEudvFSuUzc",
        "colab": {
          "base_uri": "https://localhost:8080/"
        },
        "outputId": "b850c79a-0d5d-4832-a3ba-fdd9befc72bb"
      },
      "execution_count": null,
      "outputs": [
        {
          "output_type": "execute_result",
          "data": {
            "text/plain": [
              "(1886, 20)"
            ]
          },
          "metadata": {},
          "execution_count": 237
        }
      ]
    },
    {
      "cell_type": "code",
      "source": [
        "# now our data is ready to use to create financial ratios \n",
        "\n",
        "df.info()"
      ],
      "metadata": {
        "id": "W2MmJN3MLDL4",
        "colab": {
          "base_uri": "https://localhost:8080/"
        },
        "outputId": "bf7f326c-6faa-4699-9fba-1d068da1238f"
      },
      "execution_count": null,
      "outputs": [
        {
          "output_type": "stream",
          "name": "stdout",
          "text": [
            "<class 'pandas.core.frame.DataFrame'>\n",
            "Int64Index: 1886 entries, 0 to 1885\n",
            "Data columns (total 20 columns):\n",
            " #   Column    Non-Null Count  Dtype  \n",
            "---  ------    --------------  -----  \n",
            " 0   Ticker    1886 non-null   object \n",
            " 1   Name      1886 non-null   object \n",
            " 2   RetYTD    1886 non-null   float64\n",
            " 3   gvkey     1886 non-null   int64  \n",
            " 4   datadate  1886 non-null   int64  \n",
            " 5   fyear     1886 non-null   int64  \n",
            " 6   indfmt    1886 non-null   object \n",
            " 7   consol    1886 non-null   object \n",
            " 8   popsrc    1886 non-null   object \n",
            " 9   datafmt   1886 non-null   object \n",
            " 10  curcd     1886 non-null   object \n",
            " 11  at        1886 non-null   float64\n",
            " 12  ceq       1886 non-null   float64\n",
            " 13  csho      1886 non-null   float64\n",
            " 14  ebit      1886 non-null   float64\n",
            " 15  lt        1886 non-null   float64\n",
            " 16  ni        1886 non-null   float64\n",
            " 17  sale      1886 non-null   float64\n",
            " 18  costat    1886 non-null   object \n",
            " 19  prcc_c    1886 non-null   float64\n",
            "dtypes: float64(9), int64(3), object(8)\n",
            "memory usage: 309.4+ KB\n"
          ]
        }
      ]
    },
    {
      "cell_type": "markdown",
      "metadata": {
        "id": "lcbzj76CrR4p"
      },
      "source": [
        "### Adding ratios columns"
      ]
    },
    {
      "cell_type": "code",
      "source": [
        "# market ratios (we will drop these and use the inverted ratios for better analysis)\n",
        "df['P/E_ratio'] = (df['prcc_c']*df['csho'])/df['ni']\n",
        "df['P/S_ratio'] = (df['prcc_c']*df['csho'])/df['sale']\n",
        "df['P/EBIT_ratio'] = (df['prcc_c']*df['csho'])/df['ebit']\n",
        "df['P/B_ratio'] = (df['prcc_c']*df['csho'])/df['ceq']\n",
        "\n",
        "# inverted ratios (we will use these in regression)\n",
        "df['E/P_ratio'] = 1/df['P/E_ratio']\n",
        "df['S/P_ratio'] = 1/df['P/S_ratio']\n",
        "df['EBIT/P_ratio'] = 1/df['P/EBIT_ratio']\n",
        "df['B/P_ratio'] = 1/df['P/B_ratio']\n",
        "\n",
        "# other ratios to use in regression\n",
        "df['ROA'] = df['ni']/df['at'] # at is total assets \n",
        "df['Net_profit_margin'] = df['ni'] / df['sale']\n",
        "df['ROE'] = df['ni']/(df['prcc_c']*df['csho']) # lt is total liabilities \n",
        "df['Earnings_per_share'] = df['ni']/df['csho']\n",
        "df['Debt_ratio'] = df['lt'] / df['at'] # some sources consider debt ratio to be total liabilities / total assets\n",
        "df['D/E_ratio'] = df['lt']/(df['prcc_c']*df['csho']) # debt to equity"
      ],
      "metadata": {
        "id": "NIJ9KasWwx6v"
      },
      "execution_count": null,
      "outputs": []
    },
    {
      "cell_type": "code",
      "source": [
        "# drop columns not used in regression \n",
        "df.drop(['P/E_ratio', 'P/S_ratio', 'P/EBIT_ratio', 'P/B_ratio'], axis = 1, inplace = True)"
      ],
      "metadata": {
        "id": "lBzcb89bcGau"
      },
      "execution_count": null,
      "outputs": []
    },
    {
      "cell_type": "code",
      "source": [
        "# 10 ratios created starting from row index 20\n",
        "print(df.info())\n",
        "print(df.shape)"
      ],
      "metadata": {
        "id": "QSUCOxHTR5YS",
        "colab": {
          "base_uri": "https://localhost:8080/"
        },
        "outputId": "3c8c84eb-0f0c-486e-e29d-2f0364f219e0"
      },
      "execution_count": null,
      "outputs": [
        {
          "output_type": "stream",
          "name": "stdout",
          "text": [
            "<class 'pandas.core.frame.DataFrame'>\n",
            "Int64Index: 1886 entries, 0 to 1885\n",
            "Data columns (total 30 columns):\n",
            " #   Column              Non-Null Count  Dtype  \n",
            "---  ------              --------------  -----  \n",
            " 0   Ticker              1886 non-null   object \n",
            " 1   Name                1886 non-null   object \n",
            " 2   RetYTD              1886 non-null   float64\n",
            " 3   gvkey               1886 non-null   int64  \n",
            " 4   datadate            1886 non-null   int64  \n",
            " 5   fyear               1886 non-null   int64  \n",
            " 6   indfmt              1886 non-null   object \n",
            " 7   consol              1886 non-null   object \n",
            " 8   popsrc              1886 non-null   object \n",
            " 9   datafmt             1886 non-null   object \n",
            " 10  curcd               1886 non-null   object \n",
            " 11  at                  1886 non-null   float64\n",
            " 12  ceq                 1886 non-null   float64\n",
            " 13  csho                1886 non-null   float64\n",
            " 14  ebit                1886 non-null   float64\n",
            " 15  lt                  1886 non-null   float64\n",
            " 16  ni                  1886 non-null   float64\n",
            " 17  sale                1886 non-null   float64\n",
            " 18  costat              1886 non-null   object \n",
            " 19  prcc_c              1886 non-null   float64\n",
            " 20  E/P_ratio           1886 non-null   float64\n",
            " 21  S/P_ratio           1886 non-null   float64\n",
            " 22  EBIT/P_ratio        1886 non-null   float64\n",
            " 23  B/P_ratio           1886 non-null   float64\n",
            " 24  ROA                 1886 non-null   float64\n",
            " 25  Net_profit_margin   1886 non-null   float64\n",
            " 26  ROE                 1886 non-null   float64\n",
            " 27  Earnings_per_share  1886 non-null   float64\n",
            " 28  Debt_ratio          1886 non-null   float64\n",
            " 29  D/E_ratio           1886 non-null   float64\n",
            "dtypes: float64(19), int64(3), object(8)\n",
            "memory usage: 456.8+ KB\n",
            "None\n",
            "(1886, 30)\n"
          ]
        }
      ]
    },
    {
      "cell_type": "markdown",
      "metadata": {
        "id": "HB-pz8DBB--r"
      },
      "source": [
        "### Check for outliers and/or data errors "
      ]
    },
    {
      "cell_type": "code",
      "source": [
        "# inspect statistical values for columns - there are missing or infinity values\n",
        "\n",
        "df.describe()"
      ],
      "metadata": {
        "id": "vhJbUB4PcrIa",
        "colab": {
          "base_uri": "https://localhost:8080/",
          "height": 393
        },
        "outputId": "314b81d0-b169-44a4-8944-d9942b121546"
      },
      "execution_count": null,
      "outputs": [
        {
          "output_type": "execute_result",
          "data": {
            "text/plain": [
              "            RetYTD          gvkey      datadate        fyear            at  \\\n",
              "count  1886.000000    1886.000000  1.886000e+03  1886.000000  1.886000e+03   \n",
              "mean     -0.063484   62189.838282  2.021110e+07  2020.911983  2.622079e+04   \n",
              "std       0.243801   67853.146760  2.954896e+02     0.283395  1.493189e+05   \n",
              "min      -0.787400    1004.000000  2.021013e+07  2020.000000  2.689900e+01   \n",
              "25%      -0.199450   11641.250000  2.021123e+07  2021.000000  1.291068e+03   \n",
              "50%      -0.086750   25281.000000  2.021123e+07  2021.000000  4.124783e+03   \n",
              "75%       0.038750  125591.250000  2.021123e+07  2021.000000  1.307137e+04   \n",
              "max       1.735700  317264.000000  2.021123e+07  2021.000000  3.743567e+06   \n",
              "\n",
              "                 ceq          csho           ebit            lt            ni  \\\n",
              "count    1886.000000   1886.000000    1886.000000  1.886000e+03   1886.000000   \n",
              "mean     5024.835206    216.216609    1309.807222  2.090633e+04    942.737848   \n",
              "std     16277.563302    617.870176    5154.949448  1.355321e+05   4208.808452   \n",
              "min    -14999.000000      1.161000   -6273.000000  1.609000e+00  -9501.000000   \n",
              "25%       416.276000     37.220250      48.110500  6.544948e+02     16.138750   \n",
              "50%      1109.486000     73.807500     211.177000  2.578166e+03    135.238000   \n",
              "75%      3316.116500    176.940000     807.034250  8.822845e+03    554.200000   \n",
              "max    259289.000000  16426.786000  108949.000000  3.449440e+06  94680.000000   \n",
              "\n",
              "       ...    E/P_ratio    S/P_ratio  EBIT/P_ratio    B/P_ratio          ROA  \\\n",
              "count  ...  1886.000000  1886.000000   1886.000000  1886.000000  1886.000000   \n",
              "mean   ...     0.027009     0.765997      0.060538     0.422120     0.023572   \n",
              "std    ...     0.136353     1.439881      0.130324     0.424100     0.171422   \n",
              "min    ...    -1.891725    -0.087004     -1.334204    -2.056645    -1.759213   \n",
              "25%    ...     0.008113     0.176223      0.019641     0.161112     0.007584   \n",
              "50%    ...     0.036704     0.350729      0.056821     0.337004     0.034187   \n",
              "75%    ...     0.076322     0.814565      0.113822     0.613868     0.079409   \n",
              "max    ...     0.898517    27.543662      0.974888     7.547555     1.484070   \n",
              "\n",
              "       Net_profit_margin          ROE  Earnings_per_share   Debt_ratio  \\\n",
              "count        1886.000000  1886.000000         1886.000000  1886.000000   \n",
              "mean                 NaN     0.027009            4.408250     0.646549   \n",
              "std                  NaN     0.136353           16.994272     0.425294   \n",
              "min                 -inf    -1.891725          -91.318754     0.008474   \n",
              "25%             0.015657     0.008113            0.287445     0.460233   \n",
              "50%             0.090344     0.036704            2.407403     0.633081   \n",
              "75%             0.199075     0.076322            5.229402     0.802777   \n",
              "max                  inf     0.898517          490.956072     9.901970   \n",
              "\n",
              "         D/E_ratio  \n",
              "count  1886.000000  \n",
              "mean      1.545305  \n",
              "std       2.739284  \n",
              "min       0.005926  \n",
              "25%       0.217034  \n",
              "50%       0.532805  \n",
              "75%       1.418327  \n",
              "max      40.343655  \n",
              "\n",
              "[8 rows x 22 columns]"
            ],
            "text/html": [
              "\n",
              "  <div id=\"df-ee9abc5a-1371-42bb-9bd8-7f306ced191e\">\n",
              "    <div class=\"colab-df-container\">\n",
              "      <div>\n",
              "<style scoped>\n",
              "    .dataframe tbody tr th:only-of-type {\n",
              "        vertical-align: middle;\n",
              "    }\n",
              "\n",
              "    .dataframe tbody tr th {\n",
              "        vertical-align: top;\n",
              "    }\n",
              "\n",
              "    .dataframe thead th {\n",
              "        text-align: right;\n",
              "    }\n",
              "</style>\n",
              "<table border=\"1\" class=\"dataframe\">\n",
              "  <thead>\n",
              "    <tr style=\"text-align: right;\">\n",
              "      <th></th>\n",
              "      <th>RetYTD</th>\n",
              "      <th>gvkey</th>\n",
              "      <th>datadate</th>\n",
              "      <th>fyear</th>\n",
              "      <th>at</th>\n",
              "      <th>ceq</th>\n",
              "      <th>csho</th>\n",
              "      <th>ebit</th>\n",
              "      <th>lt</th>\n",
              "      <th>ni</th>\n",
              "      <th>...</th>\n",
              "      <th>E/P_ratio</th>\n",
              "      <th>S/P_ratio</th>\n",
              "      <th>EBIT/P_ratio</th>\n",
              "      <th>B/P_ratio</th>\n",
              "      <th>ROA</th>\n",
              "      <th>Net_profit_margin</th>\n",
              "      <th>ROE</th>\n",
              "      <th>Earnings_per_share</th>\n",
              "      <th>Debt_ratio</th>\n",
              "      <th>D/E_ratio</th>\n",
              "    </tr>\n",
              "  </thead>\n",
              "  <tbody>\n",
              "    <tr>\n",
              "      <th>count</th>\n",
              "      <td>1886.000000</td>\n",
              "      <td>1886.000000</td>\n",
              "      <td>1.886000e+03</td>\n",
              "      <td>1886.000000</td>\n",
              "      <td>1.886000e+03</td>\n",
              "      <td>1886.000000</td>\n",
              "      <td>1886.000000</td>\n",
              "      <td>1886.000000</td>\n",
              "      <td>1.886000e+03</td>\n",
              "      <td>1886.000000</td>\n",
              "      <td>...</td>\n",
              "      <td>1886.000000</td>\n",
              "      <td>1886.000000</td>\n",
              "      <td>1886.000000</td>\n",
              "      <td>1886.000000</td>\n",
              "      <td>1886.000000</td>\n",
              "      <td>1886.000000</td>\n",
              "      <td>1886.000000</td>\n",
              "      <td>1886.000000</td>\n",
              "      <td>1886.000000</td>\n",
              "      <td>1886.000000</td>\n",
              "    </tr>\n",
              "    <tr>\n",
              "      <th>mean</th>\n",
              "      <td>-0.063484</td>\n",
              "      <td>62189.838282</td>\n",
              "      <td>2.021110e+07</td>\n",
              "      <td>2020.911983</td>\n",
              "      <td>2.622079e+04</td>\n",
              "      <td>5024.835206</td>\n",
              "      <td>216.216609</td>\n",
              "      <td>1309.807222</td>\n",
              "      <td>2.090633e+04</td>\n",
              "      <td>942.737848</td>\n",
              "      <td>...</td>\n",
              "      <td>0.027009</td>\n",
              "      <td>0.765997</td>\n",
              "      <td>0.060538</td>\n",
              "      <td>0.422120</td>\n",
              "      <td>0.023572</td>\n",
              "      <td>NaN</td>\n",
              "      <td>0.027009</td>\n",
              "      <td>4.408250</td>\n",
              "      <td>0.646549</td>\n",
              "      <td>1.545305</td>\n",
              "    </tr>\n",
              "    <tr>\n",
              "      <th>std</th>\n",
              "      <td>0.243801</td>\n",
              "      <td>67853.146760</td>\n",
              "      <td>2.954896e+02</td>\n",
              "      <td>0.283395</td>\n",
              "      <td>1.493189e+05</td>\n",
              "      <td>16277.563302</td>\n",
              "      <td>617.870176</td>\n",
              "      <td>5154.949448</td>\n",
              "      <td>1.355321e+05</td>\n",
              "      <td>4208.808452</td>\n",
              "      <td>...</td>\n",
              "      <td>0.136353</td>\n",
              "      <td>1.439881</td>\n",
              "      <td>0.130324</td>\n",
              "      <td>0.424100</td>\n",
              "      <td>0.171422</td>\n",
              "      <td>NaN</td>\n",
              "      <td>0.136353</td>\n",
              "      <td>16.994272</td>\n",
              "      <td>0.425294</td>\n",
              "      <td>2.739284</td>\n",
              "    </tr>\n",
              "    <tr>\n",
              "      <th>min</th>\n",
              "      <td>-0.787400</td>\n",
              "      <td>1004.000000</td>\n",
              "      <td>2.021013e+07</td>\n",
              "      <td>2020.000000</td>\n",
              "      <td>2.689900e+01</td>\n",
              "      <td>-14999.000000</td>\n",
              "      <td>1.161000</td>\n",
              "      <td>-6273.000000</td>\n",
              "      <td>1.609000e+00</td>\n",
              "      <td>-9501.000000</td>\n",
              "      <td>...</td>\n",
              "      <td>-1.891725</td>\n",
              "      <td>-0.087004</td>\n",
              "      <td>-1.334204</td>\n",
              "      <td>-2.056645</td>\n",
              "      <td>-1.759213</td>\n",
              "      <td>-inf</td>\n",
              "      <td>-1.891725</td>\n",
              "      <td>-91.318754</td>\n",
              "      <td>0.008474</td>\n",
              "      <td>0.005926</td>\n",
              "    </tr>\n",
              "    <tr>\n",
              "      <th>25%</th>\n",
              "      <td>-0.199450</td>\n",
              "      <td>11641.250000</td>\n",
              "      <td>2.021123e+07</td>\n",
              "      <td>2021.000000</td>\n",
              "      <td>1.291068e+03</td>\n",
              "      <td>416.276000</td>\n",
              "      <td>37.220250</td>\n",
              "      <td>48.110500</td>\n",
              "      <td>6.544948e+02</td>\n",
              "      <td>16.138750</td>\n",
              "      <td>...</td>\n",
              "      <td>0.008113</td>\n",
              "      <td>0.176223</td>\n",
              "      <td>0.019641</td>\n",
              "      <td>0.161112</td>\n",
              "      <td>0.007584</td>\n",
              "      <td>0.015657</td>\n",
              "      <td>0.008113</td>\n",
              "      <td>0.287445</td>\n",
              "      <td>0.460233</td>\n",
              "      <td>0.217034</td>\n",
              "    </tr>\n",
              "    <tr>\n",
              "      <th>50%</th>\n",
              "      <td>-0.086750</td>\n",
              "      <td>25281.000000</td>\n",
              "      <td>2.021123e+07</td>\n",
              "      <td>2021.000000</td>\n",
              "      <td>4.124783e+03</td>\n",
              "      <td>1109.486000</td>\n",
              "      <td>73.807500</td>\n",
              "      <td>211.177000</td>\n",
              "      <td>2.578166e+03</td>\n",
              "      <td>135.238000</td>\n",
              "      <td>...</td>\n",
              "      <td>0.036704</td>\n",
              "      <td>0.350729</td>\n",
              "      <td>0.056821</td>\n",
              "      <td>0.337004</td>\n",
              "      <td>0.034187</td>\n",
              "      <td>0.090344</td>\n",
              "      <td>0.036704</td>\n",
              "      <td>2.407403</td>\n",
              "      <td>0.633081</td>\n",
              "      <td>0.532805</td>\n",
              "    </tr>\n",
              "    <tr>\n",
              "      <th>75%</th>\n",
              "      <td>0.038750</td>\n",
              "      <td>125591.250000</td>\n",
              "      <td>2.021123e+07</td>\n",
              "      <td>2021.000000</td>\n",
              "      <td>1.307137e+04</td>\n",
              "      <td>3316.116500</td>\n",
              "      <td>176.940000</td>\n",
              "      <td>807.034250</td>\n",
              "      <td>8.822845e+03</td>\n",
              "      <td>554.200000</td>\n",
              "      <td>...</td>\n",
              "      <td>0.076322</td>\n",
              "      <td>0.814565</td>\n",
              "      <td>0.113822</td>\n",
              "      <td>0.613868</td>\n",
              "      <td>0.079409</td>\n",
              "      <td>0.199075</td>\n",
              "      <td>0.076322</td>\n",
              "      <td>5.229402</td>\n",
              "      <td>0.802777</td>\n",
              "      <td>1.418327</td>\n",
              "    </tr>\n",
              "    <tr>\n",
              "      <th>max</th>\n",
              "      <td>1.735700</td>\n",
              "      <td>317264.000000</td>\n",
              "      <td>2.021123e+07</td>\n",
              "      <td>2021.000000</td>\n",
              "      <td>3.743567e+06</td>\n",
              "      <td>259289.000000</td>\n",
              "      <td>16426.786000</td>\n",
              "      <td>108949.000000</td>\n",
              "      <td>3.449440e+06</td>\n",
              "      <td>94680.000000</td>\n",
              "      <td>...</td>\n",
              "      <td>0.898517</td>\n",
              "      <td>27.543662</td>\n",
              "      <td>0.974888</td>\n",
              "      <td>7.547555</td>\n",
              "      <td>1.484070</td>\n",
              "      <td>inf</td>\n",
              "      <td>0.898517</td>\n",
              "      <td>490.956072</td>\n",
              "      <td>9.901970</td>\n",
              "      <td>40.343655</td>\n",
              "    </tr>\n",
              "  </tbody>\n",
              "</table>\n",
              "<p>8 rows × 22 columns</p>\n",
              "</div>\n",
              "      <button class=\"colab-df-convert\" onclick=\"convertToInteractive('df-ee9abc5a-1371-42bb-9bd8-7f306ced191e')\"\n",
              "              title=\"Convert this dataframe to an interactive table.\"\n",
              "              style=\"display:none;\">\n",
              "        \n",
              "  <svg xmlns=\"http://www.w3.org/2000/svg\" height=\"24px\"viewBox=\"0 0 24 24\"\n",
              "       width=\"24px\">\n",
              "    <path d=\"M0 0h24v24H0V0z\" fill=\"none\"/>\n",
              "    <path d=\"M18.56 5.44l.94 2.06.94-2.06 2.06-.94-2.06-.94-.94-2.06-.94 2.06-2.06.94zm-11 1L8.5 8.5l.94-2.06 2.06-.94-2.06-.94L8.5 2.5l-.94 2.06-2.06.94zm10 10l.94 2.06.94-2.06 2.06-.94-2.06-.94-.94-2.06-.94 2.06-2.06.94z\"/><path d=\"M17.41 7.96l-1.37-1.37c-.4-.4-.92-.59-1.43-.59-.52 0-1.04.2-1.43.59L10.3 9.45l-7.72 7.72c-.78.78-.78 2.05 0 2.83L4 21.41c.39.39.9.59 1.41.59.51 0 1.02-.2 1.41-.59l7.78-7.78 2.81-2.81c.8-.78.8-2.07 0-2.86zM5.41 20L4 18.59l7.72-7.72 1.47 1.35L5.41 20z\"/>\n",
              "  </svg>\n",
              "      </button>\n",
              "      \n",
              "  <style>\n",
              "    .colab-df-container {\n",
              "      display:flex;\n",
              "      flex-wrap:wrap;\n",
              "      gap: 12px;\n",
              "    }\n",
              "\n",
              "    .colab-df-convert {\n",
              "      background-color: #E8F0FE;\n",
              "      border: none;\n",
              "      border-radius: 50%;\n",
              "      cursor: pointer;\n",
              "      display: none;\n",
              "      fill: #1967D2;\n",
              "      height: 32px;\n",
              "      padding: 0 0 0 0;\n",
              "      width: 32px;\n",
              "    }\n",
              "\n",
              "    .colab-df-convert:hover {\n",
              "      background-color: #E2EBFA;\n",
              "      box-shadow: 0px 1px 2px rgba(60, 64, 67, 0.3), 0px 1px 3px 1px rgba(60, 64, 67, 0.15);\n",
              "      fill: #174EA6;\n",
              "    }\n",
              "\n",
              "    [theme=dark] .colab-df-convert {\n",
              "      background-color: #3B4455;\n",
              "      fill: #D2E3FC;\n",
              "    }\n",
              "\n",
              "    [theme=dark] .colab-df-convert:hover {\n",
              "      background-color: #434B5C;\n",
              "      box-shadow: 0px 1px 3px 1px rgba(0, 0, 0, 0.15);\n",
              "      filter: drop-shadow(0px 1px 2px rgba(0, 0, 0, 0.3));\n",
              "      fill: #FFFFFF;\n",
              "    }\n",
              "  </style>\n",
              "\n",
              "      <script>\n",
              "        const buttonEl =\n",
              "          document.querySelector('#df-ee9abc5a-1371-42bb-9bd8-7f306ced191e button.colab-df-convert');\n",
              "        buttonEl.style.display =\n",
              "          google.colab.kernel.accessAllowed ? 'block' : 'none';\n",
              "\n",
              "        async function convertToInteractive(key) {\n",
              "          const element = document.querySelector('#df-ee9abc5a-1371-42bb-9bd8-7f306ced191e');\n",
              "          const dataTable =\n",
              "            await google.colab.kernel.invokeFunction('convertToInteractive',\n",
              "                                                     [key], {});\n",
              "          if (!dataTable) return;\n",
              "\n",
              "          const docLinkHtml = 'Like what you see? Visit the ' +\n",
              "            '<a target=\"_blank\" href=https://colab.research.google.com/notebooks/data_table.ipynb>data table notebook</a>'\n",
              "            + ' to learn more about interactive tables.';\n",
              "          element.innerHTML = '';\n",
              "          dataTable['output_type'] = 'display_data';\n",
              "          await google.colab.output.renderOutput(dataTable, element);\n",
              "          const docLink = document.createElement('div');\n",
              "          docLink.innerHTML = docLinkHtml;\n",
              "          element.appendChild(docLink);\n",
              "        }\n",
              "      </script>\n",
              "    </div>\n",
              "  </div>\n",
              "  "
            ]
          },
          "metadata": {},
          "execution_count": 242
        }
      ]
    },
    {
      "cell_type": "code",
      "source": [
        "# create box-plots to check outliers for ratios for regression.\n",
        "\n",
        "columns = ['E/P_ratio', 'S/P_ratio', 'EBIT/P_ratio', 'B/P_ratio', 'ROA', 'ROE', 'Earnings_per_share',\n",
        "           'Debt_ratio', 'D/E_ratio', 'Net_profit_margin']\n",
        "for i in columns:\n",
        "  sns.boxplot(x=df[i])\n",
        "  plt.show()"
      ],
      "metadata": {
        "id": "16MiJRrKcvXp",
        "colab": {
          "base_uri": "https://localhost:8080/",
          "height": 2681
        },
        "outputId": "a1f108dc-4ec0-48db-bb8e-b4744039d546"
      },
      "execution_count": null,
      "outputs": [
        {
          "output_type": "display_data",
          "data": {
            "text/plain": [
              "<Figure size 432x288 with 1 Axes>"
            ],
            "image/png": "[encoded data removed]"
          },
          "metadata": {
            "needs_background": "light"
          }
        },
        {
          "output_type": "display_data",
          "data": {
            "text/plain": [
              "<Figure size 432x288 with 1 Axes>"
            ],
            "image/png": "[encoded data removed]"
          },
          "metadata": {
            "needs_background": "light"
          }
        },
        {
          "output_type": "display_data",
          "data": {
            "text/plain": [
              "<Figure size 432x288 with 1 Axes>"
            ],
            "image/png": "[encoded data removed]"
          },
          "metadata": {
            "needs_background": "light"
          }
        },
        {
          "output_type": "display_data",
          "data": {
            "text/plain": [
              "<Figure size 432x288 with 1 Axes>"
            ],
            "image/png": "[encoded data removed]"
          },
          "metadata": {
            "needs_background": "light"
          }
        },
        {
          "output_type": "display_data",
          "data": {
            "text/plain": [
              "<Figure size 432x288 with 1 Axes>"
            ],
            "image/png": "[encoded data removed]"
          },
          "metadata": {
            "needs_background": "light"
          }
        },
        {
          "output_type": "display_data",
          "data": {
            "text/plain": [
              "<Figure size 432x288 with 1 Axes>"
            ],
            "image/png": "[encoded data removed]"
          },
          "metadata": {
            "needs_background": "light"
          }
        },
        {
          "output_type": "display_data",
          "data": {
            "text/plain": [
              "<Figure size 432x288 with 1 Axes>"
            ],
            "image/png": "[encoded data removed]"
          },
          "metadata": {
            "needs_background": "light"
          }
        },
        {
          "output_type": "display_data",
          "data": {
            "text/plain": [
              "<Figure size 432x288 with 1 Axes>"
            ],
            "image/png": "[encoded data removed]"
          },
          "metadata": {
            "needs_background": "light"
          }
        },
        {
          "output_type": "display_data",
          "data": {
            "text/plain": [
              "<Figure size 432x288 with 1 Axes>"
            ],
            "image/png": "[encoded data removed]"
          },
          "metadata": {
            "needs_background": "light"
          }
        },
        {
          "output_type": "stream",
          "name": "stderr",
          "text": [
            "/usr/local/lib/python3.7/dist-packages/numpy/core/_methods.py:179: RuntimeWarning: invalid value encountered in reduce\n",
            "  ret = umr_sum(arr, axis, dtype, out, keepdims, where=where)\n"
          ]
        },
        {
          "output_type": "display_data",
          "data": {
            "text/plain": [
              "<Figure size 432x288 with 1 Axes>"
            ],
            "image/png": "[encoded data removed]"
          },
          "metadata": {
            "needs_background": "light"
          }
        }
      ]
    },
    {
      "cell_type": "code",
      "source": [
        "# winsorize outliers based on boxplot distributions\n",
        "\n",
        "for i in columns:\n",
        "  df[i] = winsorize(df[i], (0.05,0.05))"
      ],
      "metadata": {
        "id": "vSpR9xemR-Dc"
      },
      "execution_count": null,
      "outputs": []
    },
    {
      "cell_type": "code",
      "source": [
        "# distribution improved after winsorizing \n",
        "\n",
        "for i in columns:\n",
        "  sns.boxplot(x=df[i])\n",
        "  plt.show()"
      ],
      "metadata": {
        "id": "OVC8mmGNM7M3",
        "colab": {
          "base_uri": "https://localhost:8080/",
          "height": 2645
        },
        "outputId": "dec5c25e-c2b1-488c-cde1-c10aeaadf6a4"
      },
      "execution_count": null,
      "outputs": [
        {
          "output_type": "display_data",
          "data": {
            "text/plain": [
              "<Figure size 432x288 with 1 Axes>"
            ],
            "image/png": "[encoded data removed]"
          },
          "metadata": {
            "needs_background": "light"
          }
        },
        {
          "output_type": "display_data",
          "data": {
            "text/plain": [
              "<Figure size 432x288 with 1 Axes>"
            ],
            "image/png": "[encoded data removed]"
          },
          "metadata": {
            "needs_background": "light"
          }
        },
        {
          "output_type": "display_data",
          "data": {
            "text/plain": [
              "<Figure size 432x288 with 1 Axes>"
            ],
            "image/png": "[encoded data removed]"
          },
          "metadata": {
            "needs_background": "light"
          }
        },
        {
          "output_type": "display_data",
          "data": {
            "text/plain": [
              "<Figure size 432x288 with 1 Axes>"
            ],
            "image/png": "[encoded data removed]"
          },
          "metadata": {
            "needs_background": "light"
          }
        },
        {
          "output_type": "display_data",
          "data": {
            "text/plain": [
              "<Figure size 432x288 with 1 Axes>"
            ],
            "image/png": "[encoded data removed]"
          },
          "metadata": {
            "needs_background": "light"
          }
        },
        {
          "output_type": "display_data",
          "data": {
            "text/plain": [
              "<Figure size 432x288 with 1 Axes>"
            ],
            "image/png": "[encoded data removed]"
          },
          "metadata": {
            "needs_background": "light"
          }
        },
        {
          "output_type": "display_data",
          "data": {
            "text/plain": [
              "<Figure size 432x288 with 1 Axes>"
            ],
            "image/png": "[encoded data removed]"
          },
          "metadata": {
            "needs_background": "light"
          }
        },
        {
          "output_type": "display_data",
          "data": {
            "text/plain": [
              "<Figure size 432x288 with 1 Axes>"
            ],
            "image/png": "[encoded data removed]"
          },
          "metadata": {
            "needs_background": "light"
          }
        },
        {
          "output_type": "display_data",
          "data": {
            "text/plain": [
              "<Figure size 432x288 with 1 Axes>"
            ],
            "image/png": "[encoded data removed]"
          },
          "metadata": {
            "needs_background": "light"
          }
        },
        {
          "output_type": "display_data",
          "data": {
            "text/plain": [
              "<Figure size 432x288 with 1 Axes>"
            ],
            "image/png": "[encoded data removed]"
          },
          "metadata": {
            "needs_background": "light"
          }
        }
      ]
    },
    {
      "cell_type": "code",
      "source": [
        "# create final dataset \n",
        "\n",
        "final_col = ['Ticker','E/P_ratio', 'S/P_ratio', 'EBIT/P_ratio', 'B/P_ratio', \n",
        "             'ROA', 'ROE', 'Earnings_per_share', 'D/E_ratio', 'Net_profit_margin',\n",
        "             'Debt_ratio', 'RetYTD']\n",
        "data_final = df[final_col]\n",
        "data_final.head(2)"
      ],
      "metadata": {
        "id": "8eKX8GC_SsLq",
        "colab": {
          "base_uri": "https://localhost:8080/",
          "height": 112
        },
        "outputId": "a6dea367-47ee-492c-90a0-876b825a96cb"
      },
      "execution_count": null,
      "outputs": [
        {
          "output_type": "execute_result",
          "data": {
            "text/plain": [
              "  Ticker  E/P_ratio  S/P_ratio  EBIT/P_ratio  B/P_ratio       ROA       ROE  \\\n",
              "0      A   0.025079   0.130970      0.029204   0.111695  0.113031  0.025079   \n",
              "1     AA   0.039111   1.107882      0.189357   0.425940  0.028552  0.039111   \n",
              "\n",
              "   Earnings_per_share  D/E_ratio  Net_profit_margin  Debt_ratio  RetYTD  \n",
              "0            4.003865   0.110182           0.191486    0.496590 -0.2080  \n",
              "1            2.330255   0.796906           0.035303    0.581764  0.4731  "
            ],
            "text/html": [
              "\n",
              "  <div id=\"df-f05a2288-2817-4482-8e6a-65db3337d3d5\">\n",
              "    <div class=\"colab-df-container\">\n",
              "      <div>\n",
              "<style scoped>\n",
              "    .dataframe tbody tr th:only-of-type {\n",
              "        vertical-align: middle;\n",
              "    }\n",
              "\n",
              "    .dataframe tbody tr th {\n",
              "        vertical-align: top;\n",
              "    }\n",
              "\n",
              "    .dataframe thead th {\n",
              "        text-align: right;\n",
              "    }\n",
              "</style>\n",
              "<table border=\"1\" class=\"dataframe\">\n",
              "  <thead>\n",
              "    <tr style=\"text-align: right;\">\n",
              "      <th></th>\n",
              "      <th>Ticker</th>\n",
              "      <th>E/P_ratio</th>\n",
              "      <th>S/P_ratio</th>\n",
              "      <th>EBIT/P_ratio</th>\n",
              "      <th>B/P_ratio</th>\n",
              "      <th>ROA</th>\n",
              "      <th>ROE</th>\n",
              "      <th>Earnings_per_share</th>\n",
              "      <th>D/E_ratio</th>\n",
              "      <th>Net_profit_margin</th>\n",
              "      <th>Debt_ratio</th>\n",
              "      <th>RetYTD</th>\n",
              "    </tr>\n",
              "  </thead>\n",
              "  <tbody>\n",
              "    <tr>\n",
              "      <th>0</th>\n",
              "      <td>A</td>\n",
              "      <td>0.025079</td>\n",
              "      <td>0.130970</td>\n",
              "      <td>0.029204</td>\n",
              "      <td>0.111695</td>\n",
              "      <td>0.113031</td>\n",
              "      <td>0.025079</td>\n",
              "      <td>4.003865</td>\n",
              "      <td>0.110182</td>\n",
              "      <td>0.191486</td>\n",
              "      <td>0.496590</td>\n",
              "      <td>-0.2080</td>\n",
              "    </tr>\n",
              "    <tr>\n",
              "      <th>1</th>\n",
              "      <td>AA</td>\n",
              "      <td>0.039111</td>\n",
              "      <td>1.107882</td>\n",
              "      <td>0.189357</td>\n",
              "      <td>0.425940</td>\n",
              "      <td>0.028552</td>\n",
              "      <td>0.039111</td>\n",
              "      <td>2.330255</td>\n",
              "      <td>0.796906</td>\n",
              "      <td>0.035303</td>\n",
              "      <td>0.581764</td>\n",
              "      <td>0.4731</td>\n",
              "    </tr>\n",
              "  </tbody>\n",
              "</table>\n",
              "</div>\n",
              "      <button class=\"colab-df-convert\" onclick=\"convertToInteractive('df-f05a2288-2817-4482-8e6a-65db3337d3d5')\"\n",
              "              title=\"Convert this dataframe to an interactive table.\"\n",
              "              style=\"display:none;\">\n",
              "        \n",
              "  <svg xmlns=\"http://www.w3.org/2000/svg\" height=\"24px\"viewBox=\"0 0 24 24\"\n",
              "       width=\"24px\">\n",
              "    <path d=\"M0 0h24v24H0V0z\" fill=\"none\"/>\n",
              "    <path d=\"M18.56 5.44l.94 2.06.94-2.06 2.06-.94-2.06-.94-.94-2.06-.94 2.06-2.06.94zm-11 1L8.5 8.5l.94-2.06 2.06-.94-2.06-.94L8.5 2.5l-.94 2.06-2.06.94zm10 10l.94 2.06.94-2.06 2.06-.94-2.06-.94-.94-2.06-.94 2.06-2.06.94z\"/><path d=\"M17.41 7.96l-1.37-1.37c-.4-.4-.92-.59-1.43-.59-.52 0-1.04.2-1.43.59L10.3 9.45l-7.72 7.72c-.78.78-.78 2.05 0 2.83L4 21.41c.39.39.9.59 1.41.59.51 0 1.02-.2 1.41-.59l7.78-7.78 2.81-2.81c.8-.78.8-2.07 0-2.86zM5.41 20L4 18.59l7.72-7.72 1.47 1.35L5.41 20z\"/>\n",
              "  </svg>\n",
              "      </button>\n",
              "      \n",
              "  <style>\n",
              "    .colab-df-container {\n",
              "      display:flex;\n",
              "      flex-wrap:wrap;\n",
              "      gap: 12px;\n",
              "    }\n",
              "\n",
              "    .colab-df-convert {\n",
              "      background-color: #E8F0FE;\n",
              "      border: none;\n",
              "      border-radius: 50%;\n",
              "      cursor: pointer;\n",
              "      display: none;\n",
              "      fill: #1967D2;\n",
              "      height: 32px;\n",
              "      padding: 0 0 0 0;\n",
              "      width: 32px;\n",
              "    }\n",
              "\n",
              "    .colab-df-convert:hover {\n",
              "      background-color: #E2EBFA;\n",
              "      box-shadow: 0px 1px 2px rgba(60, 64, 67, 0.3), 0px 1px 3px 1px rgba(60, 64, 67, 0.15);\n",
              "      fill: #174EA6;\n",
              "    }\n",
              "\n",
              "    [theme=dark] .colab-df-convert {\n",
              "      background-color: #3B4455;\n",
              "      fill: #D2E3FC;\n",
              "    }\n",
              "\n",
              "    [theme=dark] .colab-df-convert:hover {\n",
              "      background-color: #434B5C;\n",
              "      box-shadow: 0px 1px 3px 1px rgba(0, 0, 0, 0.15);\n",
              "      filter: drop-shadow(0px 1px 2px rgba(0, 0, 0, 0.3));\n",
              "      fill: #FFFFFF;\n",
              "    }\n",
              "  </style>\n",
              "\n",
              "      <script>\n",
              "        const buttonEl =\n",
              "          document.querySelector('#df-f05a2288-2817-4482-8e6a-65db3337d3d5 button.colab-df-convert');\n",
              "        buttonEl.style.display =\n",
              "          google.colab.kernel.accessAllowed ? 'block' : 'none';\n",
              "\n",
              "        async function convertToInteractive(key) {\n",
              "          const element = document.querySelector('#df-f05a2288-2817-4482-8e6a-65db3337d3d5');\n",
              "          const dataTable =\n",
              "            await google.colab.kernel.invokeFunction('convertToInteractive',\n",
              "                                                     [key], {});\n",
              "          if (!dataTable) return;\n",
              "\n",
              "          const docLinkHtml = 'Like what you see? Visit the ' +\n",
              "            '<a target=\"_blank\" href=https://colab.research.google.com/notebooks/data_table.ipynb>data table notebook</a>'\n",
              "            + ' to learn more about interactive tables.';\n",
              "          element.innerHTML = '';\n",
              "          dataTable['output_type'] = 'display_data';\n",
              "          await google.colab.output.renderOutput(dataTable, element);\n",
              "          const docLink = document.createElement('div');\n",
              "          docLink.innerHTML = docLinkHtml;\n",
              "          element.appendChild(docLink);\n",
              "        }\n",
              "      </script>\n",
              "    </div>\n",
              "  </div>\n",
              "  "
            ]
          },
          "metadata": {},
          "execution_count": 246
        }
      ]
    },
    {
      "cell_type": "code",
      "source": [
        "# we will use this dataset for our regression on ratios in part IV\n",
        "data_final.info()"
      ],
      "metadata": {
        "id": "sEYhjj5tQ93S",
        "colab": {
          "base_uri": "https://localhost:8080/"
        },
        "outputId": "e9411f53-79a7-4943-c7c5-8df145d73987"
      },
      "execution_count": null,
      "outputs": [
        {
          "output_type": "stream",
          "name": "stdout",
          "text": [
            "<class 'pandas.core.frame.DataFrame'>\n",
            "Int64Index: 1886 entries, 0 to 1885\n",
            "Data columns (total 12 columns):\n",
            " #   Column              Non-Null Count  Dtype  \n",
            "---  ------              --------------  -----  \n",
            " 0   Ticker              1886 non-null   object \n",
            " 1   E/P_ratio           1886 non-null   float64\n",
            " 2   S/P_ratio           1886 non-null   float64\n",
            " 3   EBIT/P_ratio        1886 non-null   float64\n",
            " 4   B/P_ratio           1886 non-null   float64\n",
            " 5   ROA                 1886 non-null   float64\n",
            " 6   ROE                 1886 non-null   float64\n",
            " 7   Earnings_per_share  1886 non-null   float64\n",
            " 8   D/E_ratio           1886 non-null   float64\n",
            " 9   Net_profit_margin   1886 non-null   float64\n",
            " 10  Debt_ratio          1886 non-null   float64\n",
            " 11  RetYTD              1886 non-null   float64\n",
            "dtypes: float64(11), object(1)\n",
            "memory usage: 191.5+ KB\n"
          ]
        }
      ]
    },
    {
      "cell_type": "code",
      "source": [
        "# output to csv based on project instructions\n",
        "\n",
        "fin_ratios = data_final.drop('RetYTD', axis = 1)\n",
        "# fin_ratios.to_csv(\"Fin-Ratios.csv\")"
      ],
      "metadata": {
        "id": "2CCVLje_sjse"
      },
      "execution_count": null,
      "outputs": []
    },
    {
      "cell_type": "markdown",
      "source": [
        "# Part III: Industry Indicators"
      ],
      "metadata": {
        "id": "i1zmjDowM7RH"
      }
    },
    {
      "cell_type": "markdown",
      "source": [
        "### Import sector dataset"
      ],
      "metadata": {
        "id": "KbP6gkwENaJi"
      }
    },
    {
      "cell_type": "code",
      "source": [
        "df_sec = pd.read_csv(\"Project-2021-Sector.csv\")"
      ],
      "metadata": {
        "id": "cL-lCe13BPlG"
      },
      "execution_count": null,
      "outputs": []
    },
    {
      "cell_type": "code",
      "source": [
        "# rename date column of df_sec for merging with df_ticker\n",
        "df_sec.rename(columns={'tic':'Ticker'}, inplace=True)"
      ],
      "metadata": {
        "id": "jUaNFhGbC1Tu"
      },
      "execution_count": null,
      "outputs": []
    },
    {
      "cell_type": "code",
      "source": [
        "# Merging dataset\n",
        "df1 = pd.merge(df_tic, df_sec, on='Ticker', how='left')\n",
        "df1.head(2)"
      ],
      "metadata": {
        "id": "_po8nFPPC4QI",
        "colab": {
          "base_uri": "https://localhost:8080/",
          "height": 112
        },
        "outputId": "2d32c090-bd99-4cd3-a0e0-0ef9b2a58816"
      },
      "execution_count": null,
      "outputs": [
        {
          "output_type": "execute_result",
          "data": {
            "text/plain": [
              "  Ticker                  Name   RetYTD   gvkey  datadate  fyear indfmt  \\\n",
              "0      A  Agilent Technologies  -0.2080  126554  20211031   2021   INDL   \n",
              "1     AA            Alcoa Corp   0.4731   27638  20211231   2021   INDL   \n",
              "\n",
              "  consol popsrc datafmt curcd costat  ggroup  \n",
              "0      C      D     STD   USD      A    3520  \n",
              "1      C      D     STD   USD      A    1510  "
            ],
            "text/html": [
              "\n",
              "  <div id=\"df-c3b5da42-2dd7-4b9e-b13d-6015498560e0\">\n",
              "    <div class=\"colab-df-container\">\n",
              "      <div>\n",
              "<style scoped>\n",
              "    .dataframe tbody tr th:only-of-type {\n",
              "        vertical-align: middle;\n",
              "    }\n",
              "\n",
              "    .dataframe tbody tr th {\n",
              "        vertical-align: top;\n",
              "    }\n",
              "\n",
              "    .dataframe thead th {\n",
              "        text-align: right;\n",
              "    }\n",
              "</style>\n",
              "<table border=\"1\" class=\"dataframe\">\n",
              "  <thead>\n",
              "    <tr style=\"text-align: right;\">\n",
              "      <th></th>\n",
              "      <th>Ticker</th>\n",
              "      <th>Name</th>\n",
              "      <th>RetYTD</th>\n",
              "      <th>gvkey</th>\n",
              "      <th>datadate</th>\n",
              "      <th>fyear</th>\n",
              "      <th>indfmt</th>\n",
              "      <th>consol</th>\n",
              "      <th>popsrc</th>\n",
              "      <th>datafmt</th>\n",
              "      <th>curcd</th>\n",
              "      <th>costat</th>\n",
              "      <th>ggroup</th>\n",
              "    </tr>\n",
              "  </thead>\n",
              "  <tbody>\n",
              "    <tr>\n",
              "      <th>0</th>\n",
              "      <td>A</td>\n",
              "      <td>Agilent Technologies</td>\n",
              "      <td>-0.2080</td>\n",
              "      <td>126554</td>\n",
              "      <td>20211031</td>\n",
              "      <td>2021</td>\n",
              "      <td>INDL</td>\n",
              "      <td>C</td>\n",
              "      <td>D</td>\n",
              "      <td>STD</td>\n",
              "      <td>USD</td>\n",
              "      <td>A</td>\n",
              "      <td>3520</td>\n",
              "    </tr>\n",
              "    <tr>\n",
              "      <th>1</th>\n",
              "      <td>AA</td>\n",
              "      <td>Alcoa Corp</td>\n",
              "      <td>0.4731</td>\n",
              "      <td>27638</td>\n",
              "      <td>20211231</td>\n",
              "      <td>2021</td>\n",
              "      <td>INDL</td>\n",
              "      <td>C</td>\n",
              "      <td>D</td>\n",
              "      <td>STD</td>\n",
              "      <td>USD</td>\n",
              "      <td>A</td>\n",
              "      <td>1510</td>\n",
              "    </tr>\n",
              "  </tbody>\n",
              "</table>\n",
              "</div>\n",
              "      <button class=\"colab-df-convert\" onclick=\"convertToInteractive('df-c3b5da42-2dd7-4b9e-b13d-6015498560e0')\"\n",
              "              title=\"Convert this dataframe to an interactive table.\"\n",
              "              style=\"display:none;\">\n",
              "        \n",
              "  <svg xmlns=\"http://www.w3.org/2000/svg\" height=\"24px\"viewBox=\"0 0 24 24\"\n",
              "       width=\"24px\">\n",
              "    <path d=\"M0 0h24v24H0V0z\" fill=\"none\"/>\n",
              "    <path d=\"M18.56 5.44l.94 2.06.94-2.06 2.06-.94-2.06-.94-.94-2.06-.94 2.06-2.06.94zm-11 1L8.5 8.5l.94-2.06 2.06-.94-2.06-.94L8.5 2.5l-.94 2.06-2.06.94zm10 10l.94 2.06.94-2.06 2.06-.94-2.06-.94-.94-2.06-.94 2.06-2.06.94z\"/><path d=\"M17.41 7.96l-1.37-1.37c-.4-.4-.92-.59-1.43-.59-.52 0-1.04.2-1.43.59L10.3 9.45l-7.72 7.72c-.78.78-.78 2.05 0 2.83L4 21.41c.39.39.9.59 1.41.59.51 0 1.02-.2 1.41-.59l7.78-7.78 2.81-2.81c.8-.78.8-2.07 0-2.86zM5.41 20L4 18.59l7.72-7.72 1.47 1.35L5.41 20z\"/>\n",
              "  </svg>\n",
              "      </button>\n",
              "      \n",
              "  <style>\n",
              "    .colab-df-container {\n",
              "      display:flex;\n",
              "      flex-wrap:wrap;\n",
              "      gap: 12px;\n",
              "    }\n",
              "\n",
              "    .colab-df-convert {\n",
              "      background-color: #E8F0FE;\n",
              "      border: none;\n",
              "      border-radius: 50%;\n",
              "      cursor: pointer;\n",
              "      display: none;\n",
              "      fill: #1967D2;\n",
              "      height: 32px;\n",
              "      padding: 0 0 0 0;\n",
              "      width: 32px;\n",
              "    }\n",
              "\n",
              "    .colab-df-convert:hover {\n",
              "      background-color: #E2EBFA;\n",
              "      box-shadow: 0px 1px 2px rgba(60, 64, 67, 0.3), 0px 1px 3px 1px rgba(60, 64, 67, 0.15);\n",
              "      fill: #174EA6;\n",
              "    }\n",
              "\n",
              "    [theme=dark] .colab-df-convert {\n",
              "      background-color: #3B4455;\n",
              "      fill: #D2E3FC;\n",
              "    }\n",
              "\n",
              "    [theme=dark] .colab-df-convert:hover {\n",
              "      background-color: #434B5C;\n",
              "      box-shadow: 0px 1px 3px 1px rgba(0, 0, 0, 0.15);\n",
              "      filter: drop-shadow(0px 1px 2px rgba(0, 0, 0, 0.3));\n",
              "      fill: #FFFFFF;\n",
              "    }\n",
              "  </style>\n",
              "\n",
              "      <script>\n",
              "        const buttonEl =\n",
              "          document.querySelector('#df-c3b5da42-2dd7-4b9e-b13d-6015498560e0 button.colab-df-convert');\n",
              "        buttonEl.style.display =\n",
              "          google.colab.kernel.accessAllowed ? 'block' : 'none';\n",
              "\n",
              "        async function convertToInteractive(key) {\n",
              "          const element = document.querySelector('#df-c3b5da42-2dd7-4b9e-b13d-6015498560e0');\n",
              "          const dataTable =\n",
              "            await google.colab.kernel.invokeFunction('convertToInteractive',\n",
              "                                                     [key], {});\n",
              "          if (!dataTable) return;\n",
              "\n",
              "          const docLinkHtml = 'Like what you see? Visit the ' +\n",
              "            '<a target=\"_blank\" href=https://colab.research.google.com/notebooks/data_table.ipynb>data table notebook</a>'\n",
              "            + ' to learn more about interactive tables.';\n",
              "          element.innerHTML = '';\n",
              "          dataTable['output_type'] = 'display_data';\n",
              "          await google.colab.output.renderOutput(dataTable, element);\n",
              "          const docLink = document.createElement('div');\n",
              "          docLink.innerHTML = docLinkHtml;\n",
              "          element.appendChild(docLink);\n",
              "        }\n",
              "      </script>\n",
              "    </div>\n",
              "  </div>\n",
              "  "
            ]
          },
          "metadata": {},
          "execution_count": 251
        }
      ]
    },
    {
      "cell_type": "code",
      "source": [
        "# drop uneccessary columns \n",
        "\n",
        "df1 = df1.drop(columns=['Name ', 'gvkey', 'datadate', 'fyear', 'indfmt', 'consol', 'popsrc', 'datafmt', 'curcd', 'costat'])"
      ],
      "metadata": {
        "id": "DVDmhrWKiCDI"
      },
      "execution_count": null,
      "outputs": []
    },
    {
      "cell_type": "code",
      "source": [
        "df1.info()"
      ],
      "metadata": {
        "colab": {
          "base_uri": "https://localhost:8080/"
        },
        "id": "KMJI_f07ivCQ",
        "outputId": "2839db6e-397e-4345-8399-e1f25dc5b39b"
      },
      "execution_count": null,
      "outputs": [
        {
          "output_type": "stream",
          "name": "stdout",
          "text": [
            "<class 'pandas.core.frame.DataFrame'>\n",
            "Int64Index: 1886 entries, 0 to 1885\n",
            "Data columns (total 3 columns):\n",
            " #   Column  Non-Null Count  Dtype  \n",
            "---  ------  --------------  -----  \n",
            " 0   Ticker  1886 non-null   object \n",
            " 1   RetYTD  1886 non-null   float64\n",
            " 2   ggroup  1886 non-null   int64  \n",
            "dtypes: float64(1), int64(1), object(1)\n",
            "memory usage: 58.9+ KB\n"
          ]
        }
      ]
    },
    {
      "cell_type": "code",
      "source": [
        "# get csv based on project instructions\n",
        "\n",
        "industry = df1.drop('RetYTD', axis = 1)\n",
        "# industry.to_csv(\"Industry.csv\")"
      ],
      "metadata": {
        "id": "NpgFDcKYDBr7"
      },
      "execution_count": null,
      "outputs": []
    },
    {
      "cell_type": "code",
      "source": [
        "# for presentation \n",
        "ind = sns.countplot(x=\"ggroup\", data=industry, order = industry['ggroup'].value_counts().index).set(title = 'Tickers per Industry Group')\n",
        "plt.xticks(rotation=90)"
      ],
      "metadata": {
        "colab": {
          "base_uri": "https://localhost:8080/",
          "height": 365
        },
        "id": "JEX0-7bHeP4E",
        "outputId": "f286e1f8-ddf7-40cd-b907-15160cab51ef"
      },
      "execution_count": null,
      "outputs": [
        {
          "output_type": "execute_result",
          "data": {
            "text/plain": [
              "(array([ 0,  1,  2,  3,  4,  5,  6,  7,  8,  9, 10, 11, 12, 13, 14, 15, 16,\n",
              "        17, 18, 19, 20, 21, 22, 23]),\n",
              " <a list of 24 Text major ticklabel objects>)"
            ]
          },
          "metadata": {},
          "execution_count": 255
        },
        {
          "output_type": "display_data",
          "data": {
            "text/plain": [
              "<Figure size 432x288 with 1 Axes>"
            ],
            "image/png": "[encoded data removed]"
          },
          "metadata": {
            "needs_background": "light"
          }
        }
      ]
    },
    {
      "cell_type": "markdown",
      "source": [
        "# Part IV: Regression"
      ],
      "metadata": {
        "id": "xLEoPG5po5o8"
      }
    },
    {
      "cell_type": "markdown",
      "source": [
        "## Risk Regressions"
      ],
      "metadata": {
        "id": "V7ZKBkURqRQe"
      }
    },
    {
      "cell_type": "markdown",
      "source": [
        "###i. Ret(i) = a + b1*MktExposure(i) + b2*SizeExposure(i) + b3*ValueExposure(i) + e"
      ],
      "metadata": {
        "id": "Pa0Sw7nzcP13"
      }
    },
    {
      "cell_type": "code",
      "source": [
        "# merge two datasets ('df_tic' & 'output') on Ticker\n",
        "\n",
        "output.rename(columns={'TICKER':'Ticker'}, inplace=True)\n",
        "risk = pd.merge(df_tic, output, on='Ticker', how='left')\n",
        "risk.head(2)"
      ],
      "metadata": {
        "id": "EiIokO8ncfbL",
        "colab": {
          "base_uri": "https://localhost:8080/",
          "height": 112
        },
        "outputId": "1c5bded1-e993-41cf-dd26-a729be59d6cf"
      },
      "execution_count": null,
      "outputs": [
        {
          "output_type": "execute_result",
          "data": {
            "text/plain": [
              "  Ticker                  Name   RetYTD     mktrf       smb       hml\n",
              "0      A  Agilent Technologies  -0.2080  1.014152 -0.253674 -0.143608\n",
              "1     AA            Alcoa Corp   0.4731  1.984149  0.527862  1.863158"
            ],
            "text/html": [
              "\n",
              "  <div id=\"df-ca3f27a6-da77-4956-b540-75c2e1d65755\">\n",
              "    <div class=\"colab-df-container\">\n",
              "      <div>\n",
              "<style scoped>\n",
              "    .dataframe tbody tr th:only-of-type {\n",
              "        vertical-align: middle;\n",
              "    }\n",
              "\n",
              "    .dataframe tbody tr th {\n",
              "        vertical-align: top;\n",
              "    }\n",
              "\n",
              "    .dataframe thead th {\n",
              "        text-align: right;\n",
              "    }\n",
              "</style>\n",
              "<table border=\"1\" class=\"dataframe\">\n",
              "  <thead>\n",
              "    <tr style=\"text-align: right;\">\n",
              "      <th></th>\n",
              "      <th>Ticker</th>\n",
              "      <th>Name</th>\n",
              "      <th>RetYTD</th>\n",
              "      <th>mktrf</th>\n",
              "      <th>smb</th>\n",
              "      <th>hml</th>\n",
              "    </tr>\n",
              "  </thead>\n",
              "  <tbody>\n",
              "    <tr>\n",
              "      <th>0</th>\n",
              "      <td>A</td>\n",
              "      <td>Agilent Technologies</td>\n",
              "      <td>-0.2080</td>\n",
              "      <td>1.014152</td>\n",
              "      <td>-0.253674</td>\n",
              "      <td>-0.143608</td>\n",
              "    </tr>\n",
              "    <tr>\n",
              "      <th>1</th>\n",
              "      <td>AA</td>\n",
              "      <td>Alcoa Corp</td>\n",
              "      <td>0.4731</td>\n",
              "      <td>1.984149</td>\n",
              "      <td>0.527862</td>\n",
              "      <td>1.863158</td>\n",
              "    </tr>\n",
              "  </tbody>\n",
              "</table>\n",
              "</div>\n",
              "      <button class=\"colab-df-convert\" onclick=\"convertToInteractive('df-ca3f27a6-da77-4956-b540-75c2e1d65755')\"\n",
              "              title=\"Convert this dataframe to an interactive table.\"\n",
              "              style=\"display:none;\">\n",
              "        \n",
              "  <svg xmlns=\"http://www.w3.org/2000/svg\" height=\"24px\"viewBox=\"0 0 24 24\"\n",
              "       width=\"24px\">\n",
              "    <path d=\"M0 0h24v24H0V0z\" fill=\"none\"/>\n",
              "    <path d=\"M18.56 5.44l.94 2.06.94-2.06 2.06-.94-2.06-.94-.94-2.06-.94 2.06-2.06.94zm-11 1L8.5 8.5l.94-2.06 2.06-.94-2.06-.94L8.5 2.5l-.94 2.06-2.06.94zm10 10l.94 2.06.94-2.06 2.06-.94-2.06-.94-.94-2.06-.94 2.06-2.06.94z\"/><path d=\"M17.41 7.96l-1.37-1.37c-.4-.4-.92-.59-1.43-.59-.52 0-1.04.2-1.43.59L10.3 9.45l-7.72 7.72c-.78.78-.78 2.05 0 2.83L4 21.41c.39.39.9.59 1.41.59.51 0 1.02-.2 1.41-.59l7.78-7.78 2.81-2.81c.8-.78.8-2.07 0-2.86zM5.41 20L4 18.59l7.72-7.72 1.47 1.35L5.41 20z\"/>\n",
              "  </svg>\n",
              "      </button>\n",
              "      \n",
              "  <style>\n",
              "    .colab-df-container {\n",
              "      display:flex;\n",
              "      flex-wrap:wrap;\n",
              "      gap: 12px;\n",
              "    }\n",
              "\n",
              "    .colab-df-convert {\n",
              "      background-color: #E8F0FE;\n",
              "      border: none;\n",
              "      border-radius: 50%;\n",
              "      cursor: pointer;\n",
              "      display: none;\n",
              "      fill: #1967D2;\n",
              "      height: 32px;\n",
              "      padding: 0 0 0 0;\n",
              "      width: 32px;\n",
              "    }\n",
              "\n",
              "    .colab-df-convert:hover {\n",
              "      background-color: #E2EBFA;\n",
              "      box-shadow: 0px 1px 2px rgba(60, 64, 67, 0.3), 0px 1px 3px 1px rgba(60, 64, 67, 0.15);\n",
              "      fill: #174EA6;\n",
              "    }\n",
              "\n",
              "    [theme=dark] .colab-df-convert {\n",
              "      background-color: #3B4455;\n",
              "      fill: #D2E3FC;\n",
              "    }\n",
              "\n",
              "    [theme=dark] .colab-df-convert:hover {\n",
              "      background-color: #434B5C;\n",
              "      box-shadow: 0px 1px 3px 1px rgba(0, 0, 0, 0.15);\n",
              "      filter: drop-shadow(0px 1px 2px rgba(0, 0, 0, 0.3));\n",
              "      fill: #FFFFFF;\n",
              "    }\n",
              "  </style>\n",
              "\n",
              "      <script>\n",
              "        const buttonEl =\n",
              "          document.querySelector('#df-ca3f27a6-da77-4956-b540-75c2e1d65755 button.colab-df-convert');\n",
              "        buttonEl.style.display =\n",
              "          google.colab.kernel.accessAllowed ? 'block' : 'none';\n",
              "\n",
              "        async function convertToInteractive(key) {\n",
              "          const element = document.querySelector('#df-ca3f27a6-da77-4956-b540-75c2e1d65755');\n",
              "          const dataTable =\n",
              "            await google.colab.kernel.invokeFunction('convertToInteractive',\n",
              "                                                     [key], {});\n",
              "          if (!dataTable) return;\n",
              "\n",
              "          const docLinkHtml = 'Like what you see? Visit the ' +\n",
              "            '<a target=\"_blank\" href=https://colab.research.google.com/notebooks/data_table.ipynb>data table notebook</a>'\n",
              "            + ' to learn more about interactive tables.';\n",
              "          element.innerHTML = '';\n",
              "          dataTable['output_type'] = 'display_data';\n",
              "          await google.colab.output.renderOutput(dataTable, element);\n",
              "          const docLink = document.createElement('div');\n",
              "          docLink.innerHTML = docLinkHtml;\n",
              "          element.appendChild(docLink);\n",
              "        }\n",
              "      </script>\n",
              "    </div>\n",
              "  </div>\n",
              "  "
            ]
          },
          "metadata": {},
          "execution_count": 256
        }
      ]
    },
    {
      "cell_type": "code",
      "source": [
        "# drop the columns 'Ticker' and 'Name '\n",
        "risk = risk.drop(columns=['Ticker', 'Name '])\n",
        "risk.info()"
      ],
      "metadata": {
        "colab": {
          "base_uri": "https://localhost:8080/"
        },
        "id": "s9OXHdnmchOR",
        "outputId": "8b210368-744b-4efe-ac30-c80e8ba948f2"
      },
      "execution_count": null,
      "outputs": [
        {
          "output_type": "stream",
          "name": "stdout",
          "text": [
            "<class 'pandas.core.frame.DataFrame'>\n",
            "Int64Index: 1886 entries, 0 to 1885\n",
            "Data columns (total 4 columns):\n",
            " #   Column  Non-Null Count  Dtype  \n",
            "---  ------  --------------  -----  \n",
            " 0   RetYTD  1886 non-null   float64\n",
            " 1   mktrf   1886 non-null   float64\n",
            " 2   smb     1886 non-null   float64\n",
            " 3   hml     1886 non-null   float64\n",
            "dtypes: float64(4)\n",
            "memory usage: 73.7 KB\n"
          ]
        }
      ]
    },
    {
      "cell_type": "code",
      "source": [
        "# Regression to explain how fama french factors in general explain stock returns \n",
        "\n",
        "# add constant column to the original dataframe\n",
        "risk['constant'] = 1\n",
        "# define x2 as a subset of original dataframe\n",
        "x1 = risk.drop(columns=['RetYTD'])\n",
        "# Define y2 as a series\n",
        "y1 = risk['RetYTD']\n",
        "model1 = sm.OLS(y1, x1)\n",
        "results1 = model1.fit()\n",
        "print(results1.summary())"
      ],
      "metadata": {
        "colab": {
          "base_uri": "https://localhost:8080/"
        },
        "id": "f5Ek_vYscilI",
        "outputId": "e189b157-491f-45c6-e258-7b6203fc8462"
      },
      "execution_count": null,
      "outputs": [
        {
          "output_type": "stream",
          "name": "stdout",
          "text": [
            "                            OLS Regression Results                            \n",
            "==============================================================================\n",
            "Dep. Variable:                 RetYTD   R-squared:                       0.093\n",
            "Model:                            OLS   Adj. R-squared:                  0.092\n",
            "Method:                 Least Squares   F-statistic:                     64.54\n",
            "Date:                Wed, 27 Apr 2022   Prob (F-statistic):           1.02e-39\n",
            "Time:                        19:08:53   Log-Likelihood:                 78.629\n",
            "No. Observations:                1886   AIC:                            -149.3\n",
            "Df Residuals:                    1882   BIC:                            -127.1\n",
            "Df Model:                           3                                         \n",
            "Covariance Type:            nonrobust                                         \n",
            "==============================================================================\n",
            "                 coef    std err          t      P>|t|      [0.025      0.975]\n",
            "------------------------------------------------------------------------------\n",
            "mktrf         -0.0045      0.011     -0.421      0.673      -0.026       0.017\n",
            "smb           -0.0068      0.006     -1.123      0.262      -0.019       0.005\n",
            "hml            0.1145      0.008     13.791      0.000       0.098       0.131\n",
            "constant      -0.0905      0.012     -7.376      0.000      -0.115      -0.066\n",
            "==============================================================================\n",
            "Omnibus:                      643.072   Durbin-Watson:                   2.005\n",
            "Prob(Omnibus):                  0.000   Jarque-Bera (JB):             3508.848\n",
            "Skew:                           1.504   Prob(JB):                         0.00\n",
            "Kurtosis:                       8.967   Cond. No.                         5.07\n",
            "==============================================================================\n",
            "\n",
            "Warnings:\n",
            "[1] Standard Errors assume that the covariance matrix of the errors is correctly specified.\n"
          ]
        }
      ]
    },
    {
      "cell_type": "markdown",
      "source": [
        "### Regression Summary "
      ],
      "metadata": {
        "id": "DKEZcjwpqjMT"
      }
    },
    {
      "cell_type": "markdown",
      "source": [
        "- Ret(i) = a + b1*MktExposure(i) + b2*SizeExposure(i) + b3*ValueExposure(i) + e\n",
        "- Adjusted R-squared indicates that the ff-factors mktrf, smb, and hml are only explanining 9.2% of the variation in the stock return (RetYTD).\n",
        "- Coefficients indicate the amount increase/decrease in average stock returns when we increase beta by 1 unit. \n",
        "- P-value is insignificant for mktrf and smb and significant for hml and the constant (alpha).\n",
        "- Looking at P-value and T-stat simultaneously, we can see that hml is the variable that explains most of the returns. "
      ],
      "metadata": {
        "id": "SIZxSiURrKKQ"
      }
    },
    {
      "cell_type": "markdown",
      "source": [
        "## Financial Characteristics\n"
      ],
      "metadata": {
        "id": "8Dv4bMvLbzcn"
      }
    },
    {
      "cell_type": "markdown",
      "source": [
        "###i. Ret(i) = a + b1 * Ratio1(i) + b2 * Ratio2(i) + … + b10 * Ratio10 (i) + e"
      ],
      "metadata": {
        "id": "Y5FYvrpVTUFA"
      }
    },
    {
      "cell_type": "code",
      "execution_count": null,
      "metadata": {
        "id": "o8HdM-g-Fp3p",
        "colab": {
          "base_uri": "https://localhost:8080/"
        },
        "outputId": "a727d022-da16-4f02-d602-5b2f58e28570"
      },
      "outputs": [
        {
          "output_type": "stream",
          "name": "stderr",
          "text": [
            "/usr/local/lib/python3.7/dist-packages/statsmodels/tsa/tsatools.py:117: FutureWarning: In a future version of pandas all arguments of concat except for the argument 'objs' will be keyword-only\n",
            "  x = pd.concat(x[::order], 1)\n"
          ]
        }
      ],
      "source": [
        "x2 = data_final[columns]\n",
        "y2 = data_final['RetYTD']\n",
        "x2 = sm.add_constant(x2)"
      ]
    },
    {
      "cell_type": "code",
      "execution_count": null,
      "metadata": {
        "id": "c0DDEGtHGAgw",
        "colab": {
          "base_uri": "https://localhost:8080/"
        },
        "outputId": "8b8b1fd1-0a39-4daf-a090-e49a4927e28e"
      },
      "outputs": [
        {
          "output_type": "stream",
          "name": "stdout",
          "text": [
            "                            OLS Regression Results                            \n",
            "==============================================================================\n",
            "Dep. Variable:                 RetYTD   R-squared:                       0.102\n",
            "Model:                            OLS   Adj. R-squared:                  0.098\n",
            "Method:                 Least Squares   F-statistic:                     23.78\n",
            "Date:                Wed, 27 Apr 2022   Prob (F-statistic):           7.57e-39\n",
            "Time:                        19:08:53   Log-Likelihood:                 88.169\n",
            "No. Observations:                1886   AIC:                            -156.3\n",
            "Df Residuals:                    1876   BIC:                            -100.9\n",
            "Df Model:                           9                                         \n",
            "Covariance Type:            nonrobust                                         \n",
            "======================================================================================\n",
            "                         coef    std err          t      P>|t|      [0.025      0.975]\n",
            "--------------------------------------------------------------------------------------\n",
            "const                 -0.2812      0.025    -11.410      0.000      -0.330      -0.233\n",
            "E/P_ratio             -0.3461      0.087     -3.995      0.000      -0.516      -0.176\n",
            "S/P_ratio              0.0171      0.009      1.862      0.063      -0.001       0.035\n",
            "EBIT/P_ratio           0.3965      0.131      3.037      0.002       0.140       0.653\n",
            "B/P_ratio              0.2899      0.027     10.912      0.000       0.238       0.342\n",
            "ROA                    0.2523      0.135      1.871      0.061      -0.012       0.517\n",
            "ROE                   -0.3461      0.087     -3.995      0.000      -0.516      -0.176\n",
            "Earnings_per_share    -0.0024      0.002     -1.557      0.120      -0.006       0.001\n",
            "Debt_ratio             0.2023      0.036      5.658      0.000       0.132       0.272\n",
            "D/E_ratio             -0.0316      0.005     -6.367      0.000      -0.041      -0.022\n",
            "Net_profit_margin      0.0649      0.039      1.670      0.095      -0.011       0.141\n",
            "==============================================================================\n",
            "Omnibus:                      660.329   Durbin-Watson:                   2.032\n",
            "Prob(Omnibus):                  0.000   Jarque-Bera (JB):             4138.292\n",
            "Skew:                           1.502   Prob(JB):                         0.00\n",
            "Kurtosis:                       9.606   Cond. No.                     2.51e+17\n",
            "==============================================================================\n",
            "\n",
            "Warnings:\n",
            "[1] Standard Errors assume that the covariance matrix of the errors is correctly specified.\n",
            "[2] The smallest eigenvalue is 1.07e-30. This might indicate that there are\n",
            "strong multicollinearity problems or that the design matrix is singular.\n"
          ]
        }
      ],
      "source": [
        "model2 = sm.OLS(y2, x2)\n",
        "results2 = model2.fit()\n",
        "print(results2.summary())"
      ]
    },
    {
      "cell_type": "markdown",
      "source": [
        "### Regression Summary\n",
        "\n"
      ],
      "metadata": {
        "id": "K7J3fQ3ULhXH"
      }
    },
    {
      "cell_type": "markdown",
      "source": [
        "- Ret(i) = a + b1 * Ratio1(i) + b2 * Ratio2(i) + … + b10 * Ratio10 (i) + e\n",
        "- Ratios perform slightly better than FF-factors when it comes to explaining stock returns. Adjusted R-squared (9.8%) here is greater than that of the risk regression.\n",
        "- Coefficient indicate the average increase or decrease in stock returns when we increase beta by one unit. \n",
        "- Most of our ratios have significant P-values except S/P, ROA, Earnings per share, and net profit margin ratios.\n",
        "- B/P ratio has the highest t-stat value which indicates the variable with the highest confidence in the coefficient as a predictor. "
      ],
      "metadata": {
        "id": "vx4m2dY8LzZh"
      }
    },
    {
      "cell_type": "markdown",
      "source": [
        "## Industry Dummies"
      ],
      "metadata": {
        "id": "NIvGb62ej-Zj"
      }
    },
    {
      "cell_type": "markdown",
      "source": [
        "### Ret(i) = a + betas * IndustryDummies + e"
      ],
      "metadata": {
        "id": "P2xWH-j_Uu9L"
      }
    },
    {
      "cell_type": "code",
      "source": [
        "df1.head(2)"
      ],
      "metadata": {
        "colab": {
          "base_uri": "https://localhost:8080/",
          "height": 112
        },
        "id": "pkgrfAY27MtD",
        "outputId": "81c845d3-d82c-4177-86b8-ce7381bd2410"
      },
      "execution_count": null,
      "outputs": [
        {
          "output_type": "execute_result",
          "data": {
            "text/plain": [
              "  Ticker  RetYTD  ggroup\n",
              "0      A -0.2080    3520\n",
              "1     AA  0.4731    1510"
            ],
            "text/html": [
              "\n",
              "  <div id=\"df-956ae7e6-dcd6-4490-9585-29bfb7e556d7\">\n",
              "    <div class=\"colab-df-container\">\n",
              "      <div>\n",
              "<style scoped>\n",
              "    .dataframe tbody tr th:only-of-type {\n",
              "        vertical-align: middle;\n",
              "    }\n",
              "\n",
              "    .dataframe tbody tr th {\n",
              "        vertical-align: top;\n",
              "    }\n",
              "\n",
              "    .dataframe thead th {\n",
              "        text-align: right;\n",
              "    }\n",
              "</style>\n",
              "<table border=\"1\" class=\"dataframe\">\n",
              "  <thead>\n",
              "    <tr style=\"text-align: right;\">\n",
              "      <th></th>\n",
              "      <th>Ticker</th>\n",
              "      <th>RetYTD</th>\n",
              "      <th>ggroup</th>\n",
              "    </tr>\n",
              "  </thead>\n",
              "  <tbody>\n",
              "    <tr>\n",
              "      <th>0</th>\n",
              "      <td>A</td>\n",
              "      <td>-0.2080</td>\n",
              "      <td>3520</td>\n",
              "    </tr>\n",
              "    <tr>\n",
              "      <th>1</th>\n",
              "      <td>AA</td>\n",
              "      <td>0.4731</td>\n",
              "      <td>1510</td>\n",
              "    </tr>\n",
              "  </tbody>\n",
              "</table>\n",
              "</div>\n",
              "      <button class=\"colab-df-convert\" onclick=\"convertToInteractive('df-956ae7e6-dcd6-4490-9585-29bfb7e556d7')\"\n",
              "              title=\"Convert this dataframe to an interactive table.\"\n",
              "              style=\"display:none;\">\n",
              "        \n",
              "  <svg xmlns=\"http://www.w3.org/2000/svg\" height=\"24px\"viewBox=\"0 0 24 24\"\n",
              "       width=\"24px\">\n",
              "    <path d=\"M0 0h24v24H0V0z\" fill=\"none\"/>\n",
              "    <path d=\"M18.56 5.44l.94 2.06.94-2.06 2.06-.94-2.06-.94-.94-2.06-.94 2.06-2.06.94zm-11 1L8.5 8.5l.94-2.06 2.06-.94-2.06-.94L8.5 2.5l-.94 2.06-2.06.94zm10 10l.94 2.06.94-2.06 2.06-.94-2.06-.94-.94-2.06-.94 2.06-2.06.94z\"/><path d=\"M17.41 7.96l-1.37-1.37c-.4-.4-.92-.59-1.43-.59-.52 0-1.04.2-1.43.59L10.3 9.45l-7.72 7.72c-.78.78-.78 2.05 0 2.83L4 21.41c.39.39.9.59 1.41.59.51 0 1.02-.2 1.41-.59l7.78-7.78 2.81-2.81c.8-.78.8-2.07 0-2.86zM5.41 20L4 18.59l7.72-7.72 1.47 1.35L5.41 20z\"/>\n",
              "  </svg>\n",
              "      </button>\n",
              "      \n",
              "  <style>\n",
              "    .colab-df-container {\n",
              "      display:flex;\n",
              "      flex-wrap:wrap;\n",
              "      gap: 12px;\n",
              "    }\n",
              "\n",
              "    .colab-df-convert {\n",
              "      background-color: #E8F0FE;\n",
              "      border: none;\n",
              "      border-radius: 50%;\n",
              "      cursor: pointer;\n",
              "      display: none;\n",
              "      fill: #1967D2;\n",
              "      height: 32px;\n",
              "      padding: 0 0 0 0;\n",
              "      width: 32px;\n",
              "    }\n",
              "\n",
              "    .colab-df-convert:hover {\n",
              "      background-color: #E2EBFA;\n",
              "      box-shadow: 0px 1px 2px rgba(60, 64, 67, 0.3), 0px 1px 3px 1px rgba(60, 64, 67, 0.15);\n",
              "      fill: #174EA6;\n",
              "    }\n",
              "\n",
              "    [theme=dark] .colab-df-convert {\n",
              "      background-color: #3B4455;\n",
              "      fill: #D2E3FC;\n",
              "    }\n",
              "\n",
              "    [theme=dark] .colab-df-convert:hover {\n",
              "      background-color: #434B5C;\n",
              "      box-shadow: 0px 1px 3px 1px rgba(0, 0, 0, 0.15);\n",
              "      filter: drop-shadow(0px 1px 2px rgba(0, 0, 0, 0.3));\n",
              "      fill: #FFFFFF;\n",
              "    }\n",
              "  </style>\n",
              "\n",
              "      <script>\n",
              "        const buttonEl =\n",
              "          document.querySelector('#df-956ae7e6-dcd6-4490-9585-29bfb7e556d7 button.colab-df-convert');\n",
              "        buttonEl.style.display =\n",
              "          google.colab.kernel.accessAllowed ? 'block' : 'none';\n",
              "\n",
              "        async function convertToInteractive(key) {\n",
              "          const element = document.querySelector('#df-956ae7e6-dcd6-4490-9585-29bfb7e556d7');\n",
              "          const dataTable =\n",
              "            await google.colab.kernel.invokeFunction('convertToInteractive',\n",
              "                                                     [key], {});\n",
              "          if (!dataTable) return;\n",
              "\n",
              "          const docLinkHtml = 'Like what you see? Visit the ' +\n",
              "            '<a target=\"_blank\" href=https://colab.research.google.com/notebooks/data_table.ipynb>data table notebook</a>'\n",
              "            + ' to learn more about interactive tables.';\n",
              "          element.innerHTML = '';\n",
              "          dataTable['output_type'] = 'display_data';\n",
              "          await google.colab.output.renderOutput(dataTable, element);\n",
              "          const docLink = document.createElement('div');\n",
              "          docLink.innerHTML = docLinkHtml;\n",
              "          element.appendChild(docLink);\n",
              "        }\n",
              "      </script>\n",
              "    </div>\n",
              "  </div>\n",
              "  "
            ]
          },
          "metadata": {},
          "execution_count": 261
        }
      ]
    },
    {
      "cell_type": "code",
      "source": [
        "# create industry indicators for regression \n",
        "\n",
        "df2 = pd.get_dummies(df1, columns = ['ggroup'])\n",
        "df2.head(2)"
      ],
      "metadata": {
        "id": "qW9pTNUiDX5f",
        "colab": {
          "base_uri": "https://localhost:8080/",
          "height": 205
        },
        "outputId": "e32c3eb6-5239-4051-e834-39a7e59b097c"
      },
      "execution_count": null,
      "outputs": [
        {
          "output_type": "execute_result",
          "data": {
            "text/plain": [
              "  Ticker  RetYTD  ggroup_1010  ggroup_1510  ggroup_2010  ggroup_2020  \\\n",
              "0      A -0.2080            0            0            0            0   \n",
              "1     AA  0.4731            0            1            0            0   \n",
              "\n",
              "   ggroup_2030  ggroup_2510  ggroup_2520  ggroup_2530  ...  ggroup_4010  \\\n",
              "0            0            0            0            0  ...            0   \n",
              "1            0            0            0            0  ...            0   \n",
              "\n",
              "   ggroup_4020  ggroup_4030  ggroup_4510  ggroup_4520  ggroup_4530  \\\n",
              "0            0            0            0            0            0   \n",
              "1            0            0            0            0            0   \n",
              "\n",
              "   ggroup_5010  ggroup_5020  ggroup_5510  ggroup_6010  \n",
              "0            0            0            0            0  \n",
              "1            0            0            0            0  \n",
              "\n",
              "[2 rows x 26 columns]"
            ],
            "text/html": [
              "\n",
              "  <div id=\"df-d6a14752-4d82-4f44-8d01-f2a1390b5934\">\n",
              "    <div class=\"colab-df-container\">\n",
              "      <div>\n",
              "<style scoped>\n",
              "    .dataframe tbody tr th:only-of-type {\n",
              "        vertical-align: middle;\n",
              "    }\n",
              "\n",
              "    .dataframe tbody tr th {\n",
              "        vertical-align: top;\n",
              "    }\n",
              "\n",
              "    .dataframe thead th {\n",
              "        text-align: right;\n",
              "    }\n",
              "</style>\n",
              "<table border=\"1\" class=\"dataframe\">\n",
              "  <thead>\n",
              "    <tr style=\"text-align: right;\">\n",
              "      <th></th>\n",
              "      <th>Ticker</th>\n",
              "      <th>RetYTD</th>\n",
              "      <th>ggroup_1010</th>\n",
              "      <th>ggroup_1510</th>\n",
              "      <th>ggroup_2010</th>\n",
              "      <th>ggroup_2020</th>\n",
              "      <th>ggroup_2030</th>\n",
              "      <th>ggroup_2510</th>\n",
              "      <th>ggroup_2520</th>\n",
              "      <th>ggroup_2530</th>\n",
              "      <th>...</th>\n",
              "      <th>ggroup_4010</th>\n",
              "      <th>ggroup_4020</th>\n",
              "      <th>ggroup_4030</th>\n",
              "      <th>ggroup_4510</th>\n",
              "      <th>ggroup_4520</th>\n",
              "      <th>ggroup_4530</th>\n",
              "      <th>ggroup_5010</th>\n",
              "      <th>ggroup_5020</th>\n",
              "      <th>ggroup_5510</th>\n",
              "      <th>ggroup_6010</th>\n",
              "    </tr>\n",
              "  </thead>\n",
              "  <tbody>\n",
              "    <tr>\n",
              "      <th>0</th>\n",
              "      <td>A</td>\n",
              "      <td>-0.2080</td>\n",
              "      <td>0</td>\n",
              "      <td>0</td>\n",
              "      <td>0</td>\n",
              "      <td>0</td>\n",
              "      <td>0</td>\n",
              "      <td>0</td>\n",
              "      <td>0</td>\n",
              "      <td>0</td>\n",
              "      <td>...</td>\n",
              "      <td>0</td>\n",
              "      <td>0</td>\n",
              "      <td>0</td>\n",
              "      <td>0</td>\n",
              "      <td>0</td>\n",
              "      <td>0</td>\n",
              "      <td>0</td>\n",
              "      <td>0</td>\n",
              "      <td>0</td>\n",
              "      <td>0</td>\n",
              "    </tr>\n",
              "    <tr>\n",
              "      <th>1</th>\n",
              "      <td>AA</td>\n",
              "      <td>0.4731</td>\n",
              "      <td>0</td>\n",
              "      <td>1</td>\n",
              "      <td>0</td>\n",
              "      <td>0</td>\n",
              "      <td>0</td>\n",
              "      <td>0</td>\n",
              "      <td>0</td>\n",
              "      <td>0</td>\n",
              "      <td>...</td>\n",
              "      <td>0</td>\n",
              "      <td>0</td>\n",
              "      <td>0</td>\n",
              "      <td>0</td>\n",
              "      <td>0</td>\n",
              "      <td>0</td>\n",
              "      <td>0</td>\n",
              "      <td>0</td>\n",
              "      <td>0</td>\n",
              "      <td>0</td>\n",
              "    </tr>\n",
              "  </tbody>\n",
              "</table>\n",
              "<p>2 rows × 26 columns</p>\n",
              "</div>\n",
              "      <button class=\"colab-df-convert\" onclick=\"convertToInteractive('df-d6a14752-4d82-4f44-8d01-f2a1390b5934')\"\n",
              "              title=\"Convert this dataframe to an interactive table.\"\n",
              "              style=\"display:none;\">\n",
              "        \n",
              "  <svg xmlns=\"http://www.w3.org/2000/svg\" height=\"24px\"viewBox=\"0 0 24 24\"\n",
              "       width=\"24px\">\n",
              "    <path d=\"M0 0h24v24H0V0z\" fill=\"none\"/>\n",
              "    <path d=\"M18.56 5.44l.94 2.06.94-2.06 2.06-.94-2.06-.94-.94-2.06-.94 2.06-2.06.94zm-11 1L8.5 8.5l.94-2.06 2.06-.94-2.06-.94L8.5 2.5l-.94 2.06-2.06.94zm10 10l.94 2.06.94-2.06 2.06-.94-2.06-.94-.94-2.06-.94 2.06-2.06.94z\"/><path d=\"M17.41 7.96l-1.37-1.37c-.4-.4-.92-.59-1.43-.59-.52 0-1.04.2-1.43.59L10.3 9.45l-7.72 7.72c-.78.78-.78 2.05 0 2.83L4 21.41c.39.39.9.59 1.41.59.51 0 1.02-.2 1.41-.59l7.78-7.78 2.81-2.81c.8-.78.8-2.07 0-2.86zM5.41 20L4 18.59l7.72-7.72 1.47 1.35L5.41 20z\"/>\n",
              "  </svg>\n",
              "      </button>\n",
              "      \n",
              "  <style>\n",
              "    .colab-df-container {\n",
              "      display:flex;\n",
              "      flex-wrap:wrap;\n",
              "      gap: 12px;\n",
              "    }\n",
              "\n",
              "    .colab-df-convert {\n",
              "      background-color: #E8F0FE;\n",
              "      border: none;\n",
              "      border-radius: 50%;\n",
              "      cursor: pointer;\n",
              "      display: none;\n",
              "      fill: #1967D2;\n",
              "      height: 32px;\n",
              "      padding: 0 0 0 0;\n",
              "      width: 32px;\n",
              "    }\n",
              "\n",
              "    .colab-df-convert:hover {\n",
              "      background-color: #E2EBFA;\n",
              "      box-shadow: 0px 1px 2px rgba(60, 64, 67, 0.3), 0px 1px 3px 1px rgba(60, 64, 67, 0.15);\n",
              "      fill: #174EA6;\n",
              "    }\n",
              "\n",
              "    [theme=dark] .colab-df-convert {\n",
              "      background-color: #3B4455;\n",
              "      fill: #D2E3FC;\n",
              "    }\n",
              "\n",
              "    [theme=dark] .colab-df-convert:hover {\n",
              "      background-color: #434B5C;\n",
              "      box-shadow: 0px 1px 3px 1px rgba(0, 0, 0, 0.15);\n",
              "      filter: drop-shadow(0px 1px 2px rgba(0, 0, 0, 0.3));\n",
              "      fill: #FFFFFF;\n",
              "    }\n",
              "  </style>\n",
              "\n",
              "      <script>\n",
              "        const buttonEl =\n",
              "          document.querySelector('#df-d6a14752-4d82-4f44-8d01-f2a1390b5934 button.colab-df-convert');\n",
              "        buttonEl.style.display =\n",
              "          google.colab.kernel.accessAllowed ? 'block' : 'none';\n",
              "\n",
              "        async function convertToInteractive(key) {\n",
              "          const element = document.querySelector('#df-d6a14752-4d82-4f44-8d01-f2a1390b5934');\n",
              "          const dataTable =\n",
              "            await google.colab.kernel.invokeFunction('convertToInteractive',\n",
              "                                                     [key], {});\n",
              "          if (!dataTable) return;\n",
              "\n",
              "          const docLinkHtml = 'Like what you see? Visit the ' +\n",
              "            '<a target=\"_blank\" href=https://colab.research.google.com/notebooks/data_table.ipynb>data table notebook</a>'\n",
              "            + ' to learn more about interactive tables.';\n",
              "          element.innerHTML = '';\n",
              "          dataTable['output_type'] = 'display_data';\n",
              "          await google.colab.output.renderOutput(dataTable, element);\n",
              "          const docLink = document.createElement('div');\n",
              "          docLink.innerHTML = docLinkHtml;\n",
              "          element.appendChild(docLink);\n",
              "        }\n",
              "      </script>\n",
              "    </div>\n",
              "  </div>\n",
              "  "
            ]
          },
          "metadata": {},
          "execution_count": 262
        }
      ]
    },
    {
      "cell_type": "code",
      "source": [
        "# Fixed effect regression\n",
        "\n",
        "# define x as a subset of original dataframe\n",
        "x3 = df2.drop(columns=['RetYTD', 'Ticker', 'ggroup_1510'])\n",
        "# add constant \n",
        "x3 = sm.add_constant(x3)\n",
        "# define y as a series\n",
        "y3 = df2['RetYTD']\n",
        "# pass x as a dataframe, while pass y as a series\n",
        "sm.OLS(y3, x3).fit().summary()"
      ],
      "metadata": {
        "colab": {
          "base_uri": "https://localhost:8080/",
          "height": 937
        },
        "id": "s0nUMGCNEH35",
        "outputId": "ccdb4ece-d80a-4edd-a349-68ae0f0b51a6"
      },
      "execution_count": null,
      "outputs": [
        {
          "output_type": "stream",
          "name": "stderr",
          "text": [
            "/usr/local/lib/python3.7/dist-packages/statsmodels/tsa/tsatools.py:117: FutureWarning: In a future version of pandas all arguments of concat except for the argument 'objs' will be keyword-only\n",
            "  x = pd.concat(x[::order], 1)\n"
          ]
        },
        {
          "output_type": "execute_result",
          "data": {
            "text/plain": [
              "<class 'statsmodels.iolib.summary.Summary'>\n",
              "\"\"\"\n",
              "                            OLS Regression Results                            \n",
              "==============================================================================\n",
              "Dep. Variable:                 RetYTD   R-squared:                       0.326\n",
              "Model:                            OLS   Adj. R-squared:                  0.317\n",
              "Method:                 Least Squares   F-statistic:                     39.07\n",
              "Date:                Wed, 27 Apr 2022   Prob (F-statistic):          6.29e-141\n",
              "Time:                        19:08:53   Log-Likelihood:                 357.63\n",
              "No. Observations:                1886   AIC:                            -667.3\n",
              "Df Residuals:                    1862   BIC:                            -534.2\n",
              "Df Model:                          23                                         \n",
              "Covariance Type:            nonrobust                                         \n",
              "===============================================================================\n",
              "                  coef    std err          t      P>|t|      [0.025      0.975]\n",
              "-------------------------------------------------------------------------------\n",
              "const           0.0578      0.021      2.799      0.005       0.017       0.098\n",
              "ggroup_1010     0.4572      0.031     14.692      0.000       0.396       0.518\n",
              "ggroup_2010    -0.1484      0.025     -5.825      0.000      -0.198      -0.098\n",
              "ggroup_2020    -0.0930      0.033     -2.841      0.005      -0.157      -0.029\n",
              "ggroup_2030    -0.1253      0.038     -3.270      0.001      -0.200      -0.050\n",
              "ggroup_2510    -0.2658      0.045     -5.870      0.000      -0.355      -0.177\n",
              "ggroup_2520    -0.2664      0.033     -8.140      0.000      -0.331      -0.202\n",
              "ggroup_2530    -0.1204      0.033     -3.697      0.000      -0.184      -0.057\n",
              "ggroup_2550    -0.2091      0.030     -6.972      0.000      -0.268      -0.150\n",
              "ggroup_3010     0.0205      0.053      0.386      0.700      -0.084       0.125\n",
              "ggroup_3020    -0.0191      0.037     -0.519      0.604      -0.091       0.053\n",
              "ggroup_3030    -0.2116      0.053     -3.989      0.000      -0.316      -0.108\n",
              "ggroup_3510    -0.1243      0.028     -4.500      0.000      -0.178      -0.070\n",
              "ggroup_3520    -0.2218      0.026     -8.529      0.000      -0.273      -0.171\n",
              "ggroup_4010    -0.1457      0.026     -5.697      0.000      -0.196      -0.096\n",
              "ggroup_4020    -0.1804      0.029     -6.121      0.000      -0.238      -0.123\n",
              "ggroup_4030    -0.0541      0.033     -1.636      0.102      -0.119       0.011\n",
              "ggroup_4510    -0.1665      0.028     -5.995      0.000      -0.221      -0.112\n",
              "ggroup_4520    -0.2299      0.030     -7.571      0.000      -0.289      -0.170\n",
              "ggroup_4530    -0.3107      0.034     -9.101      0.000      -0.378      -0.244\n",
              "ggroup_5010    -0.0460      0.060     -0.772      0.440      -0.163       0.071\n",
              "ggroup_5020    -0.1287      0.037     -3.448      0.001      -0.202      -0.056\n",
              "ggroup_5510    -0.0171      0.034     -0.509      0.611      -0.083       0.049\n",
              "ggroup_6010    -0.0937      0.027     -3.450      0.001      -0.147      -0.040\n",
              "==============================================================================\n",
              "Omnibus:                      403.265   Durbin-Watson:                   2.038\n",
              "Prob(Omnibus):                  0.000   Jarque-Bera (JB):             2314.656\n",
              "Skew:                           0.877   Prob(JB):                         0.00\n",
              "Kurtosis:                       8.136   Cond. No.                         23.4\n",
              "==============================================================================\n",
              "\n",
              "Warnings:\n",
              "[1] Standard Errors assume that the covariance matrix of the errors is correctly specified.\n",
              "\"\"\""
            ],
            "text/html": [
              "<table class=\"simpletable\">\n",
              "<caption>OLS Regression Results</caption>\n",
              "<tr>\n",
              "  <th>Dep. Variable:</th>         <td>RetYTD</td>      <th>  R-squared:         </th> <td>   0.326</td> \n",
              "</tr>\n",
              "<tr>\n",
              "  <th>Model:</th>                   <td>OLS</td>       <th>  Adj. R-squared:    </th> <td>   0.317</td> \n",
              "</tr>\n",
              "<tr>\n",
              "  <th>Method:</th>             <td>Least Squares</td>  <th>  F-statistic:       </th> <td>   39.07</td> \n",
              "</tr>\n",
              "<tr>\n",
              "  <th>Date:</th>             <td>Wed, 27 Apr 2022</td> <th>  Prob (F-statistic):</th> <td>6.29e-141</td>\n",
              "</tr>\n",
              "<tr>\n",
              "  <th>Time:</th>                 <td>19:08:53</td>     <th>  Log-Likelihood:    </th> <td>  357.63</td> \n",
              "</tr>\n",
              "<tr>\n",
              "  <th>No. Observations:</th>      <td>  1886</td>      <th>  AIC:               </th> <td>  -667.3</td> \n",
              "</tr>\n",
              "<tr>\n",
              "  <th>Df Residuals:</th>          <td>  1862</td>      <th>  BIC:               </th> <td>  -534.2</td> \n",
              "</tr>\n",
              "<tr>\n",
              "  <th>Df Model:</th>              <td>    23</td>      <th>                     </th>     <td> </td>    \n",
              "</tr>\n",
              "<tr>\n",
              "  <th>Covariance Type:</th>      <td>nonrobust</td>    <th>                     </th>     <td> </td>    \n",
              "</tr>\n",
              "</table>\n",
              "<table class=\"simpletable\">\n",
              "<tr>\n",
              "       <td></td>          <th>coef</th>     <th>std err</th>      <th>t</th>      <th>P>|t|</th>  <th>[0.025</th>    <th>0.975]</th>  \n",
              "</tr>\n",
              "<tr>\n",
              "  <th>const</th>       <td>    0.0578</td> <td>    0.021</td> <td>    2.799</td> <td> 0.005</td> <td>    0.017</td> <td>    0.098</td>\n",
              "</tr>\n",
              "<tr>\n",
              "  <th>ggroup_1010</th> <td>    0.4572</td> <td>    0.031</td> <td>   14.692</td> <td> 0.000</td> <td>    0.396</td> <td>    0.518</td>\n",
              "</tr>\n",
              "<tr>\n",
              "  <th>ggroup_2010</th> <td>   -0.1484</td> <td>    0.025</td> <td>   -5.825</td> <td> 0.000</td> <td>   -0.198</td> <td>   -0.098</td>\n",
              "</tr>\n",
              "<tr>\n",
              "  <th>ggroup_2020</th> <td>   -0.0930</td> <td>    0.033</td> <td>   -2.841</td> <td> 0.005</td> <td>   -0.157</td> <td>   -0.029</td>\n",
              "</tr>\n",
              "<tr>\n",
              "  <th>ggroup_2030</th> <td>   -0.1253</td> <td>    0.038</td> <td>   -3.270</td> <td> 0.001</td> <td>   -0.200</td> <td>   -0.050</td>\n",
              "</tr>\n",
              "<tr>\n",
              "  <th>ggroup_2510</th> <td>   -0.2658</td> <td>    0.045</td> <td>   -5.870</td> <td> 0.000</td> <td>   -0.355</td> <td>   -0.177</td>\n",
              "</tr>\n",
              "<tr>\n",
              "  <th>ggroup_2520</th> <td>   -0.2664</td> <td>    0.033</td> <td>   -8.140</td> <td> 0.000</td> <td>   -0.331</td> <td>   -0.202</td>\n",
              "</tr>\n",
              "<tr>\n",
              "  <th>ggroup_2530</th> <td>   -0.1204</td> <td>    0.033</td> <td>   -3.697</td> <td> 0.000</td> <td>   -0.184</td> <td>   -0.057</td>\n",
              "</tr>\n",
              "<tr>\n",
              "  <th>ggroup_2550</th> <td>   -0.2091</td> <td>    0.030</td> <td>   -6.972</td> <td> 0.000</td> <td>   -0.268</td> <td>   -0.150</td>\n",
              "</tr>\n",
              "<tr>\n",
              "  <th>ggroup_3010</th> <td>    0.0205</td> <td>    0.053</td> <td>    0.386</td> <td> 0.700</td> <td>   -0.084</td> <td>    0.125</td>\n",
              "</tr>\n",
              "<tr>\n",
              "  <th>ggroup_3020</th> <td>   -0.0191</td> <td>    0.037</td> <td>   -0.519</td> <td> 0.604</td> <td>   -0.091</td> <td>    0.053</td>\n",
              "</tr>\n",
              "<tr>\n",
              "  <th>ggroup_3030</th> <td>   -0.2116</td> <td>    0.053</td> <td>   -3.989</td> <td> 0.000</td> <td>   -0.316</td> <td>   -0.108</td>\n",
              "</tr>\n",
              "<tr>\n",
              "  <th>ggroup_3510</th> <td>   -0.1243</td> <td>    0.028</td> <td>   -4.500</td> <td> 0.000</td> <td>   -0.178</td> <td>   -0.070</td>\n",
              "</tr>\n",
              "<tr>\n",
              "  <th>ggroup_3520</th> <td>   -0.2218</td> <td>    0.026</td> <td>   -8.529</td> <td> 0.000</td> <td>   -0.273</td> <td>   -0.171</td>\n",
              "</tr>\n",
              "<tr>\n",
              "  <th>ggroup_4010</th> <td>   -0.1457</td> <td>    0.026</td> <td>   -5.697</td> <td> 0.000</td> <td>   -0.196</td> <td>   -0.096</td>\n",
              "</tr>\n",
              "<tr>\n",
              "  <th>ggroup_4020</th> <td>   -0.1804</td> <td>    0.029</td> <td>   -6.121</td> <td> 0.000</td> <td>   -0.238</td> <td>   -0.123</td>\n",
              "</tr>\n",
              "<tr>\n",
              "  <th>ggroup_4030</th> <td>   -0.0541</td> <td>    0.033</td> <td>   -1.636</td> <td> 0.102</td> <td>   -0.119</td> <td>    0.011</td>\n",
              "</tr>\n",
              "<tr>\n",
              "  <th>ggroup_4510</th> <td>   -0.1665</td> <td>    0.028</td> <td>   -5.995</td> <td> 0.000</td> <td>   -0.221</td> <td>   -0.112</td>\n",
              "</tr>\n",
              "<tr>\n",
              "  <th>ggroup_4520</th> <td>   -0.2299</td> <td>    0.030</td> <td>   -7.571</td> <td> 0.000</td> <td>   -0.289</td> <td>   -0.170</td>\n",
              "</tr>\n",
              "<tr>\n",
              "  <th>ggroup_4530</th> <td>   -0.3107</td> <td>    0.034</td> <td>   -9.101</td> <td> 0.000</td> <td>   -0.378</td> <td>   -0.244</td>\n",
              "</tr>\n",
              "<tr>\n",
              "  <th>ggroup_5010</th> <td>   -0.0460</td> <td>    0.060</td> <td>   -0.772</td> <td> 0.440</td> <td>   -0.163</td> <td>    0.071</td>\n",
              "</tr>\n",
              "<tr>\n",
              "  <th>ggroup_5020</th> <td>   -0.1287</td> <td>    0.037</td> <td>   -3.448</td> <td> 0.001</td> <td>   -0.202</td> <td>   -0.056</td>\n",
              "</tr>\n",
              "<tr>\n",
              "  <th>ggroup_5510</th> <td>   -0.0171</td> <td>    0.034</td> <td>   -0.509</td> <td> 0.611</td> <td>   -0.083</td> <td>    0.049</td>\n",
              "</tr>\n",
              "<tr>\n",
              "  <th>ggroup_6010</th> <td>   -0.0937</td> <td>    0.027</td> <td>   -3.450</td> <td> 0.001</td> <td>   -0.147</td> <td>   -0.040</td>\n",
              "</tr>\n",
              "</table>\n",
              "<table class=\"simpletable\">\n",
              "<tr>\n",
              "  <th>Omnibus:</th>       <td>403.265</td> <th>  Durbin-Watson:     </th> <td>   2.038</td>\n",
              "</tr>\n",
              "<tr>\n",
              "  <th>Prob(Omnibus):</th> <td> 0.000</td>  <th>  Jarque-Bera (JB):  </th> <td>2314.656</td>\n",
              "</tr>\n",
              "<tr>\n",
              "  <th>Skew:</th>          <td> 0.877</td>  <th>  Prob(JB):          </th> <td>    0.00</td>\n",
              "</tr>\n",
              "<tr>\n",
              "  <th>Kurtosis:</th>      <td> 8.136</td>  <th>  Cond. No.          </th> <td>    23.4</td>\n",
              "</tr>\n",
              "</table><br/><br/>Warnings:<br/>[1] Standard Errors assume that the covariance matrix of the errors is correctly specified."
            ]
          },
          "metadata": {},
          "execution_count": 263
        }
      ]
    },
    {
      "cell_type": "markdown",
      "source": [
        "### Regression Summary "
      ],
      "metadata": {
        "id": "xGyImNnfrS3F"
      }
    },
    {
      "cell_type": "markdown",
      "source": [
        "- Ret(i) = a + betas * IndustryDummies + e\n",
        "- Constant is the average stock return for group 1510 (Materials - chemicals/construction materials etc.), which in this case is 0.0578, indicating that the stock performance in this group is doing better than the overall stock market.\n",
        "- To find group, say, 1010's (Energy industry) average stock returns, we would add alpha to group 1010's coefficient. \n",
        "- Industry indicators perform better than risk factors and financial ratios as we see the adjusted R-squared (32%) here is a lot greater than those of the other two regressions. \n",
        "- P-value is insignificant for groups 3010, 3020, 4030, 5010, and 5510. \n",
        "- T-value is highest in group 1010, indicating that group 1010 has the highest predicting power in the regression.\n"
      ],
      "metadata": {
        "id": "qyd5llL4pPkJ"
      }
    },
    {
      "cell_type": "markdown",
      "source": [
        "## Combined Regressions"
      ],
      "metadata": {
        "id": "F4SRaDkpqWH0"
      }
    },
    {
      "cell_type": "code",
      "source": [
        "# Risk \n",
        "output.head(2)"
      ],
      "metadata": {
        "colab": {
          "base_uri": "https://localhost:8080/",
          "height": 112
        },
        "id": "CikhWOFYVeH9",
        "outputId": "0e76707b-8839-41dd-ef8f-184416e8f090"
      },
      "execution_count": null,
      "outputs": [
        {
          "output_type": "execute_result",
          "data": {
            "text/plain": [
              "  Ticker     mktrf       smb       hml\n",
              "0      A  1.014152 -0.253674 -0.143608\n",
              "1     AA  1.984149  0.527862  1.863158"
            ],
            "text/html": [
              "\n",
              "  <div id=\"df-c334dca6-6ed9-4ee9-8a23-29ac67bb3a45\">\n",
              "    <div class=\"colab-df-container\">\n",
              "      <div>\n",
              "<style scoped>\n",
              "    .dataframe tbody tr th:only-of-type {\n",
              "        vertical-align: middle;\n",
              "    }\n",
              "\n",
              "    .dataframe tbody tr th {\n",
              "        vertical-align: top;\n",
              "    }\n",
              "\n",
              "    .dataframe thead th {\n",
              "        text-align: right;\n",
              "    }\n",
              "</style>\n",
              "<table border=\"1\" class=\"dataframe\">\n",
              "  <thead>\n",
              "    <tr style=\"text-align: right;\">\n",
              "      <th></th>\n",
              "      <th>Ticker</th>\n",
              "      <th>mktrf</th>\n",
              "      <th>smb</th>\n",
              "      <th>hml</th>\n",
              "    </tr>\n",
              "  </thead>\n",
              "  <tbody>\n",
              "    <tr>\n",
              "      <th>0</th>\n",
              "      <td>A</td>\n",
              "      <td>1.014152</td>\n",
              "      <td>-0.253674</td>\n",
              "      <td>-0.143608</td>\n",
              "    </tr>\n",
              "    <tr>\n",
              "      <th>1</th>\n",
              "      <td>AA</td>\n",
              "      <td>1.984149</td>\n",
              "      <td>0.527862</td>\n",
              "      <td>1.863158</td>\n",
              "    </tr>\n",
              "  </tbody>\n",
              "</table>\n",
              "</div>\n",
              "      <button class=\"colab-df-convert\" onclick=\"convertToInteractive('df-c334dca6-6ed9-4ee9-8a23-29ac67bb3a45')\"\n",
              "              title=\"Convert this dataframe to an interactive table.\"\n",
              "              style=\"display:none;\">\n",
              "        \n",
              "  <svg xmlns=\"http://www.w3.org/2000/svg\" height=\"24px\"viewBox=\"0 0 24 24\"\n",
              "       width=\"24px\">\n",
              "    <path d=\"M0 0h24v24H0V0z\" fill=\"none\"/>\n",
              "    <path d=\"M18.56 5.44l.94 2.06.94-2.06 2.06-.94-2.06-.94-.94-2.06-.94 2.06-2.06.94zm-11 1L8.5 8.5l.94-2.06 2.06-.94-2.06-.94L8.5 2.5l-.94 2.06-2.06.94zm10 10l.94 2.06.94-2.06 2.06-.94-2.06-.94-.94-2.06-.94 2.06-2.06.94z\"/><path d=\"M17.41 7.96l-1.37-1.37c-.4-.4-.92-.59-1.43-.59-.52 0-1.04.2-1.43.59L10.3 9.45l-7.72 7.72c-.78.78-.78 2.05 0 2.83L4 21.41c.39.39.9.59 1.41.59.51 0 1.02-.2 1.41-.59l7.78-7.78 2.81-2.81c.8-.78.8-2.07 0-2.86zM5.41 20L4 18.59l7.72-7.72 1.47 1.35L5.41 20z\"/>\n",
              "  </svg>\n",
              "      </button>\n",
              "      \n",
              "  <style>\n",
              "    .colab-df-container {\n",
              "      display:flex;\n",
              "      flex-wrap:wrap;\n",
              "      gap: 12px;\n",
              "    }\n",
              "\n",
              "    .colab-df-convert {\n",
              "      background-color: #E8F0FE;\n",
              "      border: none;\n",
              "      border-radius: 50%;\n",
              "      cursor: pointer;\n",
              "      display: none;\n",
              "      fill: #1967D2;\n",
              "      height: 32px;\n",
              "      padding: 0 0 0 0;\n",
              "      width: 32px;\n",
              "    }\n",
              "\n",
              "    .colab-df-convert:hover {\n",
              "      background-color: #E2EBFA;\n",
              "      box-shadow: 0px 1px 2px rgba(60, 64, 67, 0.3), 0px 1px 3px 1px rgba(60, 64, 67, 0.15);\n",
              "      fill: #174EA6;\n",
              "    }\n",
              "\n",
              "    [theme=dark] .colab-df-convert {\n",
              "      background-color: #3B4455;\n",
              "      fill: #D2E3FC;\n",
              "    }\n",
              "\n",
              "    [theme=dark] .colab-df-convert:hover {\n",
              "      background-color: #434B5C;\n",
              "      box-shadow: 0px 1px 3px 1px rgba(0, 0, 0, 0.15);\n",
              "      filter: drop-shadow(0px 1px 2px rgba(0, 0, 0, 0.3));\n",
              "      fill: #FFFFFF;\n",
              "    }\n",
              "  </style>\n",
              "\n",
              "      <script>\n",
              "        const buttonEl =\n",
              "          document.querySelector('#df-c334dca6-6ed9-4ee9-8a23-29ac67bb3a45 button.colab-df-convert');\n",
              "        buttonEl.style.display =\n",
              "          google.colab.kernel.accessAllowed ? 'block' : 'none';\n",
              "\n",
              "        async function convertToInteractive(key) {\n",
              "          const element = document.querySelector('#df-c334dca6-6ed9-4ee9-8a23-29ac67bb3a45');\n",
              "          const dataTable =\n",
              "            await google.colab.kernel.invokeFunction('convertToInteractive',\n",
              "                                                     [key], {});\n",
              "          if (!dataTable) return;\n",
              "\n",
              "          const docLinkHtml = 'Like what you see? Visit the ' +\n",
              "            '<a target=\"_blank\" href=https://colab.research.google.com/notebooks/data_table.ipynb>data table notebook</a>'\n",
              "            + ' to learn more about interactive tables.';\n",
              "          element.innerHTML = '';\n",
              "          dataTable['output_type'] = 'display_data';\n",
              "          await google.colab.output.renderOutput(dataTable, element);\n",
              "          const docLink = document.createElement('div');\n",
              "          docLink.innerHTML = docLinkHtml;\n",
              "          element.appendChild(docLink);\n",
              "        }\n",
              "      </script>\n",
              "    </div>\n",
              "  </div>\n",
              "  "
            ]
          },
          "metadata": {},
          "execution_count": 264
        }
      ]
    },
    {
      "cell_type": "code",
      "source": [
        "# Financial ratios \n",
        "fin_ratios.head(2)"
      ],
      "metadata": {
        "colab": {
          "base_uri": "https://localhost:8080/",
          "height": 112
        },
        "id": "K_s91RLTVrpA",
        "outputId": "9884ef17-cd7a-41f0-93a7-6b4ddb4c78e3"
      },
      "execution_count": null,
      "outputs": [
        {
          "output_type": "execute_result",
          "data": {
            "text/plain": [
              "  Ticker  E/P_ratio  S/P_ratio  EBIT/P_ratio  B/P_ratio       ROA       ROE  \\\n",
              "0      A   0.025079   0.130970      0.029204   0.111695  0.113031  0.025079   \n",
              "1     AA   0.039111   1.107882      0.189357   0.425940  0.028552  0.039111   \n",
              "\n",
              "   Earnings_per_share  D/E_ratio  Net_profit_margin  Debt_ratio  \n",
              "0            4.003865   0.110182           0.191486    0.496590  \n",
              "1            2.330255   0.796906           0.035303    0.581764  "
            ],
            "text/html": [
              "\n",
              "  <div id=\"df-daafbd22-9329-47c1-98f9-9a1647b2b953\">\n",
              "    <div class=\"colab-df-container\">\n",
              "      <div>\n",
              "<style scoped>\n",
              "    .dataframe tbody tr th:only-of-type {\n",
              "        vertical-align: middle;\n",
              "    }\n",
              "\n",
              "    .dataframe tbody tr th {\n",
              "        vertical-align: top;\n",
              "    }\n",
              "\n",
              "    .dataframe thead th {\n",
              "        text-align: right;\n",
              "    }\n",
              "</style>\n",
              "<table border=\"1\" class=\"dataframe\">\n",
              "  <thead>\n",
              "    <tr style=\"text-align: right;\">\n",
              "      <th></th>\n",
              "      <th>Ticker</th>\n",
              "      <th>E/P_ratio</th>\n",
              "      <th>S/P_ratio</th>\n",
              "      <th>EBIT/P_ratio</th>\n",
              "      <th>B/P_ratio</th>\n",
              "      <th>ROA</th>\n",
              "      <th>ROE</th>\n",
              "      <th>Earnings_per_share</th>\n",
              "      <th>D/E_ratio</th>\n",
              "      <th>Net_profit_margin</th>\n",
              "      <th>Debt_ratio</th>\n",
              "    </tr>\n",
              "  </thead>\n",
              "  <tbody>\n",
              "    <tr>\n",
              "      <th>0</th>\n",
              "      <td>A</td>\n",
              "      <td>0.025079</td>\n",
              "      <td>0.130970</td>\n",
              "      <td>0.029204</td>\n",
              "      <td>0.111695</td>\n",
              "      <td>0.113031</td>\n",
              "      <td>0.025079</td>\n",
              "      <td>4.003865</td>\n",
              "      <td>0.110182</td>\n",
              "      <td>0.191486</td>\n",
              "      <td>0.496590</td>\n",
              "    </tr>\n",
              "    <tr>\n",
              "      <th>1</th>\n",
              "      <td>AA</td>\n",
              "      <td>0.039111</td>\n",
              "      <td>1.107882</td>\n",
              "      <td>0.189357</td>\n",
              "      <td>0.425940</td>\n",
              "      <td>0.028552</td>\n",
              "      <td>0.039111</td>\n",
              "      <td>2.330255</td>\n",
              "      <td>0.796906</td>\n",
              "      <td>0.035303</td>\n",
              "      <td>0.581764</td>\n",
              "    </tr>\n",
              "  </tbody>\n",
              "</table>\n",
              "</div>\n",
              "      <button class=\"colab-df-convert\" onclick=\"convertToInteractive('df-daafbd22-9329-47c1-98f9-9a1647b2b953')\"\n",
              "              title=\"Convert this dataframe to an interactive table.\"\n",
              "              style=\"display:none;\">\n",
              "        \n",
              "  <svg xmlns=\"http://www.w3.org/2000/svg\" height=\"24px\"viewBox=\"0 0 24 24\"\n",
              "       width=\"24px\">\n",
              "    <path d=\"M0 0h24v24H0V0z\" fill=\"none\"/>\n",
              "    <path d=\"M18.56 5.44l.94 2.06.94-2.06 2.06-.94-2.06-.94-.94-2.06-.94 2.06-2.06.94zm-11 1L8.5 8.5l.94-2.06 2.06-.94-2.06-.94L8.5 2.5l-.94 2.06-2.06.94zm10 10l.94 2.06.94-2.06 2.06-.94-2.06-.94-.94-2.06-.94 2.06-2.06.94z\"/><path d=\"M17.41 7.96l-1.37-1.37c-.4-.4-.92-.59-1.43-.59-.52 0-1.04.2-1.43.59L10.3 9.45l-7.72 7.72c-.78.78-.78 2.05 0 2.83L4 21.41c.39.39.9.59 1.41.59.51 0 1.02-.2 1.41-.59l7.78-7.78 2.81-2.81c.8-.78.8-2.07 0-2.86zM5.41 20L4 18.59l7.72-7.72 1.47 1.35L5.41 20z\"/>\n",
              "  </svg>\n",
              "      </button>\n",
              "      \n",
              "  <style>\n",
              "    .colab-df-container {\n",
              "      display:flex;\n",
              "      flex-wrap:wrap;\n",
              "      gap: 12px;\n",
              "    }\n",
              "\n",
              "    .colab-df-convert {\n",
              "      background-color: #E8F0FE;\n",
              "      border: none;\n",
              "      border-radius: 50%;\n",
              "      cursor: pointer;\n",
              "      display: none;\n",
              "      fill: #1967D2;\n",
              "      height: 32px;\n",
              "      padding: 0 0 0 0;\n",
              "      width: 32px;\n",
              "    }\n",
              "\n",
              "    .colab-df-convert:hover {\n",
              "      background-color: #E2EBFA;\n",
              "      box-shadow: 0px 1px 2px rgba(60, 64, 67, 0.3), 0px 1px 3px 1px rgba(60, 64, 67, 0.15);\n",
              "      fill: #174EA6;\n",
              "    }\n",
              "\n",
              "    [theme=dark] .colab-df-convert {\n",
              "      background-color: #3B4455;\n",
              "      fill: #D2E3FC;\n",
              "    }\n",
              "\n",
              "    [theme=dark] .colab-df-convert:hover {\n",
              "      background-color: #434B5C;\n",
              "      box-shadow: 0px 1px 3px 1px rgba(0, 0, 0, 0.15);\n",
              "      filter: drop-shadow(0px 1px 2px rgba(0, 0, 0, 0.3));\n",
              "      fill: #FFFFFF;\n",
              "    }\n",
              "  </style>\n",
              "\n",
              "      <script>\n",
              "        const buttonEl =\n",
              "          document.querySelector('#df-daafbd22-9329-47c1-98f9-9a1647b2b953 button.colab-df-convert');\n",
              "        buttonEl.style.display =\n",
              "          google.colab.kernel.accessAllowed ? 'block' : 'none';\n",
              "\n",
              "        async function convertToInteractive(key) {\n",
              "          const element = document.querySelector('#df-daafbd22-9329-47c1-98f9-9a1647b2b953');\n",
              "          const dataTable =\n",
              "            await google.colab.kernel.invokeFunction('convertToInteractive',\n",
              "                                                     [key], {});\n",
              "          if (!dataTable) return;\n",
              "\n",
              "          const docLinkHtml = 'Like what you see? Visit the ' +\n",
              "            '<a target=\"_blank\" href=https://colab.research.google.com/notebooks/data_table.ipynb>data table notebook</a>'\n",
              "            + ' to learn more about interactive tables.';\n",
              "          element.innerHTML = '';\n",
              "          dataTable['output_type'] = 'display_data';\n",
              "          await google.colab.output.renderOutput(dataTable, element);\n",
              "          const docLink = document.createElement('div');\n",
              "          docLink.innerHTML = docLinkHtml;\n",
              "          element.appendChild(docLink);\n",
              "        }\n",
              "      </script>\n",
              "    </div>\n",
              "  </div>\n",
              "  "
            ]
          },
          "metadata": {},
          "execution_count": 265
        }
      ]
    },
    {
      "cell_type": "code",
      "source": [
        "# Industry Indicators \n",
        "df1.head(2)"
      ],
      "metadata": {
        "colab": {
          "base_uri": "https://localhost:8080/",
          "height": 112
        },
        "id": "wjR4jjChVynY",
        "outputId": "9a1d044e-1621-411f-f74a-8e915cc492c3"
      },
      "execution_count": null,
      "outputs": [
        {
          "output_type": "execute_result",
          "data": {
            "text/plain": [
              "  Ticker  RetYTD  ggroup\n",
              "0      A -0.2080    3520\n",
              "1     AA  0.4731    1510"
            ],
            "text/html": [
              "\n",
              "  <div id=\"df-de1b8d5c-d0e2-45a6-9b63-ee00e6cb8f0d\">\n",
              "    <div class=\"colab-df-container\">\n",
              "      <div>\n",
              "<style scoped>\n",
              "    .dataframe tbody tr th:only-of-type {\n",
              "        vertical-align: middle;\n",
              "    }\n",
              "\n",
              "    .dataframe tbody tr th {\n",
              "        vertical-align: top;\n",
              "    }\n",
              "\n",
              "    .dataframe thead th {\n",
              "        text-align: right;\n",
              "    }\n",
              "</style>\n",
              "<table border=\"1\" class=\"dataframe\">\n",
              "  <thead>\n",
              "    <tr style=\"text-align: right;\">\n",
              "      <th></th>\n",
              "      <th>Ticker</th>\n",
              "      <th>RetYTD</th>\n",
              "      <th>ggroup</th>\n",
              "    </tr>\n",
              "  </thead>\n",
              "  <tbody>\n",
              "    <tr>\n",
              "      <th>0</th>\n",
              "      <td>A</td>\n",
              "      <td>-0.2080</td>\n",
              "      <td>3520</td>\n",
              "    </tr>\n",
              "    <tr>\n",
              "      <th>1</th>\n",
              "      <td>AA</td>\n",
              "      <td>0.4731</td>\n",
              "      <td>1510</td>\n",
              "    </tr>\n",
              "  </tbody>\n",
              "</table>\n",
              "</div>\n",
              "      <button class=\"colab-df-convert\" onclick=\"convertToInteractive('df-de1b8d5c-d0e2-45a6-9b63-ee00e6cb8f0d')\"\n",
              "              title=\"Convert this dataframe to an interactive table.\"\n",
              "              style=\"display:none;\">\n",
              "        \n",
              "  <svg xmlns=\"http://www.w3.org/2000/svg\" height=\"24px\"viewBox=\"0 0 24 24\"\n",
              "       width=\"24px\">\n",
              "    <path d=\"M0 0h24v24H0V0z\" fill=\"none\"/>\n",
              "    <path d=\"M18.56 5.44l.94 2.06.94-2.06 2.06-.94-2.06-.94-.94-2.06-.94 2.06-2.06.94zm-11 1L8.5 8.5l.94-2.06 2.06-.94-2.06-.94L8.5 2.5l-.94 2.06-2.06.94zm10 10l.94 2.06.94-2.06 2.06-.94-2.06-.94-.94-2.06-.94 2.06-2.06.94z\"/><path d=\"M17.41 7.96l-1.37-1.37c-.4-.4-.92-.59-1.43-.59-.52 0-1.04.2-1.43.59L10.3 9.45l-7.72 7.72c-.78.78-.78 2.05 0 2.83L4 21.41c.39.39.9.59 1.41.59.51 0 1.02-.2 1.41-.59l7.78-7.78 2.81-2.81c.8-.78.8-2.07 0-2.86zM5.41 20L4 18.59l7.72-7.72 1.47 1.35L5.41 20z\"/>\n",
              "  </svg>\n",
              "      </button>\n",
              "      \n",
              "  <style>\n",
              "    .colab-df-container {\n",
              "      display:flex;\n",
              "      flex-wrap:wrap;\n",
              "      gap: 12px;\n",
              "    }\n",
              "\n",
              "    .colab-df-convert {\n",
              "      background-color: #E8F0FE;\n",
              "      border: none;\n",
              "      border-radius: 50%;\n",
              "      cursor: pointer;\n",
              "      display: none;\n",
              "      fill: #1967D2;\n",
              "      height: 32px;\n",
              "      padding: 0 0 0 0;\n",
              "      width: 32px;\n",
              "    }\n",
              "\n",
              "    .colab-df-convert:hover {\n",
              "      background-color: #E2EBFA;\n",
              "      box-shadow: 0px 1px 2px rgba(60, 64, 67, 0.3), 0px 1px 3px 1px rgba(60, 64, 67, 0.15);\n",
              "      fill: #174EA6;\n",
              "    }\n",
              "\n",
              "    [theme=dark] .colab-df-convert {\n",
              "      background-color: #3B4455;\n",
              "      fill: #D2E3FC;\n",
              "    }\n",
              "\n",
              "    [theme=dark] .colab-df-convert:hover {\n",
              "      background-color: #434B5C;\n",
              "      box-shadow: 0px 1px 3px 1px rgba(0, 0, 0, 0.15);\n",
              "      filter: drop-shadow(0px 1px 2px rgba(0, 0, 0, 0.3));\n",
              "      fill: #FFFFFF;\n",
              "    }\n",
              "  </style>\n",
              "\n",
              "      <script>\n",
              "        const buttonEl =\n",
              "          document.querySelector('#df-de1b8d5c-d0e2-45a6-9b63-ee00e6cb8f0d button.colab-df-convert');\n",
              "        buttonEl.style.display =\n",
              "          google.colab.kernel.accessAllowed ? 'block' : 'none';\n",
              "\n",
              "        async function convertToInteractive(key) {\n",
              "          const element = document.querySelector('#df-de1b8d5c-d0e2-45a6-9b63-ee00e6cb8f0d');\n",
              "          const dataTable =\n",
              "            await google.colab.kernel.invokeFunction('convertToInteractive',\n",
              "                                                     [key], {});\n",
              "          if (!dataTable) return;\n",
              "\n",
              "          const docLinkHtml = 'Like what you see? Visit the ' +\n",
              "            '<a target=\"_blank\" href=https://colab.research.google.com/notebooks/data_table.ipynb>data table notebook</a>'\n",
              "            + ' to learn more about interactive tables.';\n",
              "          element.innerHTML = '';\n",
              "          dataTable['output_type'] = 'display_data';\n",
              "          await google.colab.output.renderOutput(dataTable, element);\n",
              "          const docLink = document.createElement('div');\n",
              "          docLink.innerHTML = docLinkHtml;\n",
              "          element.appendChild(docLink);\n",
              "        }\n",
              "      </script>\n",
              "    </div>\n",
              "  </div>\n",
              "  "
            ]
          },
          "metadata": {},
          "execution_count": 266
        }
      ]
    },
    {
      "cell_type": "code",
      "source": [
        "# Merge all three datasets together on ticker\n",
        "\n",
        "combined = pd.merge(output, fin_ratios, on = 'Ticker', how = 'left')\n",
        "combined = pd.merge(combined, df1, on = 'Ticker', how = 'left')\n",
        "combined.drop('Ticker', axis =1, inplace = True)"
      ],
      "metadata": {
        "id": "5TSoyncZV8ld"
      },
      "execution_count": null,
      "outputs": []
    },
    {
      "cell_type": "code",
      "source": [
        "combined.head(2)"
      ],
      "metadata": {
        "colab": {
          "base_uri": "https://localhost:8080/",
          "height": 112
        },
        "id": "lDDaeY5vWVm6",
        "outputId": "ba15bbdd-1bb8-410c-89c1-ab68d771a0a7"
      },
      "execution_count": null,
      "outputs": [
        {
          "output_type": "execute_result",
          "data": {
            "text/plain": [
              "      mktrf       smb       hml  E/P_ratio  S/P_ratio  EBIT/P_ratio  \\\n",
              "0  1.014152 -0.253674 -0.143608   0.025079   0.130970      0.029204   \n",
              "1  1.984149  0.527862  1.863158   0.039111   1.107882      0.189357   \n",
              "\n",
              "   B/P_ratio       ROA       ROE  Earnings_per_share  D/E_ratio  \\\n",
              "0   0.111695  0.113031  0.025079            4.003865   0.110182   \n",
              "1   0.425940  0.028552  0.039111            2.330255   0.796906   \n",
              "\n",
              "   Net_profit_margin  Debt_ratio  RetYTD  ggroup  \n",
              "0           0.191486    0.496590 -0.2080    3520  \n",
              "1           0.035303    0.581764  0.4731    1510  "
            ],
            "text/html": [
              "\n",
              "  <div id=\"df-7772a5f0-3e90-483f-8128-734e284e3502\">\n",
              "    <div class=\"colab-df-container\">\n",
              "      <div>\n",
              "<style scoped>\n",
              "    .dataframe tbody tr th:only-of-type {\n",
              "        vertical-align: middle;\n",
              "    }\n",
              "\n",
              "    .dataframe tbody tr th {\n",
              "        vertical-align: top;\n",
              "    }\n",
              "\n",
              "    .dataframe thead th {\n",
              "        text-align: right;\n",
              "    }\n",
              "</style>\n",
              "<table border=\"1\" class=\"dataframe\">\n",
              "  <thead>\n",
              "    <tr style=\"text-align: right;\">\n",
              "      <th></th>\n",
              "      <th>mktrf</th>\n",
              "      <th>smb</th>\n",
              "      <th>hml</th>\n",
              "      <th>E/P_ratio</th>\n",
              "      <th>S/P_ratio</th>\n",
              "      <th>EBIT/P_ratio</th>\n",
              "      <th>B/P_ratio</th>\n",
              "      <th>ROA</th>\n",
              "      <th>ROE</th>\n",
              "      <th>Earnings_per_share</th>\n",
              "      <th>D/E_ratio</th>\n",
              "      <th>Net_profit_margin</th>\n",
              "      <th>Debt_ratio</th>\n",
              "      <th>RetYTD</th>\n",
              "      <th>ggroup</th>\n",
              "    </tr>\n",
              "  </thead>\n",
              "  <tbody>\n",
              "    <tr>\n",
              "      <th>0</th>\n",
              "      <td>1.014152</td>\n",
              "      <td>-0.253674</td>\n",
              "      <td>-0.143608</td>\n",
              "      <td>0.025079</td>\n",
              "      <td>0.130970</td>\n",
              "      <td>0.029204</td>\n",
              "      <td>0.111695</td>\n",
              "      <td>0.113031</td>\n",
              "      <td>0.025079</td>\n",
              "      <td>4.003865</td>\n",
              "      <td>0.110182</td>\n",
              "      <td>0.191486</td>\n",
              "      <td>0.496590</td>\n",
              "      <td>-0.2080</td>\n",
              "      <td>3520</td>\n",
              "    </tr>\n",
              "    <tr>\n",
              "      <th>1</th>\n",
              "      <td>1.984149</td>\n",
              "      <td>0.527862</td>\n",
              "      <td>1.863158</td>\n",
              "      <td>0.039111</td>\n",
              "      <td>1.107882</td>\n",
              "      <td>0.189357</td>\n",
              "      <td>0.425940</td>\n",
              "      <td>0.028552</td>\n",
              "      <td>0.039111</td>\n",
              "      <td>2.330255</td>\n",
              "      <td>0.796906</td>\n",
              "      <td>0.035303</td>\n",
              "      <td>0.581764</td>\n",
              "      <td>0.4731</td>\n",
              "      <td>1510</td>\n",
              "    </tr>\n",
              "  </tbody>\n",
              "</table>\n",
              "</div>\n",
              "      <button class=\"colab-df-convert\" onclick=\"convertToInteractive('df-7772a5f0-3e90-483f-8128-734e284e3502')\"\n",
              "              title=\"Convert this dataframe to an interactive table.\"\n",
              "              style=\"display:none;\">\n",
              "        \n",
              "  <svg xmlns=\"http://www.w3.org/2000/svg\" height=\"24px\"viewBox=\"0 0 24 24\"\n",
              "       width=\"24px\">\n",
              "    <path d=\"M0 0h24v24H0V0z\" fill=\"none\"/>\n",
              "    <path d=\"M18.56 5.44l.94 2.06.94-2.06 2.06-.94-2.06-.94-.94-2.06-.94 2.06-2.06.94zm-11 1L8.5 8.5l.94-2.06 2.06-.94-2.06-.94L8.5 2.5l-.94 2.06-2.06.94zm10 10l.94 2.06.94-2.06 2.06-.94-2.06-.94-.94-2.06-.94 2.06-2.06.94z\"/><path d=\"M17.41 7.96l-1.37-1.37c-.4-.4-.92-.59-1.43-.59-.52 0-1.04.2-1.43.59L10.3 9.45l-7.72 7.72c-.78.78-.78 2.05 0 2.83L4 21.41c.39.39.9.59 1.41.59.51 0 1.02-.2 1.41-.59l7.78-7.78 2.81-2.81c.8-.78.8-2.07 0-2.86zM5.41 20L4 18.59l7.72-7.72 1.47 1.35L5.41 20z\"/>\n",
              "  </svg>\n",
              "      </button>\n",
              "      \n",
              "  <style>\n",
              "    .colab-df-container {\n",
              "      display:flex;\n",
              "      flex-wrap:wrap;\n",
              "      gap: 12px;\n",
              "    }\n",
              "\n",
              "    .colab-df-convert {\n",
              "      background-color: #E8F0FE;\n",
              "      border: none;\n",
              "      border-radius: 50%;\n",
              "      cursor: pointer;\n",
              "      display: none;\n",
              "      fill: #1967D2;\n",
              "      height: 32px;\n",
              "      padding: 0 0 0 0;\n",
              "      width: 32px;\n",
              "    }\n",
              "\n",
              "    .colab-df-convert:hover {\n",
              "      background-color: #E2EBFA;\n",
              "      box-shadow: 0px 1px 2px rgba(60, 64, 67, 0.3), 0px 1px 3px 1px rgba(60, 64, 67, 0.15);\n",
              "      fill: #174EA6;\n",
              "    }\n",
              "\n",
              "    [theme=dark] .colab-df-convert {\n",
              "      background-color: #3B4455;\n",
              "      fill: #D2E3FC;\n",
              "    }\n",
              "\n",
              "    [theme=dark] .colab-df-convert:hover {\n",
              "      background-color: #434B5C;\n",
              "      box-shadow: 0px 1px 3px 1px rgba(0, 0, 0, 0.15);\n",
              "      filter: drop-shadow(0px 1px 2px rgba(0, 0, 0, 0.3));\n",
              "      fill: #FFFFFF;\n",
              "    }\n",
              "  </style>\n",
              "\n",
              "      <script>\n",
              "        const buttonEl =\n",
              "          document.querySelector('#df-7772a5f0-3e90-483f-8128-734e284e3502 button.colab-df-convert');\n",
              "        buttonEl.style.display =\n",
              "          google.colab.kernel.accessAllowed ? 'block' : 'none';\n",
              "\n",
              "        async function convertToInteractive(key) {\n",
              "          const element = document.querySelector('#df-7772a5f0-3e90-483f-8128-734e284e3502');\n",
              "          const dataTable =\n",
              "            await google.colab.kernel.invokeFunction('convertToInteractive',\n",
              "                                                     [key], {});\n",
              "          if (!dataTable) return;\n",
              "\n",
              "          const docLinkHtml = 'Like what you see? Visit the ' +\n",
              "            '<a target=\"_blank\" href=https://colab.research.google.com/notebooks/data_table.ipynb>data table notebook</a>'\n",
              "            + ' to learn more about interactive tables.';\n",
              "          element.innerHTML = '';\n",
              "          dataTable['output_type'] = 'display_data';\n",
              "          await google.colab.output.renderOutput(dataTable, element);\n",
              "          const docLink = document.createElement('div');\n",
              "          docLink.innerHTML = docLinkHtml;\n",
              "          element.appendChild(docLink);\n",
              "        }\n",
              "      </script>\n",
              "    </div>\n",
              "  </div>\n",
              "  "
            ]
          },
          "metadata": {},
          "execution_count": 268
        }
      ]
    },
    {
      "cell_type": "code",
      "source": [
        "# get_dummies\n",
        "combined = pd.get_dummies(combined, columns=['ggroup'])\n",
        "combined.head(2)"
      ],
      "metadata": {
        "colab": {
          "base_uri": "https://localhost:8080/",
          "height": 205
        },
        "id": "7i99ZIroW3zI",
        "outputId": "affd81bc-6cb6-4b13-f701-ff4255678799"
      },
      "execution_count": null,
      "outputs": [
        {
          "output_type": "execute_result",
          "data": {
            "text/plain": [
              "      mktrf       smb       hml  E/P_ratio  S/P_ratio  EBIT/P_ratio  \\\n",
              "0  1.014152 -0.253674 -0.143608   0.025079   0.130970      0.029204   \n",
              "1  1.984149  0.527862  1.863158   0.039111   1.107882      0.189357   \n",
              "\n",
              "   B/P_ratio       ROA       ROE  Earnings_per_share  ...  ggroup_4010  \\\n",
              "0   0.111695  0.113031  0.025079            4.003865  ...            0   \n",
              "1   0.425940  0.028552  0.039111            2.330255  ...            0   \n",
              "\n",
              "   ggroup_4020  ggroup_4030  ggroup_4510  ggroup_4520  ggroup_4530  \\\n",
              "0            0            0            0            0            0   \n",
              "1            0            0            0            0            0   \n",
              "\n",
              "   ggroup_5010  ggroup_5020  ggroup_5510  ggroup_6010  \n",
              "0            0            0            0            0  \n",
              "1            0            0            0            0  \n",
              "\n",
              "[2 rows x 38 columns]"
            ],
            "text/html": [
              "\n",
              "  <div id=\"df-6078053e-8c34-49bc-8976-fea5cebd32d5\">\n",
              "    <div class=\"colab-df-container\">\n",
              "      <div>\n",
              "<style scoped>\n",
              "    .dataframe tbody tr th:only-of-type {\n",
              "        vertical-align: middle;\n",
              "    }\n",
              "\n",
              "    .dataframe tbody tr th {\n",
              "        vertical-align: top;\n",
              "    }\n",
              "\n",
              "    .dataframe thead th {\n",
              "        text-align: right;\n",
              "    }\n",
              "</style>\n",
              "<table border=\"1\" class=\"dataframe\">\n",
              "  <thead>\n",
              "    <tr style=\"text-align: right;\">\n",
              "      <th></th>\n",
              "      <th>mktrf</th>\n",
              "      <th>smb</th>\n",
              "      <th>hml</th>\n",
              "      <th>E/P_ratio</th>\n",
              "      <th>S/P_ratio</th>\n",
              "      <th>EBIT/P_ratio</th>\n",
              "      <th>B/P_ratio</th>\n",
              "      <th>ROA</th>\n",
              "      <th>ROE</th>\n",
              "      <th>Earnings_per_share</th>\n",
              "      <th>...</th>\n",
              "      <th>ggroup_4010</th>\n",
              "      <th>ggroup_4020</th>\n",
              "      <th>ggroup_4030</th>\n",
              "      <th>ggroup_4510</th>\n",
              "      <th>ggroup_4520</th>\n",
              "      <th>ggroup_4530</th>\n",
              "      <th>ggroup_5010</th>\n",
              "      <th>ggroup_5020</th>\n",
              "      <th>ggroup_5510</th>\n",
              "      <th>ggroup_6010</th>\n",
              "    </tr>\n",
              "  </thead>\n",
              "  <tbody>\n",
              "    <tr>\n",
              "      <th>0</th>\n",
              "      <td>1.014152</td>\n",
              "      <td>-0.253674</td>\n",
              "      <td>-0.143608</td>\n",
              "      <td>0.025079</td>\n",
              "      <td>0.130970</td>\n",
              "      <td>0.029204</td>\n",
              "      <td>0.111695</td>\n",
              "      <td>0.113031</td>\n",
              "      <td>0.025079</td>\n",
              "      <td>4.003865</td>\n",
              "      <td>...</td>\n",
              "      <td>0</td>\n",
              "      <td>0</td>\n",
              "      <td>0</td>\n",
              "      <td>0</td>\n",
              "      <td>0</td>\n",
              "      <td>0</td>\n",
              "      <td>0</td>\n",
              "      <td>0</td>\n",
              "      <td>0</td>\n",
              "      <td>0</td>\n",
              "    </tr>\n",
              "    <tr>\n",
              "      <th>1</th>\n",
              "      <td>1.984149</td>\n",
              "      <td>0.527862</td>\n",
              "      <td>1.863158</td>\n",
              "      <td>0.039111</td>\n",
              "      <td>1.107882</td>\n",
              "      <td>0.189357</td>\n",
              "      <td>0.425940</td>\n",
              "      <td>0.028552</td>\n",
              "      <td>0.039111</td>\n",
              "      <td>2.330255</td>\n",
              "      <td>...</td>\n",
              "      <td>0</td>\n",
              "      <td>0</td>\n",
              "      <td>0</td>\n",
              "      <td>0</td>\n",
              "      <td>0</td>\n",
              "      <td>0</td>\n",
              "      <td>0</td>\n",
              "      <td>0</td>\n",
              "      <td>0</td>\n",
              "      <td>0</td>\n",
              "    </tr>\n",
              "  </tbody>\n",
              "</table>\n",
              "<p>2 rows × 38 columns</p>\n",
              "</div>\n",
              "      <button class=\"colab-df-convert\" onclick=\"convertToInteractive('df-6078053e-8c34-49bc-8976-fea5cebd32d5')\"\n",
              "              title=\"Convert this dataframe to an interactive table.\"\n",
              "              style=\"display:none;\">\n",
              "        \n",
              "  <svg xmlns=\"http://www.w3.org/2000/svg\" height=\"24px\"viewBox=\"0 0 24 24\"\n",
              "       width=\"24px\">\n",
              "    <path d=\"M0 0h24v24H0V0z\" fill=\"none\"/>\n",
              "    <path d=\"M18.56 5.44l.94 2.06.94-2.06 2.06-.94-2.06-.94-.94-2.06-.94 2.06-2.06.94zm-11 1L8.5 8.5l.94-2.06 2.06-.94-2.06-.94L8.5 2.5l-.94 2.06-2.06.94zm10 10l.94 2.06.94-2.06 2.06-.94-2.06-.94-.94-2.06-.94 2.06-2.06.94z\"/><path d=\"M17.41 7.96l-1.37-1.37c-.4-.4-.92-.59-1.43-.59-.52 0-1.04.2-1.43.59L10.3 9.45l-7.72 7.72c-.78.78-.78 2.05 0 2.83L4 21.41c.39.39.9.59 1.41.59.51 0 1.02-.2 1.41-.59l7.78-7.78 2.81-2.81c.8-.78.8-2.07 0-2.86zM5.41 20L4 18.59l7.72-7.72 1.47 1.35L5.41 20z\"/>\n",
              "  </svg>\n",
              "      </button>\n",
              "      \n",
              "  <style>\n",
              "    .colab-df-container {\n",
              "      display:flex;\n",
              "      flex-wrap:wrap;\n",
              "      gap: 12px;\n",
              "    }\n",
              "\n",
              "    .colab-df-convert {\n",
              "      background-color: #E8F0FE;\n",
              "      border: none;\n",
              "      border-radius: 50%;\n",
              "      cursor: pointer;\n",
              "      display: none;\n",
              "      fill: #1967D2;\n",
              "      height: 32px;\n",
              "      padding: 0 0 0 0;\n",
              "      width: 32px;\n",
              "    }\n",
              "\n",
              "    .colab-df-convert:hover {\n",
              "      background-color: #E2EBFA;\n",
              "      box-shadow: 0px 1px 2px rgba(60, 64, 67, 0.3), 0px 1px 3px 1px rgba(60, 64, 67, 0.15);\n",
              "      fill: #174EA6;\n",
              "    }\n",
              "\n",
              "    [theme=dark] .colab-df-convert {\n",
              "      background-color: #3B4455;\n",
              "      fill: #D2E3FC;\n",
              "    }\n",
              "\n",
              "    [theme=dark] .colab-df-convert:hover {\n",
              "      background-color: #434B5C;\n",
              "      box-shadow: 0px 1px 3px 1px rgba(0, 0, 0, 0.15);\n",
              "      filter: drop-shadow(0px 1px 2px rgba(0, 0, 0, 0.3));\n",
              "      fill: #FFFFFF;\n",
              "    }\n",
              "  </style>\n",
              "\n",
              "      <script>\n",
              "        const buttonEl =\n",
              "          document.querySelector('#df-6078053e-8c34-49bc-8976-fea5cebd32d5 button.colab-df-convert');\n",
              "        buttonEl.style.display =\n",
              "          google.colab.kernel.accessAllowed ? 'block' : 'none';\n",
              "\n",
              "        async function convertToInteractive(key) {\n",
              "          const element = document.querySelector('#df-6078053e-8c34-49bc-8976-fea5cebd32d5');\n",
              "          const dataTable =\n",
              "            await google.colab.kernel.invokeFunction('convertToInteractive',\n",
              "                                                     [key], {});\n",
              "          if (!dataTable) return;\n",
              "\n",
              "          const docLinkHtml = 'Like what you see? Visit the ' +\n",
              "            '<a target=\"_blank\" href=https://colab.research.google.com/notebooks/data_table.ipynb>data table notebook</a>'\n",
              "            + ' to learn more about interactive tables.';\n",
              "          element.innerHTML = '';\n",
              "          dataTable['output_type'] = 'display_data';\n",
              "          await google.colab.output.renderOutput(dataTable, element);\n",
              "          const docLink = document.createElement('div');\n",
              "          docLink.innerHTML = docLinkHtml;\n",
              "          element.appendChild(docLink);\n",
              "        }\n",
              "      </script>\n",
              "    </div>\n",
              "  </div>\n",
              "  "
            ]
          },
          "metadata": {},
          "execution_count": 269
        }
      ]
    },
    {
      "cell_type": "code",
      "source": [
        "# Combined Regression \n",
        "\n",
        "x4 = combined.drop(columns=['RetYTD'])\n",
        "\n",
        "# add constant \n",
        "x4 = sm.add_constant(x4)\n",
        "\n",
        "# Define y2 as a series\n",
        "y4 = combined['RetYTD']\n",
        "model4 = sm.OLS(y4, x4)\n",
        "results4 = model4.fit()\n",
        "print(results4.summary())"
      ],
      "metadata": {
        "colab": {
          "base_uri": "https://localhost:8080/"
        },
        "id": "3J5FDXpwW-FN",
        "outputId": "dae9f749-bbe3-4ba8-ea62-894e15a6cfc4"
      },
      "execution_count": null,
      "outputs": [
        {
          "output_type": "stream",
          "name": "stdout",
          "text": [
            "                            OLS Regression Results                            \n",
            "==============================================================================\n",
            "Dep. Variable:                 RetYTD   R-squared:                       0.388\n",
            "Model:                            OLS   Adj. R-squared:                  0.376\n",
            "Method:                 Least Squares   F-statistic:                     33.48\n",
            "Date:                Wed, 27 Apr 2022   Prob (F-statistic):          1.54e-169\n",
            "Time:                        19:08:54   Log-Likelihood:                 448.99\n",
            "No. Observations:                1886   AIC:                            -826.0\n",
            "Df Residuals:                    1850   BIC:                            -626.5\n",
            "Df Model:                          35                                         \n",
            "Covariance Type:            nonrobust                                         \n",
            "======================================================================================\n",
            "                         coef    std err          t      P>|t|      [0.025      0.975]\n",
            "--------------------------------------------------------------------------------------\n",
            "const                 -0.1519      0.025     -6.060      0.000      -0.201      -0.103\n",
            "mktrf                 -0.0201      0.010     -1.964      0.050      -0.040   -2.52e-05\n",
            "smb                   -0.0210      0.006     -3.392      0.001      -0.033      -0.009\n",
            "hml                    0.0661      0.010      6.860      0.000       0.047       0.085\n",
            "E/P_ratio             -0.0954      0.074     -1.292      0.197      -0.240       0.049\n",
            "S/P_ratio              0.0065      0.010      0.650      0.516      -0.013       0.026\n",
            "EBIT/P_ratio           0.1549      0.112      1.378      0.168      -0.066       0.376\n",
            "B/P_ratio              0.1314      0.024      5.369      0.000       0.083       0.179\n",
            "ROA                    0.0435      0.119      0.365      0.715      -0.190       0.277\n",
            "ROE                   -0.0954      0.074     -1.292      0.197      -0.240       0.049\n",
            "Earnings_per_share    -0.0017      0.001     -1.243      0.214      -0.004       0.001\n",
            "D/E_ratio             -0.0061      0.005     -1.144      0.253      -0.017       0.004\n",
            "Net_profit_margin      0.0753      0.037      2.057      0.040       0.004       0.147\n",
            "Debt_ratio             0.0951      0.032      2.930      0.003       0.031       0.159\n",
            "ggroup_1010            0.5292      0.025     21.117      0.000       0.480       0.578\n",
            "ggroup_1510            0.0898      0.020      4.442      0.000       0.050       0.130\n",
            "ggroup_2010           -0.0338      0.015     -2.225      0.026      -0.064      -0.004\n",
            "ggroup_2020            0.0101      0.024      0.416      0.677      -0.037       0.058\n",
            "ggroup_2030           -0.0444      0.031     -1.454      0.146      -0.104       0.016\n",
            "ggroup_2510           -0.1722      0.038     -4.508      0.000      -0.247      -0.097\n",
            "ggroup_2520           -0.1574      0.025     -6.371      0.000      -0.206      -0.109\n",
            "ggroup_2530         5.042e-05      0.025      0.002      0.998      -0.049       0.049\n",
            "ggroup_2550           -0.0993      0.023     -4.406      0.000      -0.144      -0.055\n",
            "ggroup_3010            0.1068      0.047      2.272      0.023       0.015       0.199\n",
            "ggroup_3020            0.0782      0.029      2.696      0.007       0.021       0.135\n",
            "ggroup_3030           -0.0907      0.046     -1.988      0.047      -0.180      -0.001\n",
            "ggroup_3510            0.0467      0.018      2.531      0.011       0.011       0.083\n",
            "ggroup_3520            0.0163      0.019      0.843      0.399      -0.022       0.054\n",
            "ggroup_4010           -0.1396      0.029     -4.785      0.000      -0.197      -0.082\n",
            "ggroup_4020           -0.1137      0.023     -4.922      0.000      -0.159      -0.068\n",
            "ggroup_4030           -0.0181      0.027     -0.660      0.509      -0.072       0.036\n",
            "ggroup_4510            0.0128      0.019      0.668      0.504      -0.025       0.050\n",
            "ggroup_4520           -0.0988      0.022     -4.586      0.000      -0.141      -0.057\n",
            "ggroup_4530           -0.1378      0.027     -5.192      0.000      -0.190      -0.086\n",
            "ggroup_5010            0.0277      0.052      0.533      0.594      -0.074       0.129\n",
            "ggroup_5020           -0.0015      0.029     -0.051      0.959      -0.059       0.056\n",
            "ggroup_5510            0.0479      0.027      1.806      0.071      -0.004       0.100\n",
            "ggroup_6010           -0.0102      0.019     -0.542      0.588      -0.047       0.027\n",
            "==============================================================================\n",
            "Omnibus:                      455.379   Durbin-Watson:                   2.021\n",
            "Prob(Omnibus):                  0.000   Jarque-Bera (JB):             2738.071\n",
            "Skew:                           0.993   Prob(JB):                         0.00\n",
            "Kurtosis:                       8.559   Cond. No.                     4.13e+16\n",
            "==============================================================================\n",
            "\n",
            "Warnings:\n",
            "[1] Standard Errors assume that the covariance matrix of the errors is correctly specified.\n",
            "[2] The smallest eigenvalue is 4.01e-29. This might indicate that there are\n",
            "strong multicollinearity problems or that the design matrix is singular.\n"
          ]
        },
        {
          "output_type": "stream",
          "name": "stderr",
          "text": [
            "/usr/local/lib/python3.7/dist-packages/statsmodels/tsa/tsatools.py:117: FutureWarning: In a future version of pandas all arguments of concat except for the argument 'objs' will be keyword-only\n",
            "  x = pd.concat(x[::order], 1)\n"
          ]
        }
      ]
    },
    {
      "cell_type": "markdown",
      "source": [
        "### Regression Summary "
      ],
      "metadata": {
        "id": "Apd8My-hXKYT"
      }
    },
    {
      "cell_type": "markdown",
      "source": [
        "- Combining risk, ratios, and industry indicators into one regression, we can see that the Adjusted R-squared (38%) is the highest compared to those of the individual regressions. \n",
        "- Industry indicators do better than other indicators when explaining stock returns. "
      ],
      "metadata": {
        "id": "ZCbbXvjMXMrh"
      }
    },
    {
      "cell_type": "markdown",
      "source": [
        "# Summary and Recommendation"
      ],
      "metadata": {
        "id": "uR7k4y7lBjWU"
      }
    },
    {
      "cell_type": "markdown",
      "source": [
        "### **Summary** \n",
        "In this project I did analysis on stock returns during the early 2022 market shock using three kinds of indicators: Risk factors, Financial ratios, and Industry groups. Results from regression indicate that industry indicators perform best when it comes to explaining stock returns, with the highest adjusted r-squared among the three. Furthermore, R-squared increased after combining all three indicators. "
      ],
      "metadata": {
        "id": "A4po01P1BnNw"
      }
    },
    {
      "cell_type": "markdown",
      "source": [
        "### **Recommendation**\n",
        "\n",
        "Based on the models, it is plausible to say that one should: \n",
        "*   Invest in energy stocks (Oil, gas, consumable fuels) and avoid semiconductor stocks. \n",
        "*   Not put all eggs in one basket. - You cannot accurately predict if energy stocks can make 52% returns\n",
        "*   Use Earnings/Price, EBIT/Price, Book/Price, ROE, Debt, Debt/Equity financial ratios to evaluate stock returns for companies. \n",
        "\n",
        "\n",
        "\n",
        "\n",
        "\n",
        "\n",
        "\n"
      ],
      "metadata": {
        "id": "g-Xycs_4Cx2O"
      }
    },
    {
      "cell_type": "markdown",
      "source": [
        "# Convert to PDF from HTML"
      ],
      "metadata": {
        "id": "0DkHsN0vdSVk"
      }
    },
    {
      "cell_type": "code",
      "source": [
        "# html-pdf\n",
        "# !jupyter nbconvert --to html /content/BA870_Individual_Project.ipynb"
      ],
      "metadata": {
        "colab": {
          "base_uri": "https://localhost:8080/"
        },
        "id": "qnzk7quMdmS-",
        "outputId": "907c18da-9919-486f-f8ad-d66d5317f4ee"
      },
      "execution_count": null,
      "outputs": [
        {
          "output_type": "stream",
          "name": "stdout",
          "text": [
            "[NbConvertApp] Converting notebook /content/BA870_Individual_Project.ipynb to html\n",
            "[NbConvertApp] Writing 683288 bytes to /content/BA870_Individual_Project.html\n"
          ]
        }
      ]
    }
  ]
}